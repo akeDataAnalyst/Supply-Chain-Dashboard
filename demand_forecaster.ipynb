{
 "cells": [
  {
   "cell_type": "code",
   "execution_count": null,
   "id": "64299df1-8bb5-41c7-a1c0-293d55a8f8a1",
   "metadata": {},
   "outputs": [
    {
     "name": "stdout",
     "output_type": "stream",
     "text": [
      "DemandForecaster: Historical demand data loaded and initially cleaned successfully.\n",
      "Loaded 2372000 rows of demand data.\n",
      "Found 2000 unique product-location combinations to forecast.\n",
      "\n",
      "--- Forecasting for Product: P001, Location: L01 ---\n"
     ]
    },
    {
     "name": "stderr",
     "output_type": "stream",
     "text": [
      "09:56:39 - cmdstanpy - INFO - Chain [1] start processing\n",
      "09:56:56 - cmdstanpy - INFO - Chain [1] done processing\n"
     ]
    },
    {
     "name": "stdout",
     "output_type": "stream",
     "text": [
      "\n",
      "--- Forecasting for Product: P001, Location: L02 ---\n"
     ]
    },
    {
     "name": "stderr",
     "output_type": "stream",
     "text": [
      "09:56:58 - cmdstanpy - INFO - Chain [1] start processing\n",
      "09:56:58 - cmdstanpy - INFO - Chain [1] done processing\n"
     ]
    },
    {
     "name": "stdout",
     "output_type": "stream",
     "text": [
      "\n",
      "--- Forecasting for Product: P001, Location: L03 ---\n"
     ]
    },
    {
     "name": "stderr",
     "output_type": "stream",
     "text": [
      "09:57:00 - cmdstanpy - INFO - Chain [1] start processing\n",
      "09:57:00 - cmdstanpy - INFO - Chain [1] done processing\n"
     ]
    },
    {
     "name": "stdout",
     "output_type": "stream",
     "text": [
      "\n",
      "--- Forecasting for Product: P001, Location: L04 ---\n"
     ]
    },
    {
     "name": "stderr",
     "output_type": "stream",
     "text": [
      "09:57:01 - cmdstanpy - INFO - Chain [1] start processing\n",
      "09:57:02 - cmdstanpy - INFO - Chain [1] done processing\n"
     ]
    },
    {
     "name": "stdout",
     "output_type": "stream",
     "text": [
      "\n",
      "--- Forecasting for Product: P001, Location: L05 ---\n"
     ]
    },
    {
     "name": "stderr",
     "output_type": "stream",
     "text": [
      "09:57:03 - cmdstanpy - INFO - Chain [1] start processing\n",
      "09:57:03 - cmdstanpy - INFO - Chain [1] done processing\n"
     ]
    },
    {
     "name": "stdout",
     "output_type": "stream",
     "text": [
      "\n",
      "--- Forecasting for Product: P001, Location: L06 ---\n"
     ]
    },
    {
     "name": "stderr",
     "output_type": "stream",
     "text": [
      "09:57:04 - cmdstanpy - INFO - Chain [1] start processing\n",
      "09:57:04 - cmdstanpy - INFO - Chain [1] done processing\n"
     ]
    },
    {
     "name": "stdout",
     "output_type": "stream",
     "text": [
      "\n",
      "--- Forecasting for Product: P001, Location: L07 ---\n"
     ]
    },
    {
     "name": "stderr",
     "output_type": "stream",
     "text": [
      "09:57:06 - cmdstanpy - INFO - Chain [1] start processing\n",
      "09:57:06 - cmdstanpy - INFO - Chain [1] done processing\n"
     ]
    },
    {
     "name": "stdout",
     "output_type": "stream",
     "text": [
      "\n",
      "--- Forecasting for Product: P001, Location: L08 ---\n"
     ]
    },
    {
     "name": "stderr",
     "output_type": "stream",
     "text": [
      "09:57:07 - cmdstanpy - INFO - Chain [1] start processing\n",
      "09:57:07 - cmdstanpy - INFO - Chain [1] done processing\n"
     ]
    },
    {
     "name": "stdout",
     "output_type": "stream",
     "text": [
      "\n",
      "--- Forecasting for Product: P001, Location: L09 ---\n"
     ]
    },
    {
     "name": "stderr",
     "output_type": "stream",
     "text": [
      "09:57:09 - cmdstanpy - INFO - Chain [1] start processing\n",
      "09:57:09 - cmdstanpy - INFO - Chain [1] done processing\n"
     ]
    },
    {
     "name": "stdout",
     "output_type": "stream",
     "text": [
      "\n",
      "--- Forecasting for Product: P001, Location: L10 ---\n"
     ]
    },
    {
     "name": "stderr",
     "output_type": "stream",
     "text": [
      "09:57:10 - cmdstanpy - INFO - Chain [1] start processing\n",
      "09:57:10 - cmdstanpy - INFO - Chain [1] done processing\n"
     ]
    },
    {
     "name": "stdout",
     "output_type": "stream",
     "text": [
      "\n",
      "--- Forecasting for Product: P001, Location: L11 ---\n"
     ]
    },
    {
     "name": "stderr",
     "output_type": "stream",
     "text": [
      "09:57:12 - cmdstanpy - INFO - Chain [1] start processing\n",
      "09:57:12 - cmdstanpy - INFO - Chain [1] done processing\n"
     ]
    },
    {
     "name": "stdout",
     "output_type": "stream",
     "text": [
      "\n",
      "--- Forecasting for Product: P001, Location: L12 ---\n"
     ]
    },
    {
     "name": "stderr",
     "output_type": "stream",
     "text": [
      "09:57:13 - cmdstanpy - INFO - Chain [1] start processing\n",
      "09:57:13 - cmdstanpy - INFO - Chain [1] done processing\n"
     ]
    },
    {
     "name": "stdout",
     "output_type": "stream",
     "text": [
      "\n",
      "--- Forecasting for Product: P001, Location: L13 ---\n"
     ]
    },
    {
     "name": "stderr",
     "output_type": "stream",
     "text": [
      "09:57:15 - cmdstanpy - INFO - Chain [1] start processing\n",
      "09:57:15 - cmdstanpy - INFO - Chain [1] done processing\n"
     ]
    },
    {
     "name": "stdout",
     "output_type": "stream",
     "text": [
      "\n",
      "--- Forecasting for Product: P001, Location: L14 ---\n"
     ]
    },
    {
     "name": "stderr",
     "output_type": "stream",
     "text": [
      "09:57:16 - cmdstanpy - INFO - Chain [1] start processing\n",
      "09:57:16 - cmdstanpy - INFO - Chain [1] done processing\n"
     ]
    },
    {
     "name": "stdout",
     "output_type": "stream",
     "text": [
      "\n",
      "--- Forecasting for Product: P001, Location: L15 ---\n"
     ]
    },
    {
     "name": "stderr",
     "output_type": "stream",
     "text": [
      "09:57:17 - cmdstanpy - INFO - Chain [1] start processing\n",
      "09:57:18 - cmdstanpy - INFO - Chain [1] done processing\n"
     ]
    },
    {
     "name": "stdout",
     "output_type": "stream",
     "text": [
      "\n",
      "--- Forecasting for Product: P001, Location: L16 ---\n"
     ]
    },
    {
     "name": "stderr",
     "output_type": "stream",
     "text": [
      "09:57:19 - cmdstanpy - INFO - Chain [1] start processing\n",
      "09:57:19 - cmdstanpy - INFO - Chain [1] done processing\n"
     ]
    },
    {
     "name": "stdout",
     "output_type": "stream",
     "text": [
      "\n",
      "--- Forecasting for Product: P001, Location: L17 ---\n"
     ]
    },
    {
     "name": "stderr",
     "output_type": "stream",
     "text": [
      "09:57:21 - cmdstanpy - INFO - Chain [1] start processing\n",
      "09:57:21 - cmdstanpy - INFO - Chain [1] done processing\n"
     ]
    },
    {
     "name": "stdout",
     "output_type": "stream",
     "text": [
      "\n",
      "--- Forecasting for Product: P001, Location: L18 ---\n"
     ]
    },
    {
     "name": "stderr",
     "output_type": "stream",
     "text": [
      "09:57:22 - cmdstanpy - INFO - Chain [1] start processing\n",
      "09:57:23 - cmdstanpy - INFO - Chain [1] done processing\n"
     ]
    },
    {
     "name": "stdout",
     "output_type": "stream",
     "text": [
      "\n",
      "--- Forecasting for Product: P001, Location: L19 ---\n"
     ]
    },
    {
     "name": "stderr",
     "output_type": "stream",
     "text": [
      "09:57:25 - cmdstanpy - INFO - Chain [1] start processing\n",
      "09:57:25 - cmdstanpy - INFO - Chain [1] done processing\n"
     ]
    },
    {
     "name": "stdout",
     "output_type": "stream",
     "text": [
      "\n",
      "--- Forecasting for Product: P001, Location: L20 ---\n"
     ]
    },
    {
     "name": "stderr",
     "output_type": "stream",
     "text": [
      "09:57:27 - cmdstanpy - INFO - Chain [1] start processing\n",
      "09:57:27 - cmdstanpy - INFO - Chain [1] done processing\n"
     ]
    },
    {
     "name": "stdout",
     "output_type": "stream",
     "text": [
      "\n",
      "--- Forecasting for Product: P002, Location: L01 ---\n"
     ]
    },
    {
     "name": "stderr",
     "output_type": "stream",
     "text": [
      "09:57:28 - cmdstanpy - INFO - Chain [1] start processing\n",
      "09:57:31 - cmdstanpy - INFO - Chain [1] done processing\n"
     ]
    },
    {
     "name": "stdout",
     "output_type": "stream",
     "text": [
      "\n",
      "--- Forecasting for Product: P002, Location: L02 ---\n"
     ]
    },
    {
     "name": "stderr",
     "output_type": "stream",
     "text": [
      "09:57:32 - cmdstanpy - INFO - Chain [1] start processing\n",
      "09:57:33 - cmdstanpy - INFO - Chain [1] done processing\n"
     ]
    },
    {
     "name": "stdout",
     "output_type": "stream",
     "text": [
      "\n",
      "--- Forecasting for Product: P002, Location: L03 ---\n"
     ]
    },
    {
     "name": "stderr",
     "output_type": "stream",
     "text": [
      "09:57:34 - cmdstanpy - INFO - Chain [1] start processing\n",
      "09:57:34 - cmdstanpy - INFO - Chain [1] done processing\n"
     ]
    },
    {
     "name": "stdout",
     "output_type": "stream",
     "text": [
      "\n",
      "--- Forecasting for Product: P002, Location: L04 ---\n"
     ]
    },
    {
     "name": "stderr",
     "output_type": "stream",
     "text": [
      "09:57:36 - cmdstanpy - INFO - Chain [1] start processing\n",
      "09:57:36 - cmdstanpy - INFO - Chain [1] done processing\n"
     ]
    },
    {
     "name": "stdout",
     "output_type": "stream",
     "text": [
      "\n",
      "--- Forecasting for Product: P002, Location: L05 ---\n"
     ]
    },
    {
     "name": "stderr",
     "output_type": "stream",
     "text": [
      "09:57:37 - cmdstanpy - INFO - Chain [1] start processing\n",
      "09:57:38 - cmdstanpy - INFO - Chain [1] done processing\n"
     ]
    },
    {
     "name": "stdout",
     "output_type": "stream",
     "text": [
      "\n",
      "--- Forecasting for Product: P002, Location: L06 ---\n"
     ]
    },
    {
     "name": "stderr",
     "output_type": "stream",
     "text": [
      "09:57:39 - cmdstanpy - INFO - Chain [1] start processing\n",
      "09:57:40 - cmdstanpy - INFO - Chain [1] done processing\n"
     ]
    },
    {
     "name": "stdout",
     "output_type": "stream",
     "text": [
      "\n",
      "--- Forecasting for Product: P002, Location: L07 ---\n"
     ]
    },
    {
     "name": "stderr",
     "output_type": "stream",
     "text": [
      "09:57:41 - cmdstanpy - INFO - Chain [1] start processing\n",
      "09:57:41 - cmdstanpy - INFO - Chain [1] done processing\n"
     ]
    },
    {
     "name": "stdout",
     "output_type": "stream",
     "text": [
      "\n",
      "--- Forecasting for Product: P002, Location: L08 ---\n"
     ]
    },
    {
     "name": "stderr",
     "output_type": "stream",
     "text": [
      "09:57:43 - cmdstanpy - INFO - Chain [1] start processing\n",
      "09:57:43 - cmdstanpy - INFO - Chain [1] done processing\n"
     ]
    },
    {
     "name": "stdout",
     "output_type": "stream",
     "text": [
      "\n",
      "--- Forecasting for Product: P002, Location: L09 ---\n"
     ]
    },
    {
     "name": "stderr",
     "output_type": "stream",
     "text": [
      "09:57:44 - cmdstanpy - INFO - Chain [1] start processing\n",
      "09:57:45 - cmdstanpy - INFO - Chain [1] done processing\n"
     ]
    },
    {
     "name": "stdout",
     "output_type": "stream",
     "text": [
      "\n",
      "--- Forecasting for Product: P002, Location: L10 ---\n"
     ]
    },
    {
     "name": "stderr",
     "output_type": "stream",
     "text": [
      "09:57:46 - cmdstanpy - INFO - Chain [1] start processing\n",
      "09:57:46 - cmdstanpy - INFO - Chain [1] done processing\n"
     ]
    },
    {
     "name": "stdout",
     "output_type": "stream",
     "text": [
      "\n",
      "--- Forecasting for Product: P002, Location: L11 ---\n"
     ]
    },
    {
     "name": "stderr",
     "output_type": "stream",
     "text": [
      "09:57:48 - cmdstanpy - INFO - Chain [1] start processing\n",
      "09:57:48 - cmdstanpy - INFO - Chain [1] done processing\n"
     ]
    },
    {
     "name": "stdout",
     "output_type": "stream",
     "text": [
      "\n",
      "--- Forecasting for Product: P002, Location: L12 ---\n"
     ]
    },
    {
     "name": "stderr",
     "output_type": "stream",
     "text": [
      "09:57:49 - cmdstanpy - INFO - Chain [1] start processing\n",
      "09:57:50 - cmdstanpy - INFO - Chain [1] done processing\n"
     ]
    },
    {
     "name": "stdout",
     "output_type": "stream",
     "text": [
      "\n",
      "--- Forecasting for Product: P002, Location: L13 ---\n"
     ]
    },
    {
     "name": "stderr",
     "output_type": "stream",
     "text": [
      "09:57:51 - cmdstanpy - INFO - Chain [1] start processing\n",
      "09:57:51 - cmdstanpy - INFO - Chain [1] done processing\n"
     ]
    },
    {
     "name": "stdout",
     "output_type": "stream",
     "text": [
      "\n",
      "--- Forecasting for Product: P002, Location: L14 ---\n"
     ]
    },
    {
     "name": "stderr",
     "output_type": "stream",
     "text": [
      "09:57:52 - cmdstanpy - INFO - Chain [1] start processing\n",
      "09:57:53 - cmdstanpy - INFO - Chain [1] done processing\n"
     ]
    },
    {
     "name": "stdout",
     "output_type": "stream",
     "text": [
      "\n",
      "--- Forecasting for Product: P002, Location: L15 ---\n"
     ]
    },
    {
     "name": "stderr",
     "output_type": "stream",
     "text": [
      "09:57:54 - cmdstanpy - INFO - Chain [1] start processing\n",
      "09:57:54 - cmdstanpy - INFO - Chain [1] done processing\n"
     ]
    },
    {
     "name": "stdout",
     "output_type": "stream",
     "text": [
      "\n",
      "--- Forecasting for Product: P002, Location: L16 ---\n"
     ]
    },
    {
     "name": "stderr",
     "output_type": "stream",
     "text": [
      "09:57:55 - cmdstanpy - INFO - Chain [1] start processing\n",
      "09:57:56 - cmdstanpy - INFO - Chain [1] done processing\n"
     ]
    },
    {
     "name": "stdout",
     "output_type": "stream",
     "text": [
      "\n",
      "--- Forecasting for Product: P002, Location: L17 ---\n"
     ]
    },
    {
     "name": "stderr",
     "output_type": "stream",
     "text": [
      "09:57:57 - cmdstanpy - INFO - Chain [1] start processing\n",
      "09:57:57 - cmdstanpy - INFO - Chain [1] done processing\n"
     ]
    },
    {
     "name": "stdout",
     "output_type": "stream",
     "text": [
      "\n",
      "--- Forecasting for Product: P002, Location: L18 ---\n"
     ]
    },
    {
     "name": "stderr",
     "output_type": "stream",
     "text": [
      "09:57:58 - cmdstanpy - INFO - Chain [1] start processing\n",
      "09:57:59 - cmdstanpy - INFO - Chain [1] done processing\n"
     ]
    },
    {
     "name": "stdout",
     "output_type": "stream",
     "text": [
      "\n",
      "--- Forecasting for Product: P002, Location: L19 ---\n"
     ]
    },
    {
     "name": "stderr",
     "output_type": "stream",
     "text": [
      "09:58:00 - cmdstanpy - INFO - Chain [1] start processing\n",
      "09:58:00 - cmdstanpy - INFO - Chain [1] done processing\n"
     ]
    },
    {
     "name": "stdout",
     "output_type": "stream",
     "text": [
      "\n",
      "--- Forecasting for Product: P002, Location: L20 ---\n"
     ]
    },
    {
     "name": "stderr",
     "output_type": "stream",
     "text": [
      "09:58:02 - cmdstanpy - INFO - Chain [1] start processing\n",
      "09:58:02 - cmdstanpy - INFO - Chain [1] done processing\n"
     ]
    },
    {
     "name": "stdout",
     "output_type": "stream",
     "text": [
      "\n",
      "--- Forecasting for Product: P003, Location: L01 ---\n"
     ]
    },
    {
     "name": "stderr",
     "output_type": "stream",
     "text": [
      "09:58:03 - cmdstanpy - INFO - Chain [1] start processing\n",
      "09:58:04 - cmdstanpy - INFO - Chain [1] done processing\n"
     ]
    },
    {
     "name": "stdout",
     "output_type": "stream",
     "text": [
      "\n",
      "--- Forecasting for Product: P003, Location: L02 ---\n"
     ]
    },
    {
     "name": "stderr",
     "output_type": "stream",
     "text": [
      "09:58:05 - cmdstanpy - INFO - Chain [1] start processing\n",
      "09:58:06 - cmdstanpy - INFO - Chain [1] done processing\n"
     ]
    },
    {
     "name": "stdout",
     "output_type": "stream",
     "text": [
      "\n",
      "--- Forecasting for Product: P003, Location: L03 ---\n"
     ]
    },
    {
     "name": "stderr",
     "output_type": "stream",
     "text": [
      "09:58:07 - cmdstanpy - INFO - Chain [1] start processing\n",
      "09:58:07 - cmdstanpy - INFO - Chain [1] done processing\n"
     ]
    },
    {
     "name": "stdout",
     "output_type": "stream",
     "text": [
      "\n",
      "--- Forecasting for Product: P003, Location: L04 ---\n"
     ]
    },
    {
     "name": "stderr",
     "output_type": "stream",
     "text": [
      "09:58:09 - cmdstanpy - INFO - Chain [1] start processing\n",
      "09:58:09 - cmdstanpy - INFO - Chain [1] done processing\n"
     ]
    },
    {
     "name": "stdout",
     "output_type": "stream",
     "text": [
      "\n",
      "--- Forecasting for Product: P003, Location: L05 ---\n"
     ]
    },
    {
     "name": "stderr",
     "output_type": "stream",
     "text": [
      "09:58:10 - cmdstanpy - INFO - Chain [1] start processing\n",
      "09:58:11 - cmdstanpy - INFO - Chain [1] done processing\n"
     ]
    },
    {
     "name": "stdout",
     "output_type": "stream",
     "text": [
      "\n",
      "--- Forecasting for Product: P003, Location: L06 ---\n"
     ]
    },
    {
     "name": "stderr",
     "output_type": "stream",
     "text": [
      "09:58:12 - cmdstanpy - INFO - Chain [1] start processing\n",
      "09:58:12 - cmdstanpy - INFO - Chain [1] done processing\n"
     ]
    },
    {
     "name": "stdout",
     "output_type": "stream",
     "text": [
      "\n",
      "--- Forecasting for Product: P003, Location: L07 ---\n"
     ]
    },
    {
     "name": "stderr",
     "output_type": "stream",
     "text": [
      "09:58:14 - cmdstanpy - INFO - Chain [1] start processing\n",
      "09:58:14 - cmdstanpy - INFO - Chain [1] done processing\n"
     ]
    },
    {
     "name": "stdout",
     "output_type": "stream",
     "text": [
      "\n",
      "--- Forecasting for Product: P003, Location: L08 ---\n"
     ]
    },
    {
     "name": "stderr",
     "output_type": "stream",
     "text": [
      "09:58:15 - cmdstanpy - INFO - Chain [1] start processing\n",
      "09:58:16 - cmdstanpy - INFO - Chain [1] done processing\n"
     ]
    },
    {
     "name": "stdout",
     "output_type": "stream",
     "text": [
      "\n",
      "--- Forecasting for Product: P003, Location: L09 ---\n"
     ]
    },
    {
     "name": "stderr",
     "output_type": "stream",
     "text": [
      "09:58:17 - cmdstanpy - INFO - Chain [1] start processing\n",
      "09:58:17 - cmdstanpy - INFO - Chain [1] done processing\n"
     ]
    },
    {
     "name": "stdout",
     "output_type": "stream",
     "text": [
      "\n",
      "--- Forecasting for Product: P003, Location: L10 ---\n"
     ]
    },
    {
     "name": "stderr",
     "output_type": "stream",
     "text": [
      "09:58:19 - cmdstanpy - INFO - Chain [1] start processing\n",
      "09:58:19 - cmdstanpy - INFO - Chain [1] done processing\n"
     ]
    },
    {
     "name": "stdout",
     "output_type": "stream",
     "text": [
      "\n",
      "--- Forecasting for Product: P003, Location: L11 ---\n"
     ]
    },
    {
     "name": "stderr",
     "output_type": "stream",
     "text": [
      "09:58:20 - cmdstanpy - INFO - Chain [1] start processing\n",
      "09:58:21 - cmdstanpy - INFO - Chain [1] done processing\n"
     ]
    },
    {
     "name": "stdout",
     "output_type": "stream",
     "text": [
      "\n",
      "--- Forecasting for Product: P003, Location: L12 ---\n"
     ]
    },
    {
     "name": "stderr",
     "output_type": "stream",
     "text": [
      "09:58:22 - cmdstanpy - INFO - Chain [1] start processing\n",
      "09:58:22 - cmdstanpy - INFO - Chain [1] done processing\n"
     ]
    },
    {
     "name": "stdout",
     "output_type": "stream",
     "text": [
      "\n",
      "--- Forecasting for Product: P003, Location: L13 ---\n"
     ]
    },
    {
     "name": "stderr",
     "output_type": "stream",
     "text": [
      "09:58:24 - cmdstanpy - INFO - Chain [1] start processing\n",
      "09:58:24 - cmdstanpy - INFO - Chain [1] done processing\n"
     ]
    },
    {
     "name": "stdout",
     "output_type": "stream",
     "text": [
      "\n",
      "--- Forecasting for Product: P003, Location: L14 ---\n"
     ]
    },
    {
     "name": "stderr",
     "output_type": "stream",
     "text": [
      "09:58:26 - cmdstanpy - INFO - Chain [1] start processing\n",
      "09:58:26 - cmdstanpy - INFO - Chain [1] done processing\n"
     ]
    },
    {
     "name": "stdout",
     "output_type": "stream",
     "text": [
      "\n",
      "--- Forecasting for Product: P003, Location: L15 ---\n"
     ]
    },
    {
     "name": "stderr",
     "output_type": "stream",
     "text": [
      "09:58:27 - cmdstanpy - INFO - Chain [1] start processing\n",
      "09:58:28 - cmdstanpy - INFO - Chain [1] done processing\n"
     ]
    },
    {
     "name": "stdout",
     "output_type": "stream",
     "text": [
      "\n",
      "--- Forecasting for Product: P003, Location: L16 ---\n"
     ]
    },
    {
     "name": "stderr",
     "output_type": "stream",
     "text": [
      "09:58:30 - cmdstanpy - INFO - Chain [1] start processing\n",
      "09:58:31 - cmdstanpy - INFO - Chain [1] done processing\n"
     ]
    },
    {
     "name": "stdout",
     "output_type": "stream",
     "text": [
      "\n",
      "--- Forecasting for Product: P003, Location: L17 ---\n"
     ]
    },
    {
     "name": "stderr",
     "output_type": "stream",
     "text": [
      "09:58:33 - cmdstanpy - INFO - Chain [1] start processing\n",
      "09:58:33 - cmdstanpy - INFO - Chain [1] done processing\n"
     ]
    },
    {
     "name": "stdout",
     "output_type": "stream",
     "text": [
      "\n",
      "--- Forecasting for Product: P003, Location: L18 ---\n"
     ]
    },
    {
     "name": "stderr",
     "output_type": "stream",
     "text": [
      "09:58:34 - cmdstanpy - INFO - Chain [1] start processing\n",
      "09:58:35 - cmdstanpy - INFO - Chain [1] done processing\n"
     ]
    },
    {
     "name": "stdout",
     "output_type": "stream",
     "text": [
      "\n",
      "--- Forecasting for Product: P003, Location: L19 ---\n"
     ]
    },
    {
     "name": "stderr",
     "output_type": "stream",
     "text": [
      "09:58:36 - cmdstanpy - INFO - Chain [1] start processing\n",
      "09:58:36 - cmdstanpy - INFO - Chain [1] done processing\n"
     ]
    },
    {
     "name": "stdout",
     "output_type": "stream",
     "text": [
      "\n",
      "--- Forecasting for Product: P003, Location: L20 ---\n"
     ]
    },
    {
     "name": "stderr",
     "output_type": "stream",
     "text": [
      "09:58:38 - cmdstanpy - INFO - Chain [1] start processing\n",
      "09:58:38 - cmdstanpy - INFO - Chain [1] done processing\n"
     ]
    },
    {
     "name": "stdout",
     "output_type": "stream",
     "text": [
      "\n",
      "--- Forecasting for Product: P004, Location: L01 ---\n"
     ]
    },
    {
     "name": "stderr",
     "output_type": "stream",
     "text": [
      "09:58:39 - cmdstanpy - INFO - Chain [1] start processing\n",
      "09:58:39 - cmdstanpy - INFO - Chain [1] done processing\n"
     ]
    },
    {
     "name": "stdout",
     "output_type": "stream",
     "text": [
      "\n",
      "--- Forecasting for Product: P004, Location: L02 ---\n"
     ]
    },
    {
     "name": "stderr",
     "output_type": "stream",
     "text": [
      "09:58:41 - cmdstanpy - INFO - Chain [1] start processing\n",
      "09:58:41 - cmdstanpy - INFO - Chain [1] done processing\n"
     ]
    },
    {
     "name": "stdout",
     "output_type": "stream",
     "text": [
      "\n",
      "--- Forecasting for Product: P004, Location: L03 ---\n"
     ]
    },
    {
     "name": "stderr",
     "output_type": "stream",
     "text": [
      "09:58:42 - cmdstanpy - INFO - Chain [1] start processing\n",
      "09:58:43 - cmdstanpy - INFO - Chain [1] done processing\n"
     ]
    },
    {
     "name": "stdout",
     "output_type": "stream",
     "text": [
      "\n",
      "--- Forecasting for Product: P004, Location: L04 ---\n"
     ]
    },
    {
     "name": "stderr",
     "output_type": "stream",
     "text": [
      "09:58:44 - cmdstanpy - INFO - Chain [1] start processing\n",
      "09:58:44 - cmdstanpy - INFO - Chain [1] done processing\n"
     ]
    },
    {
     "name": "stdout",
     "output_type": "stream",
     "text": [
      "\n",
      "--- Forecasting for Product: P004, Location: L05 ---\n"
     ]
    },
    {
     "name": "stderr",
     "output_type": "stream",
     "text": [
      "09:58:45 - cmdstanpy - INFO - Chain [1] start processing\n",
      "09:58:46 - cmdstanpy - INFO - Chain [1] done processing\n"
     ]
    },
    {
     "name": "stdout",
     "output_type": "stream",
     "text": [
      "\n",
      "--- Forecasting for Product: P004, Location: L06 ---\n"
     ]
    },
    {
     "name": "stderr",
     "output_type": "stream",
     "text": [
      "09:58:47 - cmdstanpy - INFO - Chain [1] start processing\n",
      "09:58:47 - cmdstanpy - INFO - Chain [1] done processing\n"
     ]
    },
    {
     "name": "stdout",
     "output_type": "stream",
     "text": [
      "\n",
      "--- Forecasting for Product: P004, Location: L07 ---\n"
     ]
    },
    {
     "name": "stderr",
     "output_type": "stream",
     "text": [
      "09:58:48 - cmdstanpy - INFO - Chain [1] start processing\n",
      "09:58:49 - cmdstanpy - INFO - Chain [1] done processing\n"
     ]
    },
    {
     "name": "stdout",
     "output_type": "stream",
     "text": [
      "\n",
      "--- Forecasting for Product: P004, Location: L08 ---\n"
     ]
    },
    {
     "name": "stderr",
     "output_type": "stream",
     "text": [
      "09:58:51 - cmdstanpy - INFO - Chain [1] start processing\n",
      "09:58:51 - cmdstanpy - INFO - Chain [1] done processing\n"
     ]
    },
    {
     "name": "stdout",
     "output_type": "stream",
     "text": [
      "\n",
      "--- Forecasting for Product: P004, Location: L09 ---\n"
     ]
    },
    {
     "name": "stderr",
     "output_type": "stream",
     "text": [
      "09:58:52 - cmdstanpy - INFO - Chain [1] start processing\n",
      "09:58:53 - cmdstanpy - INFO - Chain [1] done processing\n"
     ]
    },
    {
     "name": "stdout",
     "output_type": "stream",
     "text": [
      "\n",
      "--- Forecasting for Product: P004, Location: L10 ---\n"
     ]
    },
    {
     "name": "stderr",
     "output_type": "stream",
     "text": [
      "09:58:54 - cmdstanpy - INFO - Chain [1] start processing\n",
      "09:58:54 - cmdstanpy - INFO - Chain [1] done processing\n"
     ]
    },
    {
     "name": "stdout",
     "output_type": "stream",
     "text": [
      "\n",
      "--- Forecasting for Product: P004, Location: L11 ---\n"
     ]
    },
    {
     "name": "stderr",
     "output_type": "stream",
     "text": [
      "09:58:56 - cmdstanpy - INFO - Chain [1] start processing\n",
      "09:58:56 - cmdstanpy - INFO - Chain [1] done processing\n"
     ]
    },
    {
     "name": "stdout",
     "output_type": "stream",
     "text": [
      "\n",
      "--- Forecasting for Product: P004, Location: L12 ---\n"
     ]
    },
    {
     "name": "stderr",
     "output_type": "stream",
     "text": [
      "09:58:57 - cmdstanpy - INFO - Chain [1] start processing\n",
      "09:58:58 - cmdstanpy - INFO - Chain [1] done processing\n"
     ]
    },
    {
     "name": "stdout",
     "output_type": "stream",
     "text": [
      "\n",
      "--- Forecasting for Product: P004, Location: L13 ---\n"
     ]
    },
    {
     "name": "stderr",
     "output_type": "stream",
     "text": [
      "09:58:59 - cmdstanpy - INFO - Chain [1] start processing\n",
      "09:59:00 - cmdstanpy - INFO - Chain [1] done processing\n"
     ]
    },
    {
     "name": "stdout",
     "output_type": "stream",
     "text": [
      "\n",
      "--- Forecasting for Product: P004, Location: L14 ---\n"
     ]
    },
    {
     "name": "stderr",
     "output_type": "stream",
     "text": [
      "09:59:01 - cmdstanpy - INFO - Chain [1] start processing\n",
      "09:59:01 - cmdstanpy - INFO - Chain [1] done processing\n"
     ]
    },
    {
     "name": "stdout",
     "output_type": "stream",
     "text": [
      "\n",
      "--- Forecasting for Product: P004, Location: L15 ---\n"
     ]
    },
    {
     "name": "stderr",
     "output_type": "stream",
     "text": [
      "09:59:03 - cmdstanpy - INFO - Chain [1] start processing\n",
      "09:59:03 - cmdstanpy - INFO - Chain [1] done processing\n"
     ]
    },
    {
     "name": "stdout",
     "output_type": "stream",
     "text": [
      "\n",
      "--- Forecasting for Product: P004, Location: L16 ---\n"
     ]
    },
    {
     "name": "stderr",
     "output_type": "stream",
     "text": [
      "09:59:05 - cmdstanpy - INFO - Chain [1] start processing\n",
      "09:59:05 - cmdstanpy - INFO - Chain [1] done processing\n"
     ]
    },
    {
     "name": "stdout",
     "output_type": "stream",
     "text": [
      "\n",
      "--- Forecasting for Product: P004, Location: L17 ---\n"
     ]
    },
    {
     "name": "stderr",
     "output_type": "stream",
     "text": [
      "09:59:06 - cmdstanpy - INFO - Chain [1] start processing\n",
      "09:59:07 - cmdstanpy - INFO - Chain [1] done processing\n"
     ]
    },
    {
     "name": "stdout",
     "output_type": "stream",
     "text": [
      "\n",
      "--- Forecasting for Product: P004, Location: L18 ---\n"
     ]
    },
    {
     "name": "stderr",
     "output_type": "stream",
     "text": [
      "09:59:08 - cmdstanpy - INFO - Chain [1] start processing\n",
      "09:59:09 - cmdstanpy - INFO - Chain [1] done processing\n"
     ]
    },
    {
     "name": "stdout",
     "output_type": "stream",
     "text": [
      "\n",
      "--- Forecasting for Product: P004, Location: L19 ---\n"
     ]
    },
    {
     "name": "stderr",
     "output_type": "stream",
     "text": [
      "09:59:10 - cmdstanpy - INFO - Chain [1] start processing\n",
      "09:59:10 - cmdstanpy - INFO - Chain [1] done processing\n"
     ]
    },
    {
     "name": "stdout",
     "output_type": "stream",
     "text": [
      "\n",
      "--- Forecasting for Product: P004, Location: L20 ---\n"
     ]
    },
    {
     "name": "stderr",
     "output_type": "stream",
     "text": [
      "09:59:11 - cmdstanpy - INFO - Chain [1] start processing\n",
      "09:59:12 - cmdstanpy - INFO - Chain [1] done processing\n"
     ]
    },
    {
     "name": "stdout",
     "output_type": "stream",
     "text": [
      "\n",
      "--- Forecasting for Product: P005, Location: L01 ---\n"
     ]
    },
    {
     "name": "stderr",
     "output_type": "stream",
     "text": [
      "09:59:13 - cmdstanpy - INFO - Chain [1] start processing\n",
      "09:59:14 - cmdstanpy - INFO - Chain [1] done processing\n"
     ]
    },
    {
     "name": "stdout",
     "output_type": "stream",
     "text": [
      "\n",
      "--- Forecasting for Product: P005, Location: L02 ---\n"
     ]
    },
    {
     "name": "stderr",
     "output_type": "stream",
     "text": [
      "09:59:15 - cmdstanpy - INFO - Chain [1] start processing\n",
      "09:59:15 - cmdstanpy - INFO - Chain [1] done processing\n"
     ]
    },
    {
     "name": "stdout",
     "output_type": "stream",
     "text": [
      "\n",
      "--- Forecasting for Product: P005, Location: L03 ---\n"
     ]
    },
    {
     "name": "stderr",
     "output_type": "stream",
     "text": [
      "09:59:17 - cmdstanpy - INFO - Chain [1] start processing\n",
      "09:59:17 - cmdstanpy - INFO - Chain [1] done processing\n"
     ]
    },
    {
     "name": "stdout",
     "output_type": "stream",
     "text": [
      "\n",
      "--- Forecasting for Product: P005, Location: L04 ---\n"
     ]
    },
    {
     "name": "stderr",
     "output_type": "stream",
     "text": [
      "09:59:18 - cmdstanpy - INFO - Chain [1] start processing\n",
      "09:59:19 - cmdstanpy - INFO - Chain [1] done processing\n"
     ]
    },
    {
     "name": "stdout",
     "output_type": "stream",
     "text": [
      "\n",
      "--- Forecasting for Product: P005, Location: L05 ---\n"
     ]
    },
    {
     "name": "stderr",
     "output_type": "stream",
     "text": [
      "09:59:20 - cmdstanpy - INFO - Chain [1] start processing\n",
      "09:59:20 - cmdstanpy - INFO - Chain [1] done processing\n"
     ]
    },
    {
     "name": "stdout",
     "output_type": "stream",
     "text": [
      "\n",
      "--- Forecasting for Product: P005, Location: L06 ---\n"
     ]
    },
    {
     "name": "stderr",
     "output_type": "stream",
     "text": [
      "09:59:21 - cmdstanpy - INFO - Chain [1] start processing\n",
      "09:59:22 - cmdstanpy - INFO - Chain [1] done processing\n"
     ]
    },
    {
     "name": "stdout",
     "output_type": "stream",
     "text": [
      "\n",
      "--- Forecasting for Product: P005, Location: L07 ---\n"
     ]
    },
    {
     "name": "stderr",
     "output_type": "stream",
     "text": [
      "09:59:23 - cmdstanpy - INFO - Chain [1] start processing\n",
      "09:59:23 - cmdstanpy - INFO - Chain [1] done processing\n"
     ]
    },
    {
     "name": "stdout",
     "output_type": "stream",
     "text": [
      "\n",
      "--- Forecasting for Product: P005, Location: L08 ---\n"
     ]
    },
    {
     "name": "stderr",
     "output_type": "stream",
     "text": [
      "09:59:25 - cmdstanpy - INFO - Chain [1] start processing\n",
      "09:59:25 - cmdstanpy - INFO - Chain [1] done processing\n"
     ]
    },
    {
     "name": "stdout",
     "output_type": "stream",
     "text": [
      "\n",
      "--- Forecasting for Product: P005, Location: L09 ---\n"
     ]
    },
    {
     "name": "stderr",
     "output_type": "stream",
     "text": [
      "09:59:26 - cmdstanpy - INFO - Chain [1] start processing\n",
      "09:59:26 - cmdstanpy - INFO - Chain [1] done processing\n"
     ]
    },
    {
     "name": "stdout",
     "output_type": "stream",
     "text": [
      "\n",
      "--- Forecasting for Product: P005, Location: L10 ---\n"
     ]
    },
    {
     "name": "stderr",
     "output_type": "stream",
     "text": [
      "09:59:28 - cmdstanpy - INFO - Chain [1] start processing\n",
      "09:59:28 - cmdstanpy - INFO - Chain [1] done processing\n"
     ]
    },
    {
     "name": "stdout",
     "output_type": "stream",
     "text": [
      "\n",
      "--- Forecasting for Product: P005, Location: L11 ---\n"
     ]
    },
    {
     "name": "stderr",
     "output_type": "stream",
     "text": [
      "09:59:30 - cmdstanpy - INFO - Chain [1] start processing\n",
      "09:59:31 - cmdstanpy - INFO - Chain [1] done processing\n"
     ]
    },
    {
     "name": "stdout",
     "output_type": "stream",
     "text": [
      "\n",
      "--- Forecasting for Product: P005, Location: L12 ---\n"
     ]
    },
    {
     "name": "stderr",
     "output_type": "stream",
     "text": [
      "09:59:32 - cmdstanpy - INFO - Chain [1] start processing\n",
      "09:59:33 - cmdstanpy - INFO - Chain [1] done processing\n"
     ]
    },
    {
     "name": "stdout",
     "output_type": "stream",
     "text": [
      "\n",
      "--- Forecasting for Product: P005, Location: L13 ---\n"
     ]
    },
    {
     "name": "stderr",
     "output_type": "stream",
     "text": [
      "09:59:34 - cmdstanpy - INFO - Chain [1] start processing\n",
      "09:59:34 - cmdstanpy - INFO - Chain [1] done processing\n"
     ]
    },
    {
     "name": "stdout",
     "output_type": "stream",
     "text": [
      "\n",
      "--- Forecasting for Product: P005, Location: L14 ---\n"
     ]
    },
    {
     "name": "stderr",
     "output_type": "stream",
     "text": [
      "09:59:36 - cmdstanpy - INFO - Chain [1] start processing\n",
      "09:59:36 - cmdstanpy - INFO - Chain [1] done processing\n"
     ]
    },
    {
     "name": "stdout",
     "output_type": "stream",
     "text": [
      "\n",
      "--- Forecasting for Product: P005, Location: L15 ---\n"
     ]
    },
    {
     "name": "stderr",
     "output_type": "stream",
     "text": [
      "09:59:38 - cmdstanpy - INFO - Chain [1] start processing\n",
      "09:59:38 - cmdstanpy - INFO - Chain [1] done processing\n"
     ]
    },
    {
     "name": "stdout",
     "output_type": "stream",
     "text": [
      "\n",
      "--- Forecasting for Product: P005, Location: L16 ---\n"
     ]
    },
    {
     "name": "stderr",
     "output_type": "stream",
     "text": [
      "09:59:39 - cmdstanpy - INFO - Chain [1] start processing\n",
      "09:59:40 - cmdstanpy - INFO - Chain [1] done processing\n"
     ]
    },
    {
     "name": "stdout",
     "output_type": "stream",
     "text": [
      "\n",
      "--- Forecasting for Product: P005, Location: L17 ---\n"
     ]
    },
    {
     "name": "stderr",
     "output_type": "stream",
     "text": [
      "09:59:41 - cmdstanpy - INFO - Chain [1] start processing\n",
      "09:59:41 - cmdstanpy - INFO - Chain [1] done processing\n"
     ]
    },
    {
     "name": "stdout",
     "output_type": "stream",
     "text": [
      "\n",
      "--- Forecasting for Product: P005, Location: L18 ---\n"
     ]
    },
    {
     "name": "stderr",
     "output_type": "stream",
     "text": [
      "09:59:43 - cmdstanpy - INFO - Chain [1] start processing\n",
      "09:59:43 - cmdstanpy - INFO - Chain [1] done processing\n"
     ]
    },
    {
     "name": "stdout",
     "output_type": "stream",
     "text": [
      "\n",
      "--- Forecasting for Product: P005, Location: L19 ---\n"
     ]
    },
    {
     "name": "stderr",
     "output_type": "stream",
     "text": [
      "09:59:44 - cmdstanpy - INFO - Chain [1] start processing\n",
      "09:59:45 - cmdstanpy - INFO - Chain [1] done processing\n"
     ]
    },
    {
     "name": "stdout",
     "output_type": "stream",
     "text": [
      "\n",
      "--- Forecasting for Product: P005, Location: L20 ---\n"
     ]
    },
    {
     "name": "stderr",
     "output_type": "stream",
     "text": [
      "09:59:46 - cmdstanpy - INFO - Chain [1] start processing\n",
      "09:59:46 - cmdstanpy - INFO - Chain [1] done processing\n"
     ]
    },
    {
     "name": "stdout",
     "output_type": "stream",
     "text": [
      "\n",
      "--- Forecasting for Product: P006, Location: L01 ---\n"
     ]
    },
    {
     "name": "stderr",
     "output_type": "stream",
     "text": [
      "09:59:47 - cmdstanpy - INFO - Chain [1] start processing\n",
      "09:59:48 - cmdstanpy - INFO - Chain [1] done processing\n"
     ]
    },
    {
     "name": "stdout",
     "output_type": "stream",
     "text": [
      "\n",
      "--- Forecasting for Product: P006, Location: L02 ---\n"
     ]
    },
    {
     "name": "stderr",
     "output_type": "stream",
     "text": [
      "09:59:49 - cmdstanpy - INFO - Chain [1] start processing\n",
      "09:59:49 - cmdstanpy - INFO - Chain [1] done processing\n"
     ]
    },
    {
     "name": "stdout",
     "output_type": "stream",
     "text": [
      "\n",
      "--- Forecasting for Product: P006, Location: L03 ---\n"
     ]
    },
    {
     "name": "stderr",
     "output_type": "stream",
     "text": [
      "09:59:51 - cmdstanpy - INFO - Chain [1] start processing\n",
      "09:59:51 - cmdstanpy - INFO - Chain [1] done processing\n"
     ]
    },
    {
     "name": "stdout",
     "output_type": "stream",
     "text": [
      "\n",
      "--- Forecasting for Product: P006, Location: L04 ---\n"
     ]
    },
    {
     "name": "stderr",
     "output_type": "stream",
     "text": [
      "09:59:52 - cmdstanpy - INFO - Chain [1] start processing\n",
      "09:59:53 - cmdstanpy - INFO - Chain [1] done processing\n"
     ]
    },
    {
     "name": "stdout",
     "output_type": "stream",
     "text": [
      "\n",
      "--- Forecasting for Product: P006, Location: L05 ---\n"
     ]
    },
    {
     "name": "stderr",
     "output_type": "stream",
     "text": [
      "09:59:54 - cmdstanpy - INFO - Chain [1] start processing\n",
      "09:59:55 - cmdstanpy - INFO - Chain [1] done processing\n"
     ]
    },
    {
     "name": "stdout",
     "output_type": "stream",
     "text": [
      "\n",
      "--- Forecasting for Product: P006, Location: L06 ---\n"
     ]
    },
    {
     "name": "stderr",
     "output_type": "stream",
     "text": [
      "09:59:56 - cmdstanpy - INFO - Chain [1] start processing\n",
      "09:59:56 - cmdstanpy - INFO - Chain [1] done processing\n"
     ]
    },
    {
     "name": "stdout",
     "output_type": "stream",
     "text": [
      "\n",
      "--- Forecasting for Product: P006, Location: L07 ---\n"
     ]
    },
    {
     "name": "stderr",
     "output_type": "stream",
     "text": [
      "09:59:58 - cmdstanpy - INFO - Chain [1] start processing\n",
      "09:59:58 - cmdstanpy - INFO - Chain [1] done processing\n"
     ]
    },
    {
     "name": "stdout",
     "output_type": "stream",
     "text": [
      "\n",
      "--- Forecasting for Product: P006, Location: L08 ---\n"
     ]
    },
    {
     "name": "stderr",
     "output_type": "stream",
     "text": [
      "09:59:59 - cmdstanpy - INFO - Chain [1] start processing\n",
      "09:59:59 - cmdstanpy - INFO - Chain [1] done processing\n"
     ]
    },
    {
     "name": "stdout",
     "output_type": "stream",
     "text": [
      "\n",
      "--- Forecasting for Product: P006, Location: L09 ---\n"
     ]
    },
    {
     "name": "stderr",
     "output_type": "stream",
     "text": [
      "10:00:01 - cmdstanpy - INFO - Chain [1] start processing\n",
      "10:00:01 - cmdstanpy - INFO - Chain [1] done processing\n"
     ]
    },
    {
     "name": "stdout",
     "output_type": "stream",
     "text": [
      "\n",
      "--- Forecasting for Product: P006, Location: L10 ---\n"
     ]
    },
    {
     "name": "stderr",
     "output_type": "stream",
     "text": [
      "10:00:03 - cmdstanpy - INFO - Chain [1] start processing\n",
      "10:00:04 - cmdstanpy - INFO - Chain [1] done processing\n"
     ]
    },
    {
     "name": "stdout",
     "output_type": "stream",
     "text": [
      "\n",
      "--- Forecasting for Product: P006, Location: L11 ---\n"
     ]
    },
    {
     "name": "stderr",
     "output_type": "stream",
     "text": [
      "10:00:05 - cmdstanpy - INFO - Chain [1] start processing\n",
      "10:00:05 - cmdstanpy - INFO - Chain [1] done processing\n"
     ]
    },
    {
     "name": "stdout",
     "output_type": "stream",
     "text": [
      "\n",
      "--- Forecasting for Product: P006, Location: L12 ---\n"
     ]
    },
    {
     "name": "stderr",
     "output_type": "stream",
     "text": [
      "10:00:07 - cmdstanpy - INFO - Chain [1] start processing\n",
      "10:00:08 - cmdstanpy - INFO - Chain [1] done processing\n"
     ]
    },
    {
     "name": "stdout",
     "output_type": "stream",
     "text": [
      "\n",
      "--- Forecasting for Product: P006, Location: L13 ---\n"
     ]
    },
    {
     "name": "stderr",
     "output_type": "stream",
     "text": [
      "10:00:09 - cmdstanpy - INFO - Chain [1] start processing\n",
      "10:00:10 - cmdstanpy - INFO - Chain [1] done processing\n"
     ]
    },
    {
     "name": "stdout",
     "output_type": "stream",
     "text": [
      "\n",
      "--- Forecasting for Product: P006, Location: L14 ---\n"
     ]
    },
    {
     "name": "stderr",
     "output_type": "stream",
     "text": [
      "10:00:11 - cmdstanpy - INFO - Chain [1] start processing\n",
      "10:00:12 - cmdstanpy - INFO - Chain [1] done processing\n"
     ]
    },
    {
     "name": "stdout",
     "output_type": "stream",
     "text": [
      "\n",
      "--- Forecasting for Product: P006, Location: L15 ---\n"
     ]
    },
    {
     "name": "stderr",
     "output_type": "stream",
     "text": [
      "10:00:13 - cmdstanpy - INFO - Chain [1] start processing\n",
      "10:00:13 - cmdstanpy - INFO - Chain [1] done processing\n"
     ]
    },
    {
     "name": "stdout",
     "output_type": "stream",
     "text": [
      "\n",
      "--- Forecasting for Product: P006, Location: L16 ---\n"
     ]
    },
    {
     "name": "stderr",
     "output_type": "stream",
     "text": [
      "10:00:15 - cmdstanpy - INFO - Chain [1] start processing\n",
      "10:00:15 - cmdstanpy - INFO - Chain [1] done processing\n"
     ]
    },
    {
     "name": "stdout",
     "output_type": "stream",
     "text": [
      "\n",
      "--- Forecasting for Product: P006, Location: L17 ---\n"
     ]
    },
    {
     "name": "stderr",
     "output_type": "stream",
     "text": [
      "10:00:16 - cmdstanpy - INFO - Chain [1] start processing\n",
      "10:00:17 - cmdstanpy - INFO - Chain [1] done processing\n"
     ]
    },
    {
     "name": "stdout",
     "output_type": "stream",
     "text": [
      "\n",
      "--- Forecasting for Product: P006, Location: L18 ---\n"
     ]
    },
    {
     "name": "stderr",
     "output_type": "stream",
     "text": [
      "10:00:18 - cmdstanpy - INFO - Chain [1] start processing\n",
      "10:00:18 - cmdstanpy - INFO - Chain [1] done processing\n"
     ]
    },
    {
     "name": "stdout",
     "output_type": "stream",
     "text": [
      "\n",
      "--- Forecasting for Product: P006, Location: L19 ---\n"
     ]
    },
    {
     "name": "stderr",
     "output_type": "stream",
     "text": [
      "10:00:20 - cmdstanpy - INFO - Chain [1] start processing\n",
      "10:00:20 - cmdstanpy - INFO - Chain [1] done processing\n"
     ]
    },
    {
     "name": "stdout",
     "output_type": "stream",
     "text": [
      "\n",
      "--- Forecasting for Product: P006, Location: L20 ---\n"
     ]
    },
    {
     "name": "stderr",
     "output_type": "stream",
     "text": [
      "10:00:23 - cmdstanpy - INFO - Chain [1] start processing\n",
      "10:00:23 - cmdstanpy - INFO - Chain [1] done processing\n"
     ]
    },
    {
     "name": "stdout",
     "output_type": "stream",
     "text": [
      "\n",
      "--- Forecasting for Product: P007, Location: L01 ---\n"
     ]
    },
    {
     "name": "stderr",
     "output_type": "stream",
     "text": [
      "10:00:25 - cmdstanpy - INFO - Chain [1] start processing\n",
      "10:00:25 - cmdstanpy - INFO - Chain [1] done processing\n"
     ]
    },
    {
     "name": "stdout",
     "output_type": "stream",
     "text": [
      "\n",
      "--- Forecasting for Product: P007, Location: L02 ---\n"
     ]
    },
    {
     "name": "stderr",
     "output_type": "stream",
     "text": [
      "10:00:26 - cmdstanpy - INFO - Chain [1] start processing\n",
      "10:00:27 - cmdstanpy - INFO - Chain [1] done processing\n"
     ]
    },
    {
     "name": "stdout",
     "output_type": "stream",
     "text": [
      "\n",
      "--- Forecasting for Product: P007, Location: L03 ---\n"
     ]
    },
    {
     "name": "stderr",
     "output_type": "stream",
     "text": [
      "10:00:29 - cmdstanpy - INFO - Chain [1] start processing\n",
      "10:00:29 - cmdstanpy - INFO - Chain [1] done processing\n"
     ]
    },
    {
     "name": "stdout",
     "output_type": "stream",
     "text": [
      "\n",
      "--- Forecasting for Product: P007, Location: L04 ---\n"
     ]
    },
    {
     "name": "stderr",
     "output_type": "stream",
     "text": [
      "10:00:31 - cmdstanpy - INFO - Chain [1] start processing\n",
      "10:00:32 - cmdstanpy - INFO - Chain [1] done processing\n"
     ]
    },
    {
     "name": "stdout",
     "output_type": "stream",
     "text": [
      "\n",
      "--- Forecasting for Product: P007, Location: L05 ---\n"
     ]
    },
    {
     "name": "stderr",
     "output_type": "stream",
     "text": [
      "10:00:33 - cmdstanpy - INFO - Chain [1] start processing\n",
      "10:00:34 - cmdstanpy - INFO - Chain [1] done processing\n"
     ]
    },
    {
     "name": "stdout",
     "output_type": "stream",
     "text": [
      "\n",
      "--- Forecasting for Product: P007, Location: L06 ---\n"
     ]
    },
    {
     "name": "stderr",
     "output_type": "stream",
     "text": [
      "10:00:36 - cmdstanpy - INFO - Chain [1] start processing\n",
      "10:00:36 - cmdstanpy - INFO - Chain [1] done processing\n"
     ]
    },
    {
     "name": "stdout",
     "output_type": "stream",
     "text": [
      "\n",
      "--- Forecasting for Product: P007, Location: L07 ---\n"
     ]
    },
    {
     "name": "stderr",
     "output_type": "stream",
     "text": [
      "10:00:38 - cmdstanpy - INFO - Chain [1] start processing\n",
      "10:00:38 - cmdstanpy - INFO - Chain [1] done processing\n"
     ]
    },
    {
     "name": "stdout",
     "output_type": "stream",
     "text": [
      "\n",
      "--- Forecasting for Product: P007, Location: L08 ---\n"
     ]
    },
    {
     "name": "stderr",
     "output_type": "stream",
     "text": [
      "10:00:40 - cmdstanpy - INFO - Chain [1] start processing\n",
      "10:00:40 - cmdstanpy - INFO - Chain [1] done processing\n"
     ]
    },
    {
     "name": "stdout",
     "output_type": "stream",
     "text": [
      "\n",
      "--- Forecasting for Product: P007, Location: L09 ---\n"
     ]
    },
    {
     "name": "stderr",
     "output_type": "stream",
     "text": [
      "10:00:42 - cmdstanpy - INFO - Chain [1] start processing\n",
      "10:00:43 - cmdstanpy - INFO - Chain [1] done processing\n"
     ]
    },
    {
     "name": "stdout",
     "output_type": "stream",
     "text": [
      "\n",
      "--- Forecasting for Product: P007, Location: L10 ---\n"
     ]
    },
    {
     "name": "stderr",
     "output_type": "stream",
     "text": [
      "10:00:44 - cmdstanpy - INFO - Chain [1] start processing\n",
      "10:00:44 - cmdstanpy - INFO - Chain [1] done processing\n"
     ]
    },
    {
     "name": "stdout",
     "output_type": "stream",
     "text": [
      "\n",
      "--- Forecasting for Product: P007, Location: L11 ---\n"
     ]
    },
    {
     "name": "stderr",
     "output_type": "stream",
     "text": [
      "10:00:46 - cmdstanpy - INFO - Chain [1] start processing\n",
      "10:00:46 - cmdstanpy - INFO - Chain [1] done processing\n"
     ]
    },
    {
     "name": "stdout",
     "output_type": "stream",
     "text": [
      "\n",
      "--- Forecasting for Product: P007, Location: L12 ---\n"
     ]
    },
    {
     "name": "stderr",
     "output_type": "stream",
     "text": [
      "10:00:47 - cmdstanpy - INFO - Chain [1] start processing\n",
      "10:00:48 - cmdstanpy - INFO - Chain [1] done processing\n"
     ]
    },
    {
     "name": "stdout",
     "output_type": "stream",
     "text": [
      "\n",
      "--- Forecasting for Product: P007, Location: L13 ---\n"
     ]
    },
    {
     "name": "stderr",
     "output_type": "stream",
     "text": [
      "10:00:49 - cmdstanpy - INFO - Chain [1] start processing\n",
      "10:00:49 - cmdstanpy - INFO - Chain [1] done processing\n"
     ]
    },
    {
     "name": "stdout",
     "output_type": "stream",
     "text": [
      "\n",
      "--- Forecasting for Product: P007, Location: L14 ---\n"
     ]
    },
    {
     "name": "stderr",
     "output_type": "stream",
     "text": [
      "10:00:50 - cmdstanpy - INFO - Chain [1] start processing\n",
      "10:00:50 - cmdstanpy - INFO - Chain [1] done processing\n"
     ]
    },
    {
     "name": "stdout",
     "output_type": "stream",
     "text": [
      "\n",
      "--- Forecasting for Product: P007, Location: L15 ---\n"
     ]
    },
    {
     "name": "stderr",
     "output_type": "stream",
     "text": [
      "10:00:52 - cmdstanpy - INFO - Chain [1] start processing\n",
      "10:00:52 - cmdstanpy - INFO - Chain [1] done processing\n"
     ]
    },
    {
     "name": "stdout",
     "output_type": "stream",
     "text": [
      "\n",
      "--- Forecasting for Product: P007, Location: L16 ---\n"
     ]
    },
    {
     "name": "stderr",
     "output_type": "stream",
     "text": [
      "10:00:53 - cmdstanpy - INFO - Chain [1] start processing\n",
      "10:00:54 - cmdstanpy - INFO - Chain [1] done processing\n"
     ]
    },
    {
     "name": "stdout",
     "output_type": "stream",
     "text": [
      "\n",
      "--- Forecasting for Product: P007, Location: L17 ---\n"
     ]
    },
    {
     "name": "stderr",
     "output_type": "stream",
     "text": [
      "10:00:55 - cmdstanpy - INFO - Chain [1] start processing\n",
      "10:00:55 - cmdstanpy - INFO - Chain [1] done processing\n"
     ]
    },
    {
     "name": "stdout",
     "output_type": "stream",
     "text": [
      "\n",
      "--- Forecasting for Product: P007, Location: L18 ---\n"
     ]
    },
    {
     "name": "stderr",
     "output_type": "stream",
     "text": [
      "10:00:56 - cmdstanpy - INFO - Chain [1] start processing\n",
      "10:00:57 - cmdstanpy - INFO - Chain [1] done processing\n"
     ]
    },
    {
     "name": "stdout",
     "output_type": "stream",
     "text": [
      "\n",
      "--- Forecasting for Product: P007, Location: L19 ---\n"
     ]
    },
    {
     "name": "stderr",
     "output_type": "stream",
     "text": [
      "10:00:58 - cmdstanpy - INFO - Chain [1] start processing\n",
      "10:00:58 - cmdstanpy - INFO - Chain [1] done processing\n"
     ]
    },
    {
     "name": "stdout",
     "output_type": "stream",
     "text": [
      "\n",
      "--- Forecasting for Product: P007, Location: L20 ---\n"
     ]
    },
    {
     "name": "stderr",
     "output_type": "stream",
     "text": [
      "10:00:59 - cmdstanpy - INFO - Chain [1] start processing\n",
      "10:00:59 - cmdstanpy - INFO - Chain [1] done processing\n"
     ]
    },
    {
     "name": "stdout",
     "output_type": "stream",
     "text": [
      "\n",
      "--- Forecasting for Product: P008, Location: L01 ---\n"
     ]
    },
    {
     "name": "stderr",
     "output_type": "stream",
     "text": [
      "10:01:01 - cmdstanpy - INFO - Chain [1] start processing\n",
      "10:01:01 - cmdstanpy - INFO - Chain [1] done processing\n"
     ]
    },
    {
     "name": "stdout",
     "output_type": "stream",
     "text": [
      "\n",
      "--- Forecasting for Product: P008, Location: L02 ---\n"
     ]
    },
    {
     "name": "stderr",
     "output_type": "stream",
     "text": [
      "10:01:03 - cmdstanpy - INFO - Chain [1] start processing\n",
      "10:01:03 - cmdstanpy - INFO - Chain [1] done processing\n"
     ]
    },
    {
     "name": "stdout",
     "output_type": "stream",
     "text": [
      "\n",
      "--- Forecasting for Product: P008, Location: L03 ---\n"
     ]
    },
    {
     "name": "stderr",
     "output_type": "stream",
     "text": [
      "10:01:04 - cmdstanpy - INFO - Chain [1] start processing\n",
      "10:01:05 - cmdstanpy - INFO - Chain [1] done processing\n"
     ]
    },
    {
     "name": "stdout",
     "output_type": "stream",
     "text": [
      "\n",
      "--- Forecasting for Product: P008, Location: L04 ---\n"
     ]
    },
    {
     "name": "stderr",
     "output_type": "stream",
     "text": [
      "10:01:06 - cmdstanpy - INFO - Chain [1] start processing\n",
      "10:01:07 - cmdstanpy - INFO - Chain [1] done processing\n"
     ]
    },
    {
     "name": "stdout",
     "output_type": "stream",
     "text": [
      "\n",
      "--- Forecasting for Product: P008, Location: L05 ---\n"
     ]
    },
    {
     "name": "stderr",
     "output_type": "stream",
     "text": [
      "10:01:08 - cmdstanpy - INFO - Chain [1] start processing\n",
      "10:01:08 - cmdstanpy - INFO - Chain [1] done processing\n"
     ]
    },
    {
     "name": "stdout",
     "output_type": "stream",
     "text": [
      "\n",
      "--- Forecasting for Product: P008, Location: L06 ---\n"
     ]
    },
    {
     "name": "stderr",
     "output_type": "stream",
     "text": [
      "10:01:10 - cmdstanpy - INFO - Chain [1] start processing\n",
      "10:01:10 - cmdstanpy - INFO - Chain [1] done processing\n"
     ]
    },
    {
     "name": "stdout",
     "output_type": "stream",
     "text": [
      "\n",
      "--- Forecasting for Product: P008, Location: L07 ---\n"
     ]
    },
    {
     "name": "stderr",
     "output_type": "stream",
     "text": [
      "10:01:11 - cmdstanpy - INFO - Chain [1] start processing\n",
      "10:01:11 - cmdstanpy - INFO - Chain [1] done processing\n"
     ]
    },
    {
     "name": "stdout",
     "output_type": "stream",
     "text": [
      "\n",
      "--- Forecasting for Product: P008, Location: L08 ---\n"
     ]
    },
    {
     "name": "stderr",
     "output_type": "stream",
     "text": [
      "10:01:13 - cmdstanpy - INFO - Chain [1] start processing\n",
      "10:01:13 - cmdstanpy - INFO - Chain [1] done processing\n"
     ]
    },
    {
     "name": "stdout",
     "output_type": "stream",
     "text": [
      "\n",
      "--- Forecasting for Product: P008, Location: L09 ---\n"
     ]
    },
    {
     "name": "stderr",
     "output_type": "stream",
     "text": [
      "10:01:14 - cmdstanpy - INFO - Chain [1] start processing\n",
      "10:01:15 - cmdstanpy - INFO - Chain [1] done processing\n"
     ]
    },
    {
     "name": "stdout",
     "output_type": "stream",
     "text": [
      "\n",
      "--- Forecasting for Product: P008, Location: L10 ---\n"
     ]
    },
    {
     "name": "stderr",
     "output_type": "stream",
     "text": [
      "10:01:16 - cmdstanpy - INFO - Chain [1] start processing\n",
      "10:01:16 - cmdstanpy - INFO - Chain [1] done processing\n"
     ]
    },
    {
     "name": "stdout",
     "output_type": "stream",
     "text": [
      "\n",
      "--- Forecasting for Product: P008, Location: L11 ---\n"
     ]
    },
    {
     "name": "stderr",
     "output_type": "stream",
     "text": [
      "10:01:17 - cmdstanpy - INFO - Chain [1] start processing\n",
      "10:01:18 - cmdstanpy - INFO - Chain [1] done processing\n"
     ]
    },
    {
     "name": "stdout",
     "output_type": "stream",
     "text": [
      "\n",
      "--- Forecasting for Product: P008, Location: L12 ---\n"
     ]
    },
    {
     "name": "stderr",
     "output_type": "stream",
     "text": [
      "10:01:19 - cmdstanpy - INFO - Chain [1] start processing\n",
      "10:01:19 - cmdstanpy - INFO - Chain [1] done processing\n"
     ]
    },
    {
     "name": "stdout",
     "output_type": "stream",
     "text": [
      "\n",
      "--- Forecasting for Product: P008, Location: L13 ---\n"
     ]
    },
    {
     "name": "stderr",
     "output_type": "stream",
     "text": [
      "10:01:20 - cmdstanpy - INFO - Chain [1] start processing\n",
      "10:01:20 - cmdstanpy - INFO - Chain [1] done processing\n"
     ]
    },
    {
     "name": "stdout",
     "output_type": "stream",
     "text": [
      "\n",
      "--- Forecasting for Product: P008, Location: L14 ---\n"
     ]
    },
    {
     "name": "stderr",
     "output_type": "stream",
     "text": [
      "10:01:22 - cmdstanpy - INFO - Chain [1] start processing\n",
      "10:01:22 - cmdstanpy - INFO - Chain [1] done processing\n"
     ]
    },
    {
     "name": "stdout",
     "output_type": "stream",
     "text": [
      "\n",
      "--- Forecasting for Product: P008, Location: L15 ---\n"
     ]
    },
    {
     "name": "stderr",
     "output_type": "stream",
     "text": [
      "10:01:23 - cmdstanpy - INFO - Chain [1] start processing\n",
      "10:01:24 - cmdstanpy - INFO - Chain [1] done processing\n"
     ]
    },
    {
     "name": "stdout",
     "output_type": "stream",
     "text": [
      "\n",
      "--- Forecasting for Product: P008, Location: L16 ---\n"
     ]
    },
    {
     "name": "stderr",
     "output_type": "stream",
     "text": [
      "10:01:25 - cmdstanpy - INFO - Chain [1] start processing\n",
      "10:01:25 - cmdstanpy - INFO - Chain [1] done processing\n"
     ]
    },
    {
     "name": "stdout",
     "output_type": "stream",
     "text": [
      "\n",
      "--- Forecasting for Product: P008, Location: L17 ---\n"
     ]
    },
    {
     "name": "stderr",
     "output_type": "stream",
     "text": [
      "10:01:26 - cmdstanpy - INFO - Chain [1] start processing\n",
      "10:01:27 - cmdstanpy - INFO - Chain [1] done processing\n"
     ]
    },
    {
     "name": "stdout",
     "output_type": "stream",
     "text": [
      "\n",
      "--- Forecasting for Product: P008, Location: L18 ---\n"
     ]
    },
    {
     "name": "stderr",
     "output_type": "stream",
     "text": [
      "10:01:28 - cmdstanpy - INFO - Chain [1] start processing\n",
      "10:01:28 - cmdstanpy - INFO - Chain [1] done processing\n"
     ]
    },
    {
     "name": "stdout",
     "output_type": "stream",
     "text": [
      "\n",
      "--- Forecasting for Product: P008, Location: L19 ---\n"
     ]
    },
    {
     "name": "stderr",
     "output_type": "stream",
     "text": [
      "10:01:29 - cmdstanpy - INFO - Chain [1] start processing\n",
      "10:01:30 - cmdstanpy - INFO - Chain [1] done processing\n"
     ]
    },
    {
     "name": "stdout",
     "output_type": "stream",
     "text": [
      "\n",
      "--- Forecasting for Product: P008, Location: L20 ---\n"
     ]
    },
    {
     "name": "stderr",
     "output_type": "stream",
     "text": [
      "10:01:31 - cmdstanpy - INFO - Chain [1] start processing\n",
      "10:01:31 - cmdstanpy - INFO - Chain [1] done processing\n"
     ]
    },
    {
     "name": "stdout",
     "output_type": "stream",
     "text": [
      "\n",
      "--- Forecasting for Product: P009, Location: L01 ---\n"
     ]
    },
    {
     "name": "stderr",
     "output_type": "stream",
     "text": [
      "10:01:33 - cmdstanpy - INFO - Chain [1] start processing\n",
      "10:01:33 - cmdstanpy - INFO - Chain [1] done processing\n"
     ]
    },
    {
     "name": "stdout",
     "output_type": "stream",
     "text": [
      "\n",
      "--- Forecasting for Product: P009, Location: L02 ---\n"
     ]
    },
    {
     "name": "stderr",
     "output_type": "stream",
     "text": [
      "10:01:34 - cmdstanpy - INFO - Chain [1] start processing\n",
      "10:01:35 - cmdstanpy - INFO - Chain [1] done processing\n"
     ]
    },
    {
     "name": "stdout",
     "output_type": "stream",
     "text": [
      "\n",
      "--- Forecasting for Product: P009, Location: L03 ---\n"
     ]
    },
    {
     "name": "stderr",
     "output_type": "stream",
     "text": [
      "10:01:36 - cmdstanpy - INFO - Chain [1] start processing\n",
      "10:01:36 - cmdstanpy - INFO - Chain [1] done processing\n"
     ]
    },
    {
     "name": "stdout",
     "output_type": "stream",
     "text": [
      "\n",
      "--- Forecasting for Product: P009, Location: L04 ---\n"
     ]
    },
    {
     "name": "stderr",
     "output_type": "stream",
     "text": [
      "10:01:38 - cmdstanpy - INFO - Chain [1] start processing\n",
      "10:01:38 - cmdstanpy - INFO - Chain [1] done processing\n"
     ]
    },
    {
     "name": "stdout",
     "output_type": "stream",
     "text": [
      "\n",
      "--- Forecasting for Product: P009, Location: L05 ---\n"
     ]
    },
    {
     "name": "stderr",
     "output_type": "stream",
     "text": [
      "10:01:40 - cmdstanpy - INFO - Chain [1] start processing\n",
      "10:01:40 - cmdstanpy - INFO - Chain [1] done processing\n"
     ]
    },
    {
     "name": "stdout",
     "output_type": "stream",
     "text": [
      "\n",
      "--- Forecasting for Product: P009, Location: L06 ---\n"
     ]
    },
    {
     "name": "stderr",
     "output_type": "stream",
     "text": [
      "10:01:41 - cmdstanpy - INFO - Chain [1] start processing\n",
      "10:01:42 - cmdstanpy - INFO - Chain [1] done processing\n"
     ]
    },
    {
     "name": "stdout",
     "output_type": "stream",
     "text": [
      "\n",
      "--- Forecasting for Product: P009, Location: L07 ---\n"
     ]
    },
    {
     "name": "stderr",
     "output_type": "stream",
     "text": [
      "10:01:43 - cmdstanpy - INFO - Chain [1] start processing\n",
      "10:01:43 - cmdstanpy - INFO - Chain [1] done processing\n"
     ]
    },
    {
     "name": "stdout",
     "output_type": "stream",
     "text": [
      "\n",
      "--- Forecasting for Product: P009, Location: L08 ---\n"
     ]
    },
    {
     "name": "stderr",
     "output_type": "stream",
     "text": [
      "10:01:45 - cmdstanpy - INFO - Chain [1] start processing\n",
      "10:01:45 - cmdstanpy - INFO - Chain [1] done processing\n"
     ]
    },
    {
     "name": "stdout",
     "output_type": "stream",
     "text": [
      "\n",
      "--- Forecasting for Product: P009, Location: L09 ---\n"
     ]
    },
    {
     "name": "stderr",
     "output_type": "stream",
     "text": [
      "10:01:46 - cmdstanpy - INFO - Chain [1] start processing\n",
      "10:01:46 - cmdstanpy - INFO - Chain [1] done processing\n"
     ]
    },
    {
     "name": "stdout",
     "output_type": "stream",
     "text": [
      "\n",
      "--- Forecasting for Product: P009, Location: L10 ---\n"
     ]
    },
    {
     "name": "stderr",
     "output_type": "stream",
     "text": [
      "10:01:48 - cmdstanpy - INFO - Chain [1] start processing\n",
      "10:01:48 - cmdstanpy - INFO - Chain [1] done processing\n"
     ]
    },
    {
     "name": "stdout",
     "output_type": "stream",
     "text": [
      "\n",
      "--- Forecasting for Product: P009, Location: L11 ---\n"
     ]
    },
    {
     "name": "stderr",
     "output_type": "stream",
     "text": [
      "10:01:49 - cmdstanpy - INFO - Chain [1] start processing\n",
      "10:01:50 - cmdstanpy - INFO - Chain [1] done processing\n"
     ]
    },
    {
     "name": "stdout",
     "output_type": "stream",
     "text": [
      "\n",
      "--- Forecasting for Product: P009, Location: L12 ---\n"
     ]
    },
    {
     "name": "stderr",
     "output_type": "stream",
     "text": [
      "10:01:51 - cmdstanpy - INFO - Chain [1] start processing\n",
      "10:01:51 - cmdstanpy - INFO - Chain [1] done processing\n"
     ]
    },
    {
     "name": "stdout",
     "output_type": "stream",
     "text": [
      "\n",
      "--- Forecasting for Product: P009, Location: L13 ---\n"
     ]
    },
    {
     "name": "stderr",
     "output_type": "stream",
     "text": [
      "10:01:53 - cmdstanpy - INFO - Chain [1] start processing\n",
      "10:01:53 - cmdstanpy - INFO - Chain [1] done processing\n"
     ]
    },
    {
     "name": "stdout",
     "output_type": "stream",
     "text": [
      "\n",
      "--- Forecasting for Product: P009, Location: L14 ---\n"
     ]
    },
    {
     "name": "stderr",
     "output_type": "stream",
     "text": [
      "10:01:54 - cmdstanpy - INFO - Chain [1] start processing\n",
      "10:01:55 - cmdstanpy - INFO - Chain [1] done processing\n"
     ]
    },
    {
     "name": "stdout",
     "output_type": "stream",
     "text": [
      "\n",
      "--- Forecasting for Product: P009, Location: L15 ---\n"
     ]
    },
    {
     "name": "stderr",
     "output_type": "stream",
     "text": [
      "10:01:56 - cmdstanpy - INFO - Chain [1] start processing\n",
      "10:01:57 - cmdstanpy - INFO - Chain [1] done processing\n"
     ]
    },
    {
     "name": "stdout",
     "output_type": "stream",
     "text": [
      "\n",
      "--- Forecasting for Product: P009, Location: L16 ---\n"
     ]
    },
    {
     "name": "stderr",
     "output_type": "stream",
     "text": [
      "10:01:58 - cmdstanpy - INFO - Chain [1] start processing\n",
      "10:01:58 - cmdstanpy - INFO - Chain [1] done processing\n"
     ]
    },
    {
     "name": "stdout",
     "output_type": "stream",
     "text": [
      "\n",
      "--- Forecasting for Product: P009, Location: L17 ---\n"
     ]
    },
    {
     "name": "stderr",
     "output_type": "stream",
     "text": [
      "10:02:00 - cmdstanpy - INFO - Chain [1] start processing\n",
      "10:02:00 - cmdstanpy - INFO - Chain [1] done processing\n"
     ]
    },
    {
     "name": "stdout",
     "output_type": "stream",
     "text": [
      "\n",
      "--- Forecasting for Product: P009, Location: L18 ---\n"
     ]
    },
    {
     "name": "stderr",
     "output_type": "stream",
     "text": [
      "10:02:02 - cmdstanpy - INFO - Chain [1] start processing\n",
      "10:02:02 - cmdstanpy - INFO - Chain [1] done processing\n"
     ]
    },
    {
     "name": "stdout",
     "output_type": "stream",
     "text": [
      "\n",
      "--- Forecasting for Product: P009, Location: L19 ---\n"
     ]
    },
    {
     "name": "stderr",
     "output_type": "stream",
     "text": [
      "10:02:03 - cmdstanpy - INFO - Chain [1] start processing\n",
      "10:02:03 - cmdstanpy - INFO - Chain [1] done processing\n"
     ]
    },
    {
     "name": "stdout",
     "output_type": "stream",
     "text": [
      "\n",
      "--- Forecasting for Product: P009, Location: L20 ---\n"
     ]
    },
    {
     "name": "stderr",
     "output_type": "stream",
     "text": [
      "10:02:05 - cmdstanpy - INFO - Chain [1] start processing\n",
      "10:02:05 - cmdstanpy - INFO - Chain [1] done processing\n"
     ]
    },
    {
     "name": "stdout",
     "output_type": "stream",
     "text": [
      "\n",
      "--- Forecasting for Product: P010, Location: L01 ---\n"
     ]
    },
    {
     "name": "stderr",
     "output_type": "stream",
     "text": [
      "10:02:07 - cmdstanpy - INFO - Chain [1] start processing\n",
      "10:02:07 - cmdstanpy - INFO - Chain [1] done processing\n"
     ]
    },
    {
     "name": "stdout",
     "output_type": "stream",
     "text": [
      "\n",
      "--- Forecasting for Product: P010, Location: L02 ---\n"
     ]
    },
    {
     "name": "stderr",
     "output_type": "stream",
     "text": [
      "10:02:08 - cmdstanpy - INFO - Chain [1] start processing\n",
      "10:02:09 - cmdstanpy - INFO - Chain [1] done processing\n"
     ]
    },
    {
     "name": "stdout",
     "output_type": "stream",
     "text": [
      "\n",
      "--- Forecasting for Product: P010, Location: L03 ---\n"
     ]
    },
    {
     "name": "stderr",
     "output_type": "stream",
     "text": [
      "10:02:10 - cmdstanpy - INFO - Chain [1] start processing\n",
      "10:02:11 - cmdstanpy - INFO - Chain [1] done processing\n"
     ]
    },
    {
     "name": "stdout",
     "output_type": "stream",
     "text": [
      "\n",
      "--- Forecasting for Product: P010, Location: L04 ---\n"
     ]
    },
    {
     "name": "stderr",
     "output_type": "stream",
     "text": [
      "10:02:12 - cmdstanpy - INFO - Chain [1] start processing\n",
      "10:02:13 - cmdstanpy - INFO - Chain [1] done processing\n"
     ]
    },
    {
     "name": "stdout",
     "output_type": "stream",
     "text": [
      "\n",
      "--- Forecasting for Product: P010, Location: L05 ---\n"
     ]
    },
    {
     "name": "stderr",
     "output_type": "stream",
     "text": [
      "10:02:14 - cmdstanpy - INFO - Chain [1] start processing\n",
      "10:02:14 - cmdstanpy - INFO - Chain [1] done processing\n"
     ]
    },
    {
     "name": "stdout",
     "output_type": "stream",
     "text": [
      "\n",
      "--- Forecasting for Product: P010, Location: L06 ---\n"
     ]
    },
    {
     "name": "stderr",
     "output_type": "stream",
     "text": [
      "10:02:16 - cmdstanpy - INFO - Chain [1] start processing\n",
      "10:02:16 - cmdstanpy - INFO - Chain [1] done processing\n"
     ]
    },
    {
     "name": "stdout",
     "output_type": "stream",
     "text": [
      "\n",
      "--- Forecasting for Product: P010, Location: L07 ---\n"
     ]
    },
    {
     "name": "stderr",
     "output_type": "stream",
     "text": [
      "10:02:17 - cmdstanpy - INFO - Chain [1] start processing\n",
      "10:02:18 - cmdstanpy - INFO - Chain [1] done processing\n"
     ]
    },
    {
     "name": "stdout",
     "output_type": "stream",
     "text": [
      "\n",
      "--- Forecasting for Product: P010, Location: L08 ---\n"
     ]
    },
    {
     "name": "stderr",
     "output_type": "stream",
     "text": [
      "10:02:19 - cmdstanpy - INFO - Chain [1] start processing\n",
      "10:02:19 - cmdstanpy - INFO - Chain [1] done processing\n"
     ]
    },
    {
     "name": "stdout",
     "output_type": "stream",
     "text": [
      "\n",
      "--- Forecasting for Product: P010, Location: L09 ---\n"
     ]
    },
    {
     "name": "stderr",
     "output_type": "stream",
     "text": [
      "10:02:21 - cmdstanpy - INFO - Chain [1] start processing\n",
      "10:02:21 - cmdstanpy - INFO - Chain [1] done processing\n"
     ]
    },
    {
     "name": "stdout",
     "output_type": "stream",
     "text": [
      "\n",
      "--- Forecasting for Product: P010, Location: L10 ---\n"
     ]
    },
    {
     "name": "stderr",
     "output_type": "stream",
     "text": [
      "10:02:22 - cmdstanpy - INFO - Chain [1] start processing\n",
      "10:02:23 - cmdstanpy - INFO - Chain [1] done processing\n"
     ]
    },
    {
     "name": "stdout",
     "output_type": "stream",
     "text": [
      "\n",
      "--- Forecasting for Product: P010, Location: L11 ---\n"
     ]
    },
    {
     "name": "stderr",
     "output_type": "stream",
     "text": [
      "10:02:24 - cmdstanpy - INFO - Chain [1] start processing\n",
      "10:02:24 - cmdstanpy - INFO - Chain [1] done processing\n"
     ]
    },
    {
     "name": "stdout",
     "output_type": "stream",
     "text": [
      "\n",
      "--- Forecasting for Product: P010, Location: L12 ---\n"
     ]
    },
    {
     "name": "stderr",
     "output_type": "stream",
     "text": [
      "10:02:26 - cmdstanpy - INFO - Chain [1] start processing\n",
      "10:02:26 - cmdstanpy - INFO - Chain [1] done processing\n"
     ]
    },
    {
     "name": "stdout",
     "output_type": "stream",
     "text": [
      "\n",
      "--- Forecasting for Product: P010, Location: L13 ---\n"
     ]
    },
    {
     "name": "stderr",
     "output_type": "stream",
     "text": [
      "10:02:27 - cmdstanpy - INFO - Chain [1] start processing\n",
      "10:02:27 - cmdstanpy - INFO - Chain [1] done processing\n"
     ]
    },
    {
     "name": "stdout",
     "output_type": "stream",
     "text": [
      "\n",
      "--- Forecasting for Product: P010, Location: L14 ---\n"
     ]
    },
    {
     "name": "stderr",
     "output_type": "stream",
     "text": [
      "10:02:29 - cmdstanpy - INFO - Chain [1] start processing\n",
      "10:02:29 - cmdstanpy - INFO - Chain [1] done processing\n"
     ]
    },
    {
     "name": "stdout",
     "output_type": "stream",
     "text": [
      "\n",
      "--- Forecasting for Product: P010, Location: L15 ---\n"
     ]
    },
    {
     "name": "stderr",
     "output_type": "stream",
     "text": [
      "10:02:30 - cmdstanpy - INFO - Chain [1] start processing\n",
      "10:02:31 - cmdstanpy - INFO - Chain [1] done processing\n"
     ]
    },
    {
     "name": "stdout",
     "output_type": "stream",
     "text": [
      "\n",
      "--- Forecasting for Product: P010, Location: L16 ---\n"
     ]
    },
    {
     "name": "stderr",
     "output_type": "stream",
     "text": [
      "10:02:32 - cmdstanpy - INFO - Chain [1] start processing\n",
      "10:02:32 - cmdstanpy - INFO - Chain [1] done processing\n"
     ]
    },
    {
     "name": "stdout",
     "output_type": "stream",
     "text": [
      "\n",
      "--- Forecasting for Product: P010, Location: L17 ---\n"
     ]
    },
    {
     "name": "stderr",
     "output_type": "stream",
     "text": [
      "10:02:33 - cmdstanpy - INFO - Chain [1] start processing\n",
      "10:02:34 - cmdstanpy - INFO - Chain [1] done processing\n"
     ]
    },
    {
     "name": "stdout",
     "output_type": "stream",
     "text": [
      "\n",
      "--- Forecasting for Product: P010, Location: L18 ---\n"
     ]
    },
    {
     "name": "stderr",
     "output_type": "stream",
     "text": [
      "10:02:35 - cmdstanpy - INFO - Chain [1] start processing\n",
      "10:02:36 - cmdstanpy - INFO - Chain [1] done processing\n"
     ]
    },
    {
     "name": "stdout",
     "output_type": "stream",
     "text": [
      "\n",
      "--- Forecasting for Product: P010, Location: L19 ---\n"
     ]
    },
    {
     "name": "stderr",
     "output_type": "stream",
     "text": [
      "10:02:37 - cmdstanpy - INFO - Chain [1] start processing\n",
      "10:02:38 - cmdstanpy - INFO - Chain [1] done processing\n"
     ]
    },
    {
     "name": "stdout",
     "output_type": "stream",
     "text": [
      "\n",
      "--- Forecasting for Product: P010, Location: L20 ---\n"
     ]
    },
    {
     "name": "stderr",
     "output_type": "stream",
     "text": [
      "10:02:39 - cmdstanpy - INFO - Chain [1] start processing\n",
      "10:02:39 - cmdstanpy - INFO - Chain [1] done processing\n"
     ]
    },
    {
     "name": "stdout",
     "output_type": "stream",
     "text": [
      "\n",
      "--- Forecasting for Product: P011, Location: L01 ---\n"
     ]
    },
    {
     "name": "stderr",
     "output_type": "stream",
     "text": [
      "10:02:41 - cmdstanpy - INFO - Chain [1] start processing\n",
      "10:02:41 - cmdstanpy - INFO - Chain [1] done processing\n"
     ]
    },
    {
     "name": "stdout",
     "output_type": "stream",
     "text": [
      "\n",
      "--- Forecasting for Product: P011, Location: L02 ---\n"
     ]
    },
    {
     "name": "stderr",
     "output_type": "stream",
     "text": [
      "10:02:43 - cmdstanpy - INFO - Chain [1] start processing\n",
      "10:02:43 - cmdstanpy - INFO - Chain [1] done processing\n"
     ]
    },
    {
     "name": "stdout",
     "output_type": "stream",
     "text": [
      "\n",
      "--- Forecasting for Product: P011, Location: L03 ---\n"
     ]
    },
    {
     "name": "stderr",
     "output_type": "stream",
     "text": [
      "10:02:44 - cmdstanpy - INFO - Chain [1] start processing\n",
      "10:02:45 - cmdstanpy - INFO - Chain [1] done processing\n"
     ]
    },
    {
     "name": "stdout",
     "output_type": "stream",
     "text": [
      "\n",
      "--- Forecasting for Product: P011, Location: L04 ---\n"
     ]
    },
    {
     "name": "stderr",
     "output_type": "stream",
     "text": [
      "10:02:46 - cmdstanpy - INFO - Chain [1] start processing\n",
      "10:02:46 - cmdstanpy - INFO - Chain [1] done processing\n"
     ]
    },
    {
     "name": "stdout",
     "output_type": "stream",
     "text": [
      "\n",
      "--- Forecasting for Product: P011, Location: L05 ---\n"
     ]
    },
    {
     "name": "stderr",
     "output_type": "stream",
     "text": [
      "10:02:48 - cmdstanpy - INFO - Chain [1] start processing\n",
      "10:02:48 - cmdstanpy - INFO - Chain [1] done processing\n"
     ]
    },
    {
     "name": "stdout",
     "output_type": "stream",
     "text": [
      "\n",
      "--- Forecasting for Product: P011, Location: L06 ---\n"
     ]
    },
    {
     "name": "stderr",
     "output_type": "stream",
     "text": [
      "10:02:49 - cmdstanpy - INFO - Chain [1] start processing\n",
      "10:02:50 - cmdstanpy - INFO - Chain [1] done processing\n"
     ]
    },
    {
     "name": "stdout",
     "output_type": "stream",
     "text": [
      "\n",
      "--- Forecasting for Product: P011, Location: L07 ---\n"
     ]
    },
    {
     "name": "stderr",
     "output_type": "stream",
     "text": [
      "10:02:51 - cmdstanpy - INFO - Chain [1] start processing\n",
      "10:02:52 - cmdstanpy - INFO - Chain [1] done processing\n"
     ]
    },
    {
     "name": "stdout",
     "output_type": "stream",
     "text": [
      "\n",
      "--- Forecasting for Product: P011, Location: L08 ---\n"
     ]
    },
    {
     "name": "stderr",
     "output_type": "stream",
     "text": [
      "10:02:53 - cmdstanpy - INFO - Chain [1] start processing\n",
      "10:02:53 - cmdstanpy - INFO - Chain [1] done processing\n"
     ]
    },
    {
     "name": "stdout",
     "output_type": "stream",
     "text": [
      "\n",
      "--- Forecasting for Product: P011, Location: L09 ---\n"
     ]
    },
    {
     "name": "stderr",
     "output_type": "stream",
     "text": [
      "10:02:55 - cmdstanpy - INFO - Chain [1] start processing\n",
      "10:02:55 - cmdstanpy - INFO - Chain [1] done processing\n"
     ]
    },
    {
     "name": "stdout",
     "output_type": "stream",
     "text": [
      "\n",
      "--- Forecasting for Product: P011, Location: L10 ---\n"
     ]
    },
    {
     "name": "stderr",
     "output_type": "stream",
     "text": [
      "10:02:56 - cmdstanpy - INFO - Chain [1] start processing\n",
      "10:02:57 - cmdstanpy - INFO - Chain [1] done processing\n"
     ]
    },
    {
     "name": "stdout",
     "output_type": "stream",
     "text": [
      "\n",
      "--- Forecasting for Product: P011, Location: L11 ---\n"
     ]
    },
    {
     "name": "stderr",
     "output_type": "stream",
     "text": [
      "10:02:58 - cmdstanpy - INFO - Chain [1] start processing\n",
      "10:02:58 - cmdstanpy - INFO - Chain [1] done processing\n"
     ]
    },
    {
     "name": "stdout",
     "output_type": "stream",
     "text": [
      "\n",
      "--- Forecasting for Product: P011, Location: L12 ---\n"
     ]
    },
    {
     "name": "stderr",
     "output_type": "stream",
     "text": [
      "10:02:59 - cmdstanpy - INFO - Chain [1] start processing\n",
      "10:03:00 - cmdstanpy - INFO - Chain [1] done processing\n"
     ]
    },
    {
     "name": "stdout",
     "output_type": "stream",
     "text": [
      "\n",
      "--- Forecasting for Product: P011, Location: L13 ---\n"
     ]
    },
    {
     "name": "stderr",
     "output_type": "stream",
     "text": [
      "10:03:01 - cmdstanpy - INFO - Chain [1] start processing\n",
      "10:03:01 - cmdstanpy - INFO - Chain [1] done processing\n"
     ]
    },
    {
     "name": "stdout",
     "output_type": "stream",
     "text": [
      "\n",
      "--- Forecasting for Product: P011, Location: L14 ---\n"
     ]
    },
    {
     "name": "stderr",
     "output_type": "stream",
     "text": [
      "10:03:03 - cmdstanpy - INFO - Chain [1] start processing\n",
      "10:03:03 - cmdstanpy - INFO - Chain [1] done processing\n"
     ]
    },
    {
     "name": "stdout",
     "output_type": "stream",
     "text": [
      "\n",
      "--- Forecasting for Product: P011, Location: L15 ---\n"
     ]
    },
    {
     "name": "stderr",
     "output_type": "stream",
     "text": [
      "10:03:04 - cmdstanpy - INFO - Chain [1] start processing\n",
      "10:03:05 - cmdstanpy - INFO - Chain [1] done processing\n"
     ]
    },
    {
     "name": "stdout",
     "output_type": "stream",
     "text": [
      "\n",
      "--- Forecasting for Product: P011, Location: L16 ---\n"
     ]
    },
    {
     "name": "stderr",
     "output_type": "stream",
     "text": [
      "10:03:06 - cmdstanpy - INFO - Chain [1] start processing\n",
      "10:03:06 - cmdstanpy - INFO - Chain [1] done processing\n"
     ]
    },
    {
     "name": "stdout",
     "output_type": "stream",
     "text": [
      "\n",
      "--- Forecasting for Product: P011, Location: L17 ---\n"
     ]
    },
    {
     "name": "stderr",
     "output_type": "stream",
     "text": [
      "10:03:08 - cmdstanpy - INFO - Chain [1] start processing\n",
      "10:03:08 - cmdstanpy - INFO - Chain [1] done processing\n"
     ]
    },
    {
     "name": "stdout",
     "output_type": "stream",
     "text": [
      "\n",
      "--- Forecasting for Product: P011, Location: L18 ---\n"
     ]
    },
    {
     "name": "stderr",
     "output_type": "stream",
     "text": [
      "10:03:10 - cmdstanpy - INFO - Chain [1] start processing\n",
      "10:03:10 - cmdstanpy - INFO - Chain [1] done processing\n"
     ]
    },
    {
     "name": "stdout",
     "output_type": "stream",
     "text": [
      "\n",
      "--- Forecasting for Product: P011, Location: L19 ---\n"
     ]
    },
    {
     "name": "stderr",
     "output_type": "stream",
     "text": [
      "10:03:12 - cmdstanpy - INFO - Chain [1] start processing\n",
      "10:03:12 - cmdstanpy - INFO - Chain [1] done processing\n"
     ]
    },
    {
     "name": "stdout",
     "output_type": "stream",
     "text": [
      "\n",
      "--- Forecasting for Product: P011, Location: L20 ---\n"
     ]
    },
    {
     "name": "stderr",
     "output_type": "stream",
     "text": [
      "10:03:14 - cmdstanpy - INFO - Chain [1] start processing\n",
      "10:03:14 - cmdstanpy - INFO - Chain [1] done processing\n"
     ]
    },
    {
     "name": "stdout",
     "output_type": "stream",
     "text": [
      "\n",
      "--- Forecasting for Product: P012, Location: L01 ---\n"
     ]
    },
    {
     "name": "stderr",
     "output_type": "stream",
     "text": [
      "10:03:16 - cmdstanpy - INFO - Chain [1] start processing\n",
      "10:03:16 - cmdstanpy - INFO - Chain [1] done processing\n"
     ]
    },
    {
     "name": "stdout",
     "output_type": "stream",
     "text": [
      "\n",
      "--- Forecasting for Product: P012, Location: L02 ---\n"
     ]
    },
    {
     "name": "stderr",
     "output_type": "stream",
     "text": [
      "10:03:18 - cmdstanpy - INFO - Chain [1] start processing\n",
      "10:03:18 - cmdstanpy - INFO - Chain [1] done processing\n"
     ]
    },
    {
     "name": "stdout",
     "output_type": "stream",
     "text": [
      "\n",
      "--- Forecasting for Product: P012, Location: L03 ---\n"
     ]
    },
    {
     "name": "stderr",
     "output_type": "stream",
     "text": [
      "10:03:20 - cmdstanpy - INFO - Chain [1] start processing\n",
      "10:03:21 - cmdstanpy - INFO - Chain [1] done processing\n"
     ]
    },
    {
     "name": "stdout",
     "output_type": "stream",
     "text": [
      "\n",
      "--- Forecasting for Product: P012, Location: L04 ---\n"
     ]
    },
    {
     "name": "stderr",
     "output_type": "stream",
     "text": [
      "10:03:23 - cmdstanpy - INFO - Chain [1] start processing\n",
      "10:03:23 - cmdstanpy - INFO - Chain [1] done processing\n"
     ]
    },
    {
     "name": "stdout",
     "output_type": "stream",
     "text": [
      "\n",
      "--- Forecasting for Product: P012, Location: L05 ---\n"
     ]
    },
    {
     "name": "stderr",
     "output_type": "stream",
     "text": [
      "10:03:25 - cmdstanpy - INFO - Chain [1] start processing\n",
      "10:03:26 - cmdstanpy - INFO - Chain [1] done processing\n"
     ]
    },
    {
     "name": "stdout",
     "output_type": "stream",
     "text": [
      "\n",
      "--- Forecasting for Product: P012, Location: L06 ---\n"
     ]
    },
    {
     "name": "stderr",
     "output_type": "stream",
     "text": [
      "10:03:28 - cmdstanpy - INFO - Chain [1] start processing\n",
      "10:03:28 - cmdstanpy - INFO - Chain [1] done processing\n"
     ]
    },
    {
     "name": "stdout",
     "output_type": "stream",
     "text": [
      "\n",
      "--- Forecasting for Product: P012, Location: L07 ---\n"
     ]
    },
    {
     "name": "stderr",
     "output_type": "stream",
     "text": [
      "10:03:30 - cmdstanpy - INFO - Chain [1] start processing\n",
      "10:03:31 - cmdstanpy - INFO - Chain [1] done processing\n"
     ]
    },
    {
     "name": "stdout",
     "output_type": "stream",
     "text": [
      "\n",
      "--- Forecasting for Product: P012, Location: L08 ---\n"
     ]
    },
    {
     "name": "stderr",
     "output_type": "stream",
     "text": [
      "10:03:33 - cmdstanpy - INFO - Chain [1] start processing\n",
      "10:03:33 - cmdstanpy - INFO - Chain [1] done processing\n"
     ]
    },
    {
     "name": "stdout",
     "output_type": "stream",
     "text": [
      "\n",
      "--- Forecasting for Product: P012, Location: L09 ---\n"
     ]
    },
    {
     "name": "stderr",
     "output_type": "stream",
     "text": [
      "10:03:35 - cmdstanpy - INFO - Chain [1] start processing\n",
      "10:03:35 - cmdstanpy - INFO - Chain [1] done processing\n"
     ]
    },
    {
     "name": "stdout",
     "output_type": "stream",
     "text": [
      "\n",
      "--- Forecasting for Product: P012, Location: L10 ---\n"
     ]
    },
    {
     "name": "stderr",
     "output_type": "stream",
     "text": [
      "10:03:38 - cmdstanpy - INFO - Chain [1] start processing\n",
      "10:03:38 - cmdstanpy - INFO - Chain [1] done processing\n"
     ]
    },
    {
     "name": "stdout",
     "output_type": "stream",
     "text": [
      "\n",
      "--- Forecasting for Product: P012, Location: L11 ---\n"
     ]
    },
    {
     "name": "stderr",
     "output_type": "stream",
     "text": [
      "10:03:40 - cmdstanpy - INFO - Chain [1] start processing\n",
      "10:03:41 - cmdstanpy - INFO - Chain [1] done processing\n"
     ]
    },
    {
     "name": "stdout",
     "output_type": "stream",
     "text": [
      "\n",
      "--- Forecasting for Product: P012, Location: L12 ---\n"
     ]
    },
    {
     "name": "stderr",
     "output_type": "stream",
     "text": [
      "10:03:43 - cmdstanpy - INFO - Chain [1] start processing\n",
      "10:03:43 - cmdstanpy - INFO - Chain [1] done processing\n"
     ]
    },
    {
     "name": "stdout",
     "output_type": "stream",
     "text": [
      "\n",
      "--- Forecasting for Product: P012, Location: L13 ---\n"
     ]
    },
    {
     "name": "stderr",
     "output_type": "stream",
     "text": [
      "10:03:45 - cmdstanpy - INFO - Chain [1] start processing\n",
      "10:03:45 - cmdstanpy - INFO - Chain [1] done processing\n"
     ]
    },
    {
     "name": "stdout",
     "output_type": "stream",
     "text": [
      "\n",
      "--- Forecasting for Product: P012, Location: L14 ---\n"
     ]
    },
    {
     "name": "stderr",
     "output_type": "stream",
     "text": [
      "10:03:47 - cmdstanpy - INFO - Chain [1] start processing\n",
      "10:03:48 - cmdstanpy - INFO - Chain [1] done processing\n"
     ]
    },
    {
     "name": "stdout",
     "output_type": "stream",
     "text": [
      "\n",
      "--- Forecasting for Product: P012, Location: L15 ---\n"
     ]
    },
    {
     "name": "stderr",
     "output_type": "stream",
     "text": [
      "10:03:50 - cmdstanpy - INFO - Chain [1] start processing\n",
      "10:03:51 - cmdstanpy - INFO - Chain [1] done processing\n"
     ]
    },
    {
     "name": "stdout",
     "output_type": "stream",
     "text": [
      "\n",
      "--- Forecasting for Product: P012, Location: L16 ---\n"
     ]
    },
    {
     "name": "stderr",
     "output_type": "stream",
     "text": [
      "10:03:53 - cmdstanpy - INFO - Chain [1] start processing\n",
      "10:03:54 - cmdstanpy - INFO - Chain [1] done processing\n"
     ]
    },
    {
     "name": "stdout",
     "output_type": "stream",
     "text": [
      "\n",
      "--- Forecasting for Product: P012, Location: L17 ---\n"
     ]
    },
    {
     "name": "stderr",
     "output_type": "stream",
     "text": [
      "10:03:56 - cmdstanpy - INFO - Chain [1] start processing\n",
      "10:03:56 - cmdstanpy - INFO - Chain [1] done processing\n"
     ]
    },
    {
     "name": "stdout",
     "output_type": "stream",
     "text": [
      "\n",
      "--- Forecasting for Product: P012, Location: L18 ---\n"
     ]
    },
    {
     "name": "stderr",
     "output_type": "stream",
     "text": [
      "10:03:58 - cmdstanpy - INFO - Chain [1] start processing\n",
      "10:03:59 - cmdstanpy - INFO - Chain [1] done processing\n"
     ]
    },
    {
     "name": "stdout",
     "output_type": "stream",
     "text": [
      "\n",
      "--- Forecasting for Product: P012, Location: L19 ---\n"
     ]
    },
    {
     "name": "stderr",
     "output_type": "stream",
     "text": [
      "10:04:00 - cmdstanpy - INFO - Chain [1] start processing\n",
      "10:04:03 - cmdstanpy - INFO - Chain [1] done processing\n"
     ]
    },
    {
     "name": "stdout",
     "output_type": "stream",
     "text": [
      "\n",
      "--- Forecasting for Product: P012, Location: L20 ---\n"
     ]
    },
    {
     "name": "stderr",
     "output_type": "stream",
     "text": [
      "10:04:06 - cmdstanpy - INFO - Chain [1] start processing\n",
      "10:04:14 - cmdstanpy - INFO - Chain [1] done processing\n"
     ]
    },
    {
     "name": "stdout",
     "output_type": "stream",
     "text": [
      "\n",
      "--- Forecasting for Product: P013, Location: L01 ---\n"
     ]
    },
    {
     "name": "stderr",
     "output_type": "stream",
     "text": [
      "10:04:15 - cmdstanpy - INFO - Chain [1] start processing\n",
      "10:04:15 - cmdstanpy - INFO - Chain [1] done processing\n"
     ]
    },
    {
     "name": "stdout",
     "output_type": "stream",
     "text": [
      "\n",
      "--- Forecasting for Product: P013, Location: L02 ---\n"
     ]
    },
    {
     "name": "stderr",
     "output_type": "stream",
     "text": [
      "10:04:18 - cmdstanpy - INFO - Chain [1] start processing\n",
      "10:04:19 - cmdstanpy - INFO - Chain [1] done processing\n"
     ]
    },
    {
     "name": "stdout",
     "output_type": "stream",
     "text": [
      "\n",
      "--- Forecasting for Product: P013, Location: L03 ---\n"
     ]
    },
    {
     "name": "stderr",
     "output_type": "stream",
     "text": [
      "10:04:20 - cmdstanpy - INFO - Chain [1] start processing\n",
      "10:04:20 - cmdstanpy - INFO - Chain [1] done processing\n"
     ]
    },
    {
     "name": "stdout",
     "output_type": "stream",
     "text": [
      "\n",
      "--- Forecasting for Product: P013, Location: L04 ---\n"
     ]
    },
    {
     "name": "stderr",
     "output_type": "stream",
     "text": [
      "10:04:22 - cmdstanpy - INFO - Chain [1] start processing\n",
      "10:04:22 - cmdstanpy - INFO - Chain [1] done processing\n"
     ]
    },
    {
     "name": "stdout",
     "output_type": "stream",
     "text": [
      "\n",
      "--- Forecasting for Product: P013, Location: L05 ---\n"
     ]
    },
    {
     "name": "stderr",
     "output_type": "stream",
     "text": [
      "10:04:24 - cmdstanpy - INFO - Chain [1] start processing\n",
      "10:04:24 - cmdstanpy - INFO - Chain [1] done processing\n"
     ]
    },
    {
     "name": "stdout",
     "output_type": "stream",
     "text": [
      "\n",
      "--- Forecasting for Product: P013, Location: L06 ---\n"
     ]
    },
    {
     "name": "stderr",
     "output_type": "stream",
     "text": [
      "10:04:26 - cmdstanpy - INFO - Chain [1] start processing\n",
      "10:04:26 - cmdstanpy - INFO - Chain [1] done processing\n"
     ]
    },
    {
     "name": "stdout",
     "output_type": "stream",
     "text": [
      "\n",
      "--- Forecasting for Product: P013, Location: L07 ---\n"
     ]
    },
    {
     "name": "stderr",
     "output_type": "stream",
     "text": [
      "10:04:28 - cmdstanpy - INFO - Chain [1] start processing\n",
      "10:04:28 - cmdstanpy - INFO - Chain [1] done processing\n"
     ]
    },
    {
     "name": "stdout",
     "output_type": "stream",
     "text": [
      "\n",
      "--- Forecasting for Product: P013, Location: L08 ---\n"
     ]
    },
    {
     "name": "stderr",
     "output_type": "stream",
     "text": [
      "10:04:29 - cmdstanpy - INFO - Chain [1] start processing\n",
      "10:04:30 - cmdstanpy - INFO - Chain [1] done processing\n"
     ]
    },
    {
     "name": "stdout",
     "output_type": "stream",
     "text": [
      "\n",
      "--- Forecasting for Product: P013, Location: L09 ---\n"
     ]
    },
    {
     "name": "stderr",
     "output_type": "stream",
     "text": [
      "10:04:31 - cmdstanpy - INFO - Chain [1] start processing\n",
      "10:04:31 - cmdstanpy - INFO - Chain [1] done processing\n"
     ]
    },
    {
     "name": "stdout",
     "output_type": "stream",
     "text": [
      "\n",
      "--- Forecasting for Product: P013, Location: L10 ---\n"
     ]
    },
    {
     "name": "stderr",
     "output_type": "stream",
     "text": [
      "10:04:32 - cmdstanpy - INFO - Chain [1] start processing\n",
      "10:04:33 - cmdstanpy - INFO - Chain [1] done processing\n"
     ]
    },
    {
     "name": "stdout",
     "output_type": "stream",
     "text": [
      "\n",
      "--- Forecasting for Product: P013, Location: L11 ---\n"
     ]
    },
    {
     "name": "stderr",
     "output_type": "stream",
     "text": [
      "10:04:34 - cmdstanpy - INFO - Chain [1] start processing\n",
      "10:04:34 - cmdstanpy - INFO - Chain [1] done processing\n"
     ]
    },
    {
     "name": "stdout",
     "output_type": "stream",
     "text": [
      "\n",
      "--- Forecasting for Product: P013, Location: L12 ---\n"
     ]
    },
    {
     "name": "stderr",
     "output_type": "stream",
     "text": [
      "10:04:35 - cmdstanpy - INFO - Chain [1] start processing\n",
      "10:04:35 - cmdstanpy - INFO - Chain [1] done processing\n"
     ]
    },
    {
     "name": "stdout",
     "output_type": "stream",
     "text": [
      "\n",
      "--- Forecasting for Product: P013, Location: L13 ---\n"
     ]
    },
    {
     "name": "stderr",
     "output_type": "stream",
     "text": [
      "10:04:37 - cmdstanpy - INFO - Chain [1] start processing\n",
      "10:04:37 - cmdstanpy - INFO - Chain [1] done processing\n"
     ]
    },
    {
     "name": "stdout",
     "output_type": "stream",
     "text": [
      "\n",
      "--- Forecasting for Product: P013, Location: L14 ---\n"
     ]
    },
    {
     "name": "stderr",
     "output_type": "stream",
     "text": [
      "10:04:38 - cmdstanpy - INFO - Chain [1] start processing\n",
      "10:04:38 - cmdstanpy - INFO - Chain [1] done processing\n"
     ]
    },
    {
     "name": "stdout",
     "output_type": "stream",
     "text": [
      "\n",
      "--- Forecasting for Product: P013, Location: L15 ---\n"
     ]
    },
    {
     "name": "stderr",
     "output_type": "stream",
     "text": [
      "10:04:40 - cmdstanpy - INFO - Chain [1] start processing\n",
      "10:04:40 - cmdstanpy - INFO - Chain [1] done processing\n"
     ]
    },
    {
     "name": "stdout",
     "output_type": "stream",
     "text": [
      "\n",
      "--- Forecasting for Product: P013, Location: L16 ---\n"
     ]
    },
    {
     "name": "stderr",
     "output_type": "stream",
     "text": [
      "10:04:41 - cmdstanpy - INFO - Chain [1] start processing\n",
      "10:04:41 - cmdstanpy - INFO - Chain [1] done processing\n"
     ]
    },
    {
     "name": "stdout",
     "output_type": "stream",
     "text": [
      "\n",
      "--- Forecasting for Product: P013, Location: L17 ---\n"
     ]
    },
    {
     "name": "stderr",
     "output_type": "stream",
     "text": [
      "10:04:43 - cmdstanpy - INFO - Chain [1] start processing\n",
      "10:04:43 - cmdstanpy - INFO - Chain [1] done processing\n"
     ]
    },
    {
     "name": "stdout",
     "output_type": "stream",
     "text": [
      "\n",
      "--- Forecasting for Product: P013, Location: L18 ---\n"
     ]
    },
    {
     "name": "stderr",
     "output_type": "stream",
     "text": [
      "10:04:44 - cmdstanpy - INFO - Chain [1] start processing\n",
      "10:04:45 - cmdstanpy - INFO - Chain [1] done processing\n"
     ]
    },
    {
     "name": "stdout",
     "output_type": "stream",
     "text": [
      "\n",
      "--- Forecasting for Product: P013, Location: L19 ---\n"
     ]
    },
    {
     "name": "stderr",
     "output_type": "stream",
     "text": [
      "10:04:46 - cmdstanpy - INFO - Chain [1] start processing\n",
      "10:04:46 - cmdstanpy - INFO - Chain [1] done processing\n"
     ]
    },
    {
     "name": "stdout",
     "output_type": "stream",
     "text": [
      "\n",
      "--- Forecasting for Product: P013, Location: L20 ---\n"
     ]
    },
    {
     "name": "stderr",
     "output_type": "stream",
     "text": [
      "10:04:47 - cmdstanpy - INFO - Chain [1] start processing\n",
      "10:04:48 - cmdstanpy - INFO - Chain [1] done processing\n"
     ]
    },
    {
     "name": "stdout",
     "output_type": "stream",
     "text": [
      "\n",
      "--- Forecasting for Product: P014, Location: L01 ---\n"
     ]
    },
    {
     "name": "stderr",
     "output_type": "stream",
     "text": [
      "10:04:49 - cmdstanpy - INFO - Chain [1] start processing\n",
      "10:04:50 - cmdstanpy - INFO - Chain [1] done processing\n"
     ]
    },
    {
     "name": "stdout",
     "output_type": "stream",
     "text": [
      "\n",
      "--- Forecasting for Product: P014, Location: L02 ---\n"
     ]
    },
    {
     "name": "stderr",
     "output_type": "stream",
     "text": [
      "10:04:52 - cmdstanpy - INFO - Chain [1] start processing\n",
      "10:04:53 - cmdstanpy - INFO - Chain [1] done processing\n"
     ]
    },
    {
     "name": "stdout",
     "output_type": "stream",
     "text": [
      "\n",
      "--- Forecasting for Product: P014, Location: L03 ---\n"
     ]
    },
    {
     "name": "stderr",
     "output_type": "stream",
     "text": [
      "10:04:55 - cmdstanpy - INFO - Chain [1] start processing\n",
      "10:04:55 - cmdstanpy - INFO - Chain [1] done processing\n"
     ]
    },
    {
     "name": "stdout",
     "output_type": "stream",
     "text": [
      "\n",
      "--- Forecasting for Product: P014, Location: L04 ---\n"
     ]
    },
    {
     "name": "stderr",
     "output_type": "stream",
     "text": [
      "10:04:57 - cmdstanpy - INFO - Chain [1] start processing\n",
      "10:04:57 - cmdstanpy - INFO - Chain [1] done processing\n"
     ]
    },
    {
     "name": "stdout",
     "output_type": "stream",
     "text": [
      "\n",
      "--- Forecasting for Product: P014, Location: L05 ---\n"
     ]
    },
    {
     "name": "stderr",
     "output_type": "stream",
     "text": [
      "10:04:59 - cmdstanpy - INFO - Chain [1] start processing\n",
      "10:05:00 - cmdstanpy - INFO - Chain [1] done processing\n"
     ]
    },
    {
     "name": "stdout",
     "output_type": "stream",
     "text": [
      "\n",
      "--- Forecasting for Product: P014, Location: L06 ---\n"
     ]
    },
    {
     "name": "stderr",
     "output_type": "stream",
     "text": [
      "10:05:02 - cmdstanpy - INFO - Chain [1] start processing\n",
      "10:05:02 - cmdstanpy - INFO - Chain [1] done processing\n"
     ]
    },
    {
     "name": "stdout",
     "output_type": "stream",
     "text": [
      "\n",
      "--- Forecasting for Product: P014, Location: L07 ---\n"
     ]
    },
    {
     "name": "stderr",
     "output_type": "stream",
     "text": [
      "10:05:04 - cmdstanpy - INFO - Chain [1] start processing\n",
      "10:05:05 - cmdstanpy - INFO - Chain [1] done processing\n"
     ]
    },
    {
     "name": "stdout",
     "output_type": "stream",
     "text": [
      "\n",
      "--- Forecasting for Product: P014, Location: L08 ---\n"
     ]
    },
    {
     "name": "stderr",
     "output_type": "stream",
     "text": [
      "10:05:06 - cmdstanpy - INFO - Chain [1] start processing\n",
      "10:05:07 - cmdstanpy - INFO - Chain [1] done processing\n"
     ]
    },
    {
     "name": "stdout",
     "output_type": "stream",
     "text": [
      "\n",
      "--- Forecasting for Product: P014, Location: L09 ---\n"
     ]
    },
    {
     "name": "stderr",
     "output_type": "stream",
     "text": [
      "10:05:08 - cmdstanpy - INFO - Chain [1] start processing\n",
      "10:05:08 - cmdstanpy - INFO - Chain [1] done processing\n"
     ]
    },
    {
     "name": "stdout",
     "output_type": "stream",
     "text": [
      "\n",
      "--- Forecasting for Product: P014, Location: L10 ---\n"
     ]
    },
    {
     "name": "stderr",
     "output_type": "stream",
     "text": [
      "10:05:10 - cmdstanpy - INFO - Chain [1] start processing\n",
      "10:05:10 - cmdstanpy - INFO - Chain [1] done processing\n"
     ]
    },
    {
     "name": "stdout",
     "output_type": "stream",
     "text": [
      "\n",
      "--- Forecasting for Product: P014, Location: L11 ---\n"
     ]
    },
    {
     "name": "stderr",
     "output_type": "stream",
     "text": [
      "10:05:12 - cmdstanpy - INFO - Chain [1] start processing\n",
      "10:05:13 - cmdstanpy - INFO - Chain [1] done processing\n"
     ]
    },
    {
     "name": "stdout",
     "output_type": "stream",
     "text": [
      "\n",
      "--- Forecasting for Product: P014, Location: L12 ---\n"
     ]
    },
    {
     "name": "stderr",
     "output_type": "stream",
     "text": [
      "10:05:14 - cmdstanpy - INFO - Chain [1] start processing\n",
      "10:05:15 - cmdstanpy - INFO - Chain [1] done processing\n"
     ]
    },
    {
     "name": "stdout",
     "output_type": "stream",
     "text": [
      "\n",
      "--- Forecasting for Product: P014, Location: L13 ---\n"
     ]
    },
    {
     "name": "stderr",
     "output_type": "stream",
     "text": [
      "10:05:16 - cmdstanpy - INFO - Chain [1] start processing\n",
      "10:05:17 - cmdstanpy - INFO - Chain [1] done processing\n"
     ]
    },
    {
     "name": "stdout",
     "output_type": "stream",
     "text": [
      "\n",
      "--- Forecasting for Product: P014, Location: L14 ---\n"
     ]
    },
    {
     "name": "stderr",
     "output_type": "stream",
     "text": [
      "10:05:18 - cmdstanpy - INFO - Chain [1] start processing\n",
      "10:05:18 - cmdstanpy - INFO - Chain [1] done processing\n"
     ]
    },
    {
     "name": "stdout",
     "output_type": "stream",
     "text": [
      "\n",
      "--- Forecasting for Product: P014, Location: L15 ---\n"
     ]
    },
    {
     "name": "stderr",
     "output_type": "stream",
     "text": [
      "10:05:20 - cmdstanpy - INFO - Chain [1] start processing\n",
      "10:05:20 - cmdstanpy - INFO - Chain [1] done processing\n"
     ]
    },
    {
     "name": "stdout",
     "output_type": "stream",
     "text": [
      "\n",
      "--- Forecasting for Product: P014, Location: L16 ---\n"
     ]
    },
    {
     "name": "stderr",
     "output_type": "stream",
     "text": [
      "10:05:22 - cmdstanpy - INFO - Chain [1] start processing\n",
      "10:05:22 - cmdstanpy - INFO - Chain [1] done processing\n"
     ]
    },
    {
     "name": "stdout",
     "output_type": "stream",
     "text": [
      "\n",
      "--- Forecasting for Product: P014, Location: L17 ---\n"
     ]
    },
    {
     "name": "stderr",
     "output_type": "stream",
     "text": [
      "10:05:24 - cmdstanpy - INFO - Chain [1] start processing\n",
      "10:05:25 - cmdstanpy - INFO - Chain [1] done processing\n"
     ]
    },
    {
     "name": "stdout",
     "output_type": "stream",
     "text": [
      "\n",
      "--- Forecasting for Product: P014, Location: L18 ---\n"
     ]
    },
    {
     "name": "stderr",
     "output_type": "stream",
     "text": [
      "10:05:26 - cmdstanpy - INFO - Chain [1] start processing\n",
      "10:05:27 - cmdstanpy - INFO - Chain [1] done processing\n"
     ]
    },
    {
     "name": "stdout",
     "output_type": "stream",
     "text": [
      "\n",
      "--- Forecasting for Product: P014, Location: L19 ---\n"
     ]
    },
    {
     "name": "stderr",
     "output_type": "stream",
     "text": [
      "10:05:28 - cmdstanpy - INFO - Chain [1] start processing\n",
      "10:05:29 - cmdstanpy - INFO - Chain [1] done processing\n"
     ]
    },
    {
     "name": "stdout",
     "output_type": "stream",
     "text": [
      "\n",
      "--- Forecasting for Product: P014, Location: L20 ---\n"
     ]
    },
    {
     "name": "stderr",
     "output_type": "stream",
     "text": [
      "10:05:30 - cmdstanpy - INFO - Chain [1] start processing\n",
      "10:05:31 - cmdstanpy - INFO - Chain [1] done processing\n"
     ]
    },
    {
     "name": "stdout",
     "output_type": "stream",
     "text": [
      "\n",
      "--- Forecasting for Product: P015, Location: L01 ---\n"
     ]
    },
    {
     "name": "stderr",
     "output_type": "stream",
     "text": [
      "10:05:32 - cmdstanpy - INFO - Chain [1] start processing\n",
      "10:05:33 - cmdstanpy - INFO - Chain [1] done processing\n"
     ]
    },
    {
     "name": "stdout",
     "output_type": "stream",
     "text": [
      "\n",
      "--- Forecasting for Product: P015, Location: L02 ---\n"
     ]
    },
    {
     "name": "stderr",
     "output_type": "stream",
     "text": [
      "10:05:34 - cmdstanpy - INFO - Chain [1] start processing\n",
      "10:05:35 - cmdstanpy - INFO - Chain [1] done processing\n"
     ]
    },
    {
     "name": "stdout",
     "output_type": "stream",
     "text": [
      "\n",
      "--- Forecasting for Product: P015, Location: L03 ---\n"
     ]
    },
    {
     "name": "stderr",
     "output_type": "stream",
     "text": [
      "10:05:36 - cmdstanpy - INFO - Chain [1] start processing\n",
      "10:05:37 - cmdstanpy - INFO - Chain [1] done processing\n"
     ]
    },
    {
     "name": "stdout",
     "output_type": "stream",
     "text": [
      "\n",
      "--- Forecasting for Product: P015, Location: L04 ---\n"
     ]
    },
    {
     "name": "stderr",
     "output_type": "stream",
     "text": [
      "10:05:38 - cmdstanpy - INFO - Chain [1] start processing\n",
      "10:05:39 - cmdstanpy - INFO - Chain [1] done processing\n"
     ]
    },
    {
     "name": "stdout",
     "output_type": "stream",
     "text": [
      "\n",
      "--- Forecasting for Product: P015, Location: L05 ---\n"
     ]
    },
    {
     "name": "stderr",
     "output_type": "stream",
     "text": [
      "10:05:40 - cmdstanpy - INFO - Chain [1] start processing\n",
      "10:05:40 - cmdstanpy - INFO - Chain [1] done processing\n"
     ]
    },
    {
     "name": "stdout",
     "output_type": "stream",
     "text": [
      "\n",
      "--- Forecasting for Product: P015, Location: L06 ---\n"
     ]
    },
    {
     "name": "stderr",
     "output_type": "stream",
     "text": [
      "10:05:42 - cmdstanpy - INFO - Chain [1] start processing\n",
      "10:05:42 - cmdstanpy - INFO - Chain [1] done processing\n"
     ]
    },
    {
     "name": "stdout",
     "output_type": "stream",
     "text": [
      "\n",
      "--- Forecasting for Product: P015, Location: L07 ---\n"
     ]
    },
    {
     "name": "stderr",
     "output_type": "stream",
     "text": [
      "10:05:43 - cmdstanpy - INFO - Chain [1] start processing\n",
      "10:05:44 - cmdstanpy - INFO - Chain [1] done processing\n"
     ]
    },
    {
     "name": "stdout",
     "output_type": "stream",
     "text": [
      "\n",
      "--- Forecasting for Product: P015, Location: L08 ---\n"
     ]
    },
    {
     "name": "stderr",
     "output_type": "stream",
     "text": [
      "10:05:45 - cmdstanpy - INFO - Chain [1] start processing\n",
      "10:05:45 - cmdstanpy - INFO - Chain [1] done processing\n"
     ]
    },
    {
     "name": "stdout",
     "output_type": "stream",
     "text": [
      "\n",
      "--- Forecasting for Product: P015, Location: L09 ---\n"
     ]
    },
    {
     "name": "stderr",
     "output_type": "stream",
     "text": [
      "10:05:47 - cmdstanpy - INFO - Chain [1] start processing\n",
      "10:05:47 - cmdstanpy - INFO - Chain [1] done processing\n"
     ]
    },
    {
     "name": "stdout",
     "output_type": "stream",
     "text": [
      "\n",
      "--- Forecasting for Product: P015, Location: L10 ---\n"
     ]
    },
    {
     "name": "stderr",
     "output_type": "stream",
     "text": [
      "10:05:49 - cmdstanpy - INFO - Chain [1] start processing\n",
      "10:05:49 - cmdstanpy - INFO - Chain [1] done processing\n"
     ]
    },
    {
     "name": "stdout",
     "output_type": "stream",
     "text": [
      "\n",
      "--- Forecasting for Product: P015, Location: L11 ---\n"
     ]
    },
    {
     "name": "stderr",
     "output_type": "stream",
     "text": [
      "10:05:51 - cmdstanpy - INFO - Chain [1] start processing\n",
      "10:05:51 - cmdstanpy - INFO - Chain [1] done processing\n"
     ]
    },
    {
     "name": "stdout",
     "output_type": "stream",
     "text": [
      "\n",
      "--- Forecasting for Product: P015, Location: L12 ---\n"
     ]
    },
    {
     "name": "stderr",
     "output_type": "stream",
     "text": [
      "10:05:52 - cmdstanpy - INFO - Chain [1] start processing\n",
      "10:05:53 - cmdstanpy - INFO - Chain [1] done processing\n"
     ]
    },
    {
     "name": "stdout",
     "output_type": "stream",
     "text": [
      "\n",
      "--- Forecasting for Product: P015, Location: L13 ---\n"
     ]
    },
    {
     "name": "stderr",
     "output_type": "stream",
     "text": [
      "10:05:54 - cmdstanpy - INFO - Chain [1] start processing\n",
      "10:05:55 - cmdstanpy - INFO - Chain [1] done processing\n"
     ]
    },
    {
     "name": "stdout",
     "output_type": "stream",
     "text": [
      "\n",
      "--- Forecasting for Product: P015, Location: L14 ---\n"
     ]
    },
    {
     "name": "stderr",
     "output_type": "stream",
     "text": [
      "10:05:56 - cmdstanpy - INFO - Chain [1] start processing\n",
      "10:05:58 - cmdstanpy - INFO - Chain [1] done processing\n"
     ]
    },
    {
     "name": "stdout",
     "output_type": "stream",
     "text": [
      "\n",
      "--- Forecasting for Product: P015, Location: L15 ---\n"
     ]
    },
    {
     "name": "stderr",
     "output_type": "stream",
     "text": [
      "10:06:00 - cmdstanpy - INFO - Chain [1] start processing\n",
      "10:06:00 - cmdstanpy - INFO - Chain [1] done processing\n"
     ]
    },
    {
     "name": "stdout",
     "output_type": "stream",
     "text": [
      "\n",
      "--- Forecasting for Product: P015, Location: L16 ---\n"
     ]
    },
    {
     "name": "stderr",
     "output_type": "stream",
     "text": [
      "10:06:02 - cmdstanpy - INFO - Chain [1] start processing\n",
      "10:06:02 - cmdstanpy - INFO - Chain [1] done processing\n"
     ]
    },
    {
     "name": "stdout",
     "output_type": "stream",
     "text": [
      "\n",
      "--- Forecasting for Product: P015, Location: L17 ---\n"
     ]
    },
    {
     "name": "stderr",
     "output_type": "stream",
     "text": [
      "10:06:04 - cmdstanpy - INFO - Chain [1] start processing\n",
      "10:06:04 - cmdstanpy - INFO - Chain [1] done processing\n"
     ]
    },
    {
     "name": "stdout",
     "output_type": "stream",
     "text": [
      "\n",
      "--- Forecasting for Product: P015, Location: L18 ---\n"
     ]
    },
    {
     "name": "stderr",
     "output_type": "stream",
     "text": [
      "10:06:06 - cmdstanpy - INFO - Chain [1] start processing\n",
      "10:06:06 - cmdstanpy - INFO - Chain [1] done processing\n"
     ]
    },
    {
     "name": "stdout",
     "output_type": "stream",
     "text": [
      "\n",
      "--- Forecasting for Product: P015, Location: L19 ---\n"
     ]
    },
    {
     "name": "stderr",
     "output_type": "stream",
     "text": [
      "10:06:07 - cmdstanpy - INFO - Chain [1] start processing\n",
      "10:06:08 - cmdstanpy - INFO - Chain [1] done processing\n"
     ]
    },
    {
     "name": "stdout",
     "output_type": "stream",
     "text": [
      "\n",
      "--- Forecasting for Product: P015, Location: L20 ---\n"
     ]
    },
    {
     "name": "stderr",
     "output_type": "stream",
     "text": [
      "10:06:09 - cmdstanpy - INFO - Chain [1] start processing\n",
      "10:06:10 - cmdstanpy - INFO - Chain [1] done processing\n"
     ]
    },
    {
     "name": "stdout",
     "output_type": "stream",
     "text": [
      "\n",
      "--- Forecasting for Product: P016, Location: L01 ---\n"
     ]
    },
    {
     "name": "stderr",
     "output_type": "stream",
     "text": [
      "10:06:11 - cmdstanpy - INFO - Chain [1] start processing\n",
      "10:06:11 - cmdstanpy - INFO - Chain [1] done processing\n"
     ]
    },
    {
     "name": "stdout",
     "output_type": "stream",
     "text": [
      "\n",
      "--- Forecasting for Product: P016, Location: L02 ---\n"
     ]
    },
    {
     "name": "stderr",
     "output_type": "stream",
     "text": [
      "10:06:14 - cmdstanpy - INFO - Chain [1] start processing\n",
      "10:06:14 - cmdstanpy - INFO - Chain [1] done processing\n"
     ]
    },
    {
     "name": "stdout",
     "output_type": "stream",
     "text": [
      "\n",
      "--- Forecasting for Product: P016, Location: L03 ---\n"
     ]
    },
    {
     "name": "stderr",
     "output_type": "stream",
     "text": [
      "10:06:15 - cmdstanpy - INFO - Chain [1] start processing\n",
      "10:06:16 - cmdstanpy - INFO - Chain [1] done processing\n"
     ]
    },
    {
     "name": "stdout",
     "output_type": "stream",
     "text": [
      "\n",
      "--- Forecasting for Product: P016, Location: L04 ---\n"
     ]
    },
    {
     "name": "stderr",
     "output_type": "stream",
     "text": [
      "10:06:17 - cmdstanpy - INFO - Chain [1] start processing\n",
      "10:06:18 - cmdstanpy - INFO - Chain [1] done processing\n"
     ]
    },
    {
     "name": "stdout",
     "output_type": "stream",
     "text": [
      "\n",
      "--- Forecasting for Product: P016, Location: L05 ---\n"
     ]
    },
    {
     "name": "stderr",
     "output_type": "stream",
     "text": [
      "10:06:19 - cmdstanpy - INFO - Chain [1] start processing\n",
      "10:06:19 - cmdstanpy - INFO - Chain [1] done processing\n"
     ]
    },
    {
     "name": "stdout",
     "output_type": "stream",
     "text": [
      "\n",
      "--- Forecasting for Product: P016, Location: L06 ---\n"
     ]
    },
    {
     "name": "stderr",
     "output_type": "stream",
     "text": [
      "10:06:21 - cmdstanpy - INFO - Chain [1] start processing\n",
      "10:06:21 - cmdstanpy - INFO - Chain [1] done processing\n"
     ]
    },
    {
     "name": "stdout",
     "output_type": "stream",
     "text": [
      "\n",
      "--- Forecasting for Product: P016, Location: L07 ---\n"
     ]
    },
    {
     "name": "stderr",
     "output_type": "stream",
     "text": [
      "10:06:23 - cmdstanpy - INFO - Chain [1] start processing\n",
      "10:06:23 - cmdstanpy - INFO - Chain [1] done processing\n"
     ]
    },
    {
     "name": "stdout",
     "output_type": "stream",
     "text": [
      "\n",
      "--- Forecasting for Product: P016, Location: L08 ---\n"
     ]
    },
    {
     "name": "stderr",
     "output_type": "stream",
     "text": [
      "10:06:25 - cmdstanpy - INFO - Chain [1] start processing\n",
      "10:06:25 - cmdstanpy - INFO - Chain [1] done processing\n"
     ]
    },
    {
     "name": "stdout",
     "output_type": "stream",
     "text": [
      "\n",
      "--- Forecasting for Product: P016, Location: L09 ---\n"
     ]
    },
    {
     "name": "stderr",
     "output_type": "stream",
     "text": [
      "10:06:26 - cmdstanpy - INFO - Chain [1] start processing\n",
      "10:06:27 - cmdstanpy - INFO - Chain [1] done processing\n"
     ]
    },
    {
     "name": "stdout",
     "output_type": "stream",
     "text": [
      "\n",
      "--- Forecasting for Product: P016, Location: L10 ---\n"
     ]
    },
    {
     "name": "stderr",
     "output_type": "stream",
     "text": [
      "10:06:30 - cmdstanpy - INFO - Chain [1] start processing\n",
      "10:06:30 - cmdstanpy - INFO - Chain [1] done processing\n"
     ]
    },
    {
     "name": "stdout",
     "output_type": "stream",
     "text": [
      "\n",
      "--- Forecasting for Product: P016, Location: L11 ---\n"
     ]
    },
    {
     "name": "stderr",
     "output_type": "stream",
     "text": [
      "10:06:32 - cmdstanpy - INFO - Chain [1] start processing\n",
      "10:06:32 - cmdstanpy - INFO - Chain [1] done processing\n"
     ]
    },
    {
     "name": "stdout",
     "output_type": "stream",
     "text": [
      "\n",
      "--- Forecasting for Product: P016, Location: L12 ---\n"
     ]
    },
    {
     "name": "stderr",
     "output_type": "stream",
     "text": [
      "10:06:34 - cmdstanpy - INFO - Chain [1] start processing\n",
      "10:06:34 - cmdstanpy - INFO - Chain [1] done processing\n"
     ]
    },
    {
     "name": "stdout",
     "output_type": "stream",
     "text": [
      "\n",
      "--- Forecasting for Product: P016, Location: L13 ---\n"
     ]
    },
    {
     "name": "stderr",
     "output_type": "stream",
     "text": [
      "10:06:36 - cmdstanpy - INFO - Chain [1] start processing\n",
      "10:06:36 - cmdstanpy - INFO - Chain [1] done processing\n"
     ]
    },
    {
     "name": "stdout",
     "output_type": "stream",
     "text": [
      "\n",
      "--- Forecasting for Product: P016, Location: L14 ---\n"
     ]
    },
    {
     "name": "stderr",
     "output_type": "stream",
     "text": [
      "10:06:37 - cmdstanpy - INFO - Chain [1] start processing\n",
      "10:06:38 - cmdstanpy - INFO - Chain [1] done processing\n"
     ]
    },
    {
     "name": "stdout",
     "output_type": "stream",
     "text": [
      "\n",
      "--- Forecasting for Product: P016, Location: L15 ---\n"
     ]
    },
    {
     "name": "stderr",
     "output_type": "stream",
     "text": [
      "10:06:39 - cmdstanpy - INFO - Chain [1] start processing\n",
      "10:06:40 - cmdstanpy - INFO - Chain [1] done processing\n"
     ]
    },
    {
     "name": "stdout",
     "output_type": "stream",
     "text": [
      "\n",
      "--- Forecasting for Product: P016, Location: L16 ---\n"
     ]
    },
    {
     "name": "stderr",
     "output_type": "stream",
     "text": [
      "10:06:41 - cmdstanpy - INFO - Chain [1] start processing\n",
      "10:06:41 - cmdstanpy - INFO - Chain [1] done processing\n"
     ]
    },
    {
     "name": "stdout",
     "output_type": "stream",
     "text": [
      "\n",
      "--- Forecasting for Product: P016, Location: L17 ---\n"
     ]
    },
    {
     "name": "stderr",
     "output_type": "stream",
     "text": [
      "10:06:43 - cmdstanpy - INFO - Chain [1] start processing\n",
      "10:06:44 - cmdstanpy - INFO - Chain [1] done processing\n"
     ]
    },
    {
     "name": "stdout",
     "output_type": "stream",
     "text": [
      "\n",
      "--- Forecasting for Product: P016, Location: L18 ---\n"
     ]
    },
    {
     "name": "stderr",
     "output_type": "stream",
     "text": [
      "10:06:45 - cmdstanpy - INFO - Chain [1] start processing\n",
      "10:06:46 - cmdstanpy - INFO - Chain [1] done processing\n"
     ]
    },
    {
     "name": "stdout",
     "output_type": "stream",
     "text": [
      "\n",
      "--- Forecasting for Product: P016, Location: L19 ---\n"
     ]
    },
    {
     "name": "stderr",
     "output_type": "stream",
     "text": [
      "10:06:47 - cmdstanpy - INFO - Chain [1] start processing\n",
      "10:06:48 - cmdstanpy - INFO - Chain [1] done processing\n"
     ]
    },
    {
     "name": "stdout",
     "output_type": "stream",
     "text": [
      "\n",
      "--- Forecasting for Product: P016, Location: L20 ---\n"
     ]
    },
    {
     "name": "stderr",
     "output_type": "stream",
     "text": [
      "10:06:49 - cmdstanpy - INFO - Chain [1] start processing\n",
      "10:06:50 - cmdstanpy - INFO - Chain [1] done processing\n"
     ]
    },
    {
     "name": "stdout",
     "output_type": "stream",
     "text": [
      "\n",
      "--- Forecasting for Product: P017, Location: L01 ---\n"
     ]
    },
    {
     "name": "stderr",
     "output_type": "stream",
     "text": [
      "10:06:51 - cmdstanpy - INFO - Chain [1] start processing\n",
      "10:06:51 - cmdstanpy - INFO - Chain [1] done processing\n"
     ]
    },
    {
     "name": "stdout",
     "output_type": "stream",
     "text": [
      "\n",
      "--- Forecasting for Product: P017, Location: L02 ---\n"
     ]
    },
    {
     "name": "stderr",
     "output_type": "stream",
     "text": [
      "10:06:53 - cmdstanpy - INFO - Chain [1] start processing\n",
      "10:06:53 - cmdstanpy - INFO - Chain [1] done processing\n"
     ]
    },
    {
     "name": "stdout",
     "output_type": "stream",
     "text": [
      "\n",
      "--- Forecasting for Product: P017, Location: L03 ---\n"
     ]
    },
    {
     "name": "stderr",
     "output_type": "stream",
     "text": [
      "10:06:55 - cmdstanpy - INFO - Chain [1] start processing\n",
      "10:06:55 - cmdstanpy - INFO - Chain [1] done processing\n"
     ]
    },
    {
     "name": "stdout",
     "output_type": "stream",
     "text": [
      "\n",
      "--- Forecasting for Product: P017, Location: L04 ---\n"
     ]
    },
    {
     "name": "stderr",
     "output_type": "stream",
     "text": [
      "10:06:57 - cmdstanpy - INFO - Chain [1] start processing\n",
      "10:06:57 - cmdstanpy - INFO - Chain [1] done processing\n"
     ]
    },
    {
     "name": "stdout",
     "output_type": "stream",
     "text": [
      "\n",
      "--- Forecasting for Product: P017, Location: L05 ---\n"
     ]
    },
    {
     "name": "stderr",
     "output_type": "stream",
     "text": [
      "10:06:59 - cmdstanpy - INFO - Chain [1] start processing\n",
      "10:06:59 - cmdstanpy - INFO - Chain [1] done processing\n"
     ]
    },
    {
     "name": "stdout",
     "output_type": "stream",
     "text": [
      "\n",
      "--- Forecasting for Product: P017, Location: L06 ---\n"
     ]
    },
    {
     "name": "stderr",
     "output_type": "stream",
     "text": [
      "10:07:01 - cmdstanpy - INFO - Chain [1] start processing\n",
      "10:07:01 - cmdstanpy - INFO - Chain [1] done processing\n"
     ]
    },
    {
     "name": "stdout",
     "output_type": "stream",
     "text": [
      "\n",
      "--- Forecasting for Product: P017, Location: L07 ---\n"
     ]
    },
    {
     "name": "stderr",
     "output_type": "stream",
     "text": [
      "10:07:03 - cmdstanpy - INFO - Chain [1] start processing\n",
      "10:07:03 - cmdstanpy - INFO - Chain [1] done processing\n"
     ]
    },
    {
     "name": "stdout",
     "output_type": "stream",
     "text": [
      "\n",
      "--- Forecasting for Product: P017, Location: L08 ---\n"
     ]
    },
    {
     "name": "stderr",
     "output_type": "stream",
     "text": [
      "10:07:04 - cmdstanpy - INFO - Chain [1] start processing\n",
      "10:07:04 - cmdstanpy - INFO - Chain [1] done processing\n"
     ]
    },
    {
     "name": "stdout",
     "output_type": "stream",
     "text": [
      "\n",
      "--- Forecasting for Product: P017, Location: L09 ---\n"
     ]
    },
    {
     "name": "stderr",
     "output_type": "stream",
     "text": [
      "10:07:06 - cmdstanpy - INFO - Chain [1] start processing\n",
      "10:07:07 - cmdstanpy - INFO - Chain [1] done processing\n"
     ]
    },
    {
     "name": "stdout",
     "output_type": "stream",
     "text": [
      "\n",
      "--- Forecasting for Product: P017, Location: L10 ---\n"
     ]
    },
    {
     "name": "stderr",
     "output_type": "stream",
     "text": [
      "10:07:08 - cmdstanpy - INFO - Chain [1] start processing\n",
      "10:07:09 - cmdstanpy - INFO - Chain [1] done processing\n"
     ]
    },
    {
     "name": "stdout",
     "output_type": "stream",
     "text": [
      "\n",
      "--- Forecasting for Product: P017, Location: L11 ---\n"
     ]
    },
    {
     "name": "stderr",
     "output_type": "stream",
     "text": [
      "10:07:10 - cmdstanpy - INFO - Chain [1] start processing\n",
      "10:07:10 - cmdstanpy - INFO - Chain [1] done processing\n"
     ]
    },
    {
     "name": "stdout",
     "output_type": "stream",
     "text": [
      "\n",
      "--- Forecasting for Product: P017, Location: L12 ---\n"
     ]
    },
    {
     "name": "stderr",
     "output_type": "stream",
     "text": [
      "10:07:12 - cmdstanpy - INFO - Chain [1] start processing\n",
      "10:07:13 - cmdstanpy - INFO - Chain [1] done processing\n"
     ]
    },
    {
     "name": "stdout",
     "output_type": "stream",
     "text": [
      "\n",
      "--- Forecasting for Product: P017, Location: L13 ---\n"
     ]
    },
    {
     "name": "stderr",
     "output_type": "stream",
     "text": [
      "10:07:14 - cmdstanpy - INFO - Chain [1] start processing\n",
      "10:07:15 - cmdstanpy - INFO - Chain [1] done processing\n"
     ]
    },
    {
     "name": "stdout",
     "output_type": "stream",
     "text": [
      "\n",
      "--- Forecasting for Product: P017, Location: L14 ---\n"
     ]
    },
    {
     "name": "stderr",
     "output_type": "stream",
     "text": [
      "10:07:16 - cmdstanpy - INFO - Chain [1] start processing\n",
      "10:07:17 - cmdstanpy - INFO - Chain [1] done processing\n"
     ]
    },
    {
     "name": "stdout",
     "output_type": "stream",
     "text": [
      "\n",
      "--- Forecasting for Product: P017, Location: L15 ---\n"
     ]
    },
    {
     "name": "stderr",
     "output_type": "stream",
     "text": [
      "10:07:19 - cmdstanpy - INFO - Chain [1] start processing\n",
      "10:07:20 - cmdstanpy - INFO - Chain [1] done processing\n"
     ]
    },
    {
     "name": "stdout",
     "output_type": "stream",
     "text": [
      "\n",
      "--- Forecasting for Product: P017, Location: L16 ---\n"
     ]
    },
    {
     "name": "stderr",
     "output_type": "stream",
     "text": [
      "10:07:21 - cmdstanpy - INFO - Chain [1] start processing\n",
      "10:07:22 - cmdstanpy - INFO - Chain [1] done processing\n"
     ]
    },
    {
     "name": "stdout",
     "output_type": "stream",
     "text": [
      "\n",
      "--- Forecasting for Product: P017, Location: L17 ---\n"
     ]
    },
    {
     "name": "stderr",
     "output_type": "stream",
     "text": [
      "10:07:24 - cmdstanpy - INFO - Chain [1] start processing\n",
      "10:07:24 - cmdstanpy - INFO - Chain [1] done processing\n"
     ]
    },
    {
     "name": "stdout",
     "output_type": "stream",
     "text": [
      "\n",
      "--- Forecasting for Product: P017, Location: L18 ---\n"
     ]
    },
    {
     "name": "stderr",
     "output_type": "stream",
     "text": [
      "10:07:26 - cmdstanpy - INFO - Chain [1] start processing\n",
      "10:07:26 - cmdstanpy - INFO - Chain [1] done processing\n"
     ]
    },
    {
     "name": "stdout",
     "output_type": "stream",
     "text": [
      "\n",
      "--- Forecasting for Product: P017, Location: L19 ---\n"
     ]
    },
    {
     "name": "stderr",
     "output_type": "stream",
     "text": [
      "10:07:28 - cmdstanpy - INFO - Chain [1] start processing\n",
      "10:07:28 - cmdstanpy - INFO - Chain [1] done processing\n"
     ]
    },
    {
     "name": "stdout",
     "output_type": "stream",
     "text": [
      "\n",
      "--- Forecasting for Product: P017, Location: L20 ---\n"
     ]
    },
    {
     "name": "stderr",
     "output_type": "stream",
     "text": [
      "10:07:30 - cmdstanpy - INFO - Chain [1] start processing\n",
      "10:07:31 - cmdstanpy - INFO - Chain [1] done processing\n"
     ]
    },
    {
     "name": "stdout",
     "output_type": "stream",
     "text": [
      "\n",
      "--- Forecasting for Product: P018, Location: L01 ---\n"
     ]
    },
    {
     "name": "stderr",
     "output_type": "stream",
     "text": [
      "10:07:33 - cmdstanpy - INFO - Chain [1] start processing\n",
      "10:07:35 - cmdstanpy - INFO - Chain [1] done processing\n"
     ]
    },
    {
     "name": "stdout",
     "output_type": "stream",
     "text": [
      "\n",
      "--- Forecasting for Product: P018, Location: L02 ---\n"
     ]
    },
    {
     "name": "stderr",
     "output_type": "stream",
     "text": [
      "10:07:36 - cmdstanpy - INFO - Chain [1] start processing\n",
      "10:07:36 - cmdstanpy - INFO - Chain [1] done processing\n"
     ]
    },
    {
     "name": "stdout",
     "output_type": "stream",
     "text": [
      "\n",
      "--- Forecasting for Product: P018, Location: L03 ---\n"
     ]
    },
    {
     "name": "stderr",
     "output_type": "stream",
     "text": [
      "10:07:38 - cmdstanpy - INFO - Chain [1] start processing\n",
      "10:07:39 - cmdstanpy - INFO - Chain [1] done processing\n"
     ]
    },
    {
     "name": "stdout",
     "output_type": "stream",
     "text": [
      "\n",
      "--- Forecasting for Product: P018, Location: L04 ---\n"
     ]
    },
    {
     "name": "stderr",
     "output_type": "stream",
     "text": [
      "10:07:40 - cmdstanpy - INFO - Chain [1] start processing\n",
      "10:07:41 - cmdstanpy - INFO - Chain [1] done processing\n"
     ]
    },
    {
     "name": "stdout",
     "output_type": "stream",
     "text": [
      "\n",
      "--- Forecasting for Product: P018, Location: L05 ---\n"
     ]
    },
    {
     "name": "stderr",
     "output_type": "stream",
     "text": [
      "10:07:42 - cmdstanpy - INFO - Chain [1] start processing\n",
      "10:07:43 - cmdstanpy - INFO - Chain [1] done processing\n"
     ]
    },
    {
     "name": "stdout",
     "output_type": "stream",
     "text": [
      "\n",
      "--- Forecasting for Product: P018, Location: L06 ---\n"
     ]
    },
    {
     "name": "stderr",
     "output_type": "stream",
     "text": [
      "10:07:44 - cmdstanpy - INFO - Chain [1] start processing\n",
      "10:07:44 - cmdstanpy - INFO - Chain [1] done processing\n"
     ]
    },
    {
     "name": "stdout",
     "output_type": "stream",
     "text": [
      "\n",
      "--- Forecasting for Product: P018, Location: L07 ---\n"
     ]
    },
    {
     "name": "stderr",
     "output_type": "stream",
     "text": [
      "10:07:46 - cmdstanpy - INFO - Chain [1] start processing\n",
      "10:07:46 - cmdstanpy - INFO - Chain [1] done processing\n"
     ]
    },
    {
     "name": "stdout",
     "output_type": "stream",
     "text": [
      "\n",
      "--- Forecasting for Product: P018, Location: L08 ---\n"
     ]
    },
    {
     "name": "stderr",
     "output_type": "stream",
     "text": [
      "10:07:48 - cmdstanpy - INFO - Chain [1] start processing\n",
      "10:07:48 - cmdstanpy - INFO - Chain [1] done processing\n"
     ]
    },
    {
     "name": "stdout",
     "output_type": "stream",
     "text": [
      "\n",
      "--- Forecasting for Product: P018, Location: L09 ---\n"
     ]
    },
    {
     "name": "stderr",
     "output_type": "stream",
     "text": [
      "10:07:50 - cmdstanpy - INFO - Chain [1] start processing\n",
      "10:07:50 - cmdstanpy - INFO - Chain [1] done processing\n"
     ]
    },
    {
     "name": "stdout",
     "output_type": "stream",
     "text": [
      "\n",
      "--- Forecasting for Product: P018, Location: L10 ---\n"
     ]
    },
    {
     "name": "stderr",
     "output_type": "stream",
     "text": [
      "10:07:51 - cmdstanpy - INFO - Chain [1] start processing\n",
      "10:07:52 - cmdstanpy - INFO - Chain [1] done processing\n"
     ]
    },
    {
     "name": "stdout",
     "output_type": "stream",
     "text": [
      "\n",
      "--- Forecasting for Product: P018, Location: L11 ---\n"
     ]
    },
    {
     "name": "stderr",
     "output_type": "stream",
     "text": [
      "10:07:53 - cmdstanpy - INFO - Chain [1] start processing\n",
      "10:07:54 - cmdstanpy - INFO - Chain [1] done processing\n"
     ]
    },
    {
     "name": "stdout",
     "output_type": "stream",
     "text": [
      "\n",
      "--- Forecasting for Product: P018, Location: L12 ---\n"
     ]
    },
    {
     "name": "stderr",
     "output_type": "stream",
     "text": [
      "10:07:55 - cmdstanpy - INFO - Chain [1] start processing\n",
      "10:07:55 - cmdstanpy - INFO - Chain [1] done processing\n"
     ]
    },
    {
     "name": "stdout",
     "output_type": "stream",
     "text": [
      "\n",
      "--- Forecasting for Product: P018, Location: L13 ---\n"
     ]
    },
    {
     "name": "stderr",
     "output_type": "stream",
     "text": [
      "10:07:57 - cmdstanpy - INFO - Chain [1] start processing\n",
      "10:07:57 - cmdstanpy - INFO - Chain [1] done processing\n"
     ]
    },
    {
     "name": "stdout",
     "output_type": "stream",
     "text": [
      "\n",
      "--- Forecasting for Product: P018, Location: L14 ---\n"
     ]
    },
    {
     "name": "stderr",
     "output_type": "stream",
     "text": [
      "10:07:59 - cmdstanpy - INFO - Chain [1] start processing\n",
      "10:07:59 - cmdstanpy - INFO - Chain [1] done processing\n"
     ]
    },
    {
     "name": "stdout",
     "output_type": "stream",
     "text": [
      "\n",
      "--- Forecasting for Product: P018, Location: L15 ---\n"
     ]
    },
    {
     "name": "stderr",
     "output_type": "stream",
     "text": [
      "10:08:01 - cmdstanpy - INFO - Chain [1] start processing\n",
      "10:08:01 - cmdstanpy - INFO - Chain [1] done processing\n"
     ]
    },
    {
     "name": "stdout",
     "output_type": "stream",
     "text": [
      "\n",
      "--- Forecasting for Product: P018, Location: L16 ---\n"
     ]
    },
    {
     "name": "stderr",
     "output_type": "stream",
     "text": [
      "10:08:03 - cmdstanpy - INFO - Chain [1] start processing\n",
      "10:08:03 - cmdstanpy - INFO - Chain [1] done processing\n"
     ]
    },
    {
     "name": "stdout",
     "output_type": "stream",
     "text": [
      "\n",
      "--- Forecasting for Product: P018, Location: L17 ---\n"
     ]
    },
    {
     "name": "stderr",
     "output_type": "stream",
     "text": [
      "10:08:04 - cmdstanpy - INFO - Chain [1] start processing\n",
      "10:08:05 - cmdstanpy - INFO - Chain [1] done processing\n"
     ]
    },
    {
     "name": "stdout",
     "output_type": "stream",
     "text": [
      "\n",
      "--- Forecasting for Product: P018, Location: L18 ---\n"
     ]
    },
    {
     "name": "stderr",
     "output_type": "stream",
     "text": [
      "10:08:06 - cmdstanpy - INFO - Chain [1] start processing\n",
      "10:08:06 - cmdstanpy - INFO - Chain [1] done processing\n"
     ]
    },
    {
     "name": "stdout",
     "output_type": "stream",
     "text": [
      "\n",
      "--- Forecasting for Product: P018, Location: L19 ---\n"
     ]
    },
    {
     "name": "stderr",
     "output_type": "stream",
     "text": [
      "10:08:08 - cmdstanpy - INFO - Chain [1] start processing\n",
      "10:08:08 - cmdstanpy - INFO - Chain [1] done processing\n"
     ]
    },
    {
     "name": "stdout",
     "output_type": "stream",
     "text": [
      "\n",
      "--- Forecasting for Product: P018, Location: L20 ---\n"
     ]
    },
    {
     "name": "stderr",
     "output_type": "stream",
     "text": [
      "10:08:10 - cmdstanpy - INFO - Chain [1] start processing\n",
      "10:08:10 - cmdstanpy - INFO - Chain [1] done processing\n"
     ]
    },
    {
     "name": "stdout",
     "output_type": "stream",
     "text": [
      "\n",
      "--- Forecasting for Product: P019, Location: L01 ---\n"
     ]
    },
    {
     "name": "stderr",
     "output_type": "stream",
     "text": [
      "10:08:12 - cmdstanpy - INFO - Chain [1] start processing\n",
      "10:08:12 - cmdstanpy - INFO - Chain [1] done processing\n"
     ]
    },
    {
     "name": "stdout",
     "output_type": "stream",
     "text": [
      "\n",
      "--- Forecasting for Product: P019, Location: L02 ---\n"
     ]
    },
    {
     "name": "stderr",
     "output_type": "stream",
     "text": [
      "10:08:14 - cmdstanpy - INFO - Chain [1] start processing\n",
      "10:08:16 - cmdstanpy - INFO - Chain [1] done processing\n"
     ]
    },
    {
     "name": "stdout",
     "output_type": "stream",
     "text": [
      "\n",
      "--- Forecasting for Product: P019, Location: L03 ---\n"
     ]
    },
    {
     "name": "stderr",
     "output_type": "stream",
     "text": [
      "10:08:17 - cmdstanpy - INFO - Chain [1] start processing\n",
      "10:08:18 - cmdstanpy - INFO - Chain [1] done processing\n"
     ]
    },
    {
     "name": "stdout",
     "output_type": "stream",
     "text": [
      "\n",
      "--- Forecasting for Product: P019, Location: L04 ---\n"
     ]
    },
    {
     "name": "stderr",
     "output_type": "stream",
     "text": [
      "10:08:19 - cmdstanpy - INFO - Chain [1] start processing\n",
      "10:08:19 - cmdstanpy - INFO - Chain [1] done processing\n"
     ]
    },
    {
     "name": "stdout",
     "output_type": "stream",
     "text": [
      "\n",
      "--- Forecasting for Product: P019, Location: L05 ---\n"
     ]
    },
    {
     "name": "stderr",
     "output_type": "stream",
     "text": [
      "10:08:21 - cmdstanpy - INFO - Chain [1] start processing\n",
      "10:08:21 - cmdstanpy - INFO - Chain [1] done processing\n"
     ]
    },
    {
     "name": "stdout",
     "output_type": "stream",
     "text": [
      "\n",
      "--- Forecasting for Product: P019, Location: L06 ---\n"
     ]
    },
    {
     "name": "stderr",
     "output_type": "stream",
     "text": [
      "10:08:23 - cmdstanpy - INFO - Chain [1] start processing\n",
      "10:08:23 - cmdstanpy - INFO - Chain [1] done processing\n"
     ]
    },
    {
     "name": "stdout",
     "output_type": "stream",
     "text": [
      "\n",
      "--- Forecasting for Product: P019, Location: L07 ---\n"
     ]
    },
    {
     "name": "stderr",
     "output_type": "stream",
     "text": [
      "10:08:24 - cmdstanpy - INFO - Chain [1] start processing\n",
      "10:08:25 - cmdstanpy - INFO - Chain [1] done processing\n"
     ]
    },
    {
     "name": "stdout",
     "output_type": "stream",
     "text": [
      "\n",
      "--- Forecasting for Product: P019, Location: L08 ---\n"
     ]
    },
    {
     "name": "stderr",
     "output_type": "stream",
     "text": [
      "10:08:26 - cmdstanpy - INFO - Chain [1] start processing\n",
      "10:08:27 - cmdstanpy - INFO - Chain [1] done processing\n"
     ]
    },
    {
     "name": "stdout",
     "output_type": "stream",
     "text": [
      "\n",
      "--- Forecasting for Product: P019, Location: L09 ---\n"
     ]
    },
    {
     "name": "stderr",
     "output_type": "stream",
     "text": [
      "10:08:28 - cmdstanpy - INFO - Chain [1] start processing\n",
      "10:08:29 - cmdstanpy - INFO - Chain [1] done processing\n"
     ]
    },
    {
     "name": "stdout",
     "output_type": "stream",
     "text": [
      "\n",
      "--- Forecasting for Product: P019, Location: L10 ---\n"
     ]
    },
    {
     "name": "stderr",
     "output_type": "stream",
     "text": [
      "10:08:30 - cmdstanpy - INFO - Chain [1] start processing\n",
      "10:08:30 - cmdstanpy - INFO - Chain [1] done processing\n"
     ]
    },
    {
     "name": "stdout",
     "output_type": "stream",
     "text": [
      "\n",
      "--- Forecasting for Product: P019, Location: L11 ---\n"
     ]
    },
    {
     "name": "stderr",
     "output_type": "stream",
     "text": [
      "10:08:32 - cmdstanpy - INFO - Chain [1] start processing\n",
      "10:08:32 - cmdstanpy - INFO - Chain [1] done processing\n"
     ]
    },
    {
     "name": "stdout",
     "output_type": "stream",
     "text": [
      "\n",
      "--- Forecasting for Product: P019, Location: L12 ---\n"
     ]
    },
    {
     "name": "stderr",
     "output_type": "stream",
     "text": [
      "10:08:34 - cmdstanpy - INFO - Chain [1] start processing\n",
      "10:08:35 - cmdstanpy - INFO - Chain [1] done processing\n"
     ]
    },
    {
     "name": "stdout",
     "output_type": "stream",
     "text": [
      "\n",
      "--- Forecasting for Product: P019, Location: L13 ---\n"
     ]
    },
    {
     "name": "stderr",
     "output_type": "stream",
     "text": [
      "10:08:36 - cmdstanpy - INFO - Chain [1] start processing\n",
      "10:08:37 - cmdstanpy - INFO - Chain [1] done processing\n"
     ]
    },
    {
     "name": "stdout",
     "output_type": "stream",
     "text": [
      "\n",
      "--- Forecasting for Product: P019, Location: L14 ---\n"
     ]
    },
    {
     "name": "stderr",
     "output_type": "stream",
     "text": [
      "10:08:39 - cmdstanpy - INFO - Chain [1] start processing\n",
      "10:08:39 - cmdstanpy - INFO - Chain [1] done processing\n"
     ]
    },
    {
     "name": "stdout",
     "output_type": "stream",
     "text": [
      "\n",
      "--- Forecasting for Product: P019, Location: L15 ---\n"
     ]
    },
    {
     "name": "stderr",
     "output_type": "stream",
     "text": [
      "10:08:41 - cmdstanpy - INFO - Chain [1] start processing\n",
      "10:08:41 - cmdstanpy - INFO - Chain [1] done processing\n"
     ]
    },
    {
     "name": "stdout",
     "output_type": "stream",
     "text": [
      "\n",
      "--- Forecasting for Product: P019, Location: L16 ---\n"
     ]
    },
    {
     "name": "stderr",
     "output_type": "stream",
     "text": [
      "10:08:42 - cmdstanpy - INFO - Chain [1] start processing\n",
      "10:08:42 - cmdstanpy - INFO - Chain [1] done processing\n"
     ]
    },
    {
     "name": "stdout",
     "output_type": "stream",
     "text": [
      "\n",
      "--- Forecasting for Product: P019, Location: L17 ---\n"
     ]
    },
    {
     "name": "stderr",
     "output_type": "stream",
     "text": [
      "10:08:44 - cmdstanpy - INFO - Chain [1] start processing\n",
      "10:08:44 - cmdstanpy - INFO - Chain [1] done processing\n"
     ]
    },
    {
     "name": "stdout",
     "output_type": "stream",
     "text": [
      "\n",
      "--- Forecasting for Product: P019, Location: L18 ---\n"
     ]
    },
    {
     "name": "stderr",
     "output_type": "stream",
     "text": [
      "10:08:46 - cmdstanpy - INFO - Chain [1] start processing\n",
      "10:08:46 - cmdstanpy - INFO - Chain [1] done processing\n"
     ]
    },
    {
     "name": "stdout",
     "output_type": "stream",
     "text": [
      "\n",
      "--- Forecasting for Product: P019, Location: L19 ---\n"
     ]
    },
    {
     "name": "stderr",
     "output_type": "stream",
     "text": [
      "10:08:47 - cmdstanpy - INFO - Chain [1] start processing\n",
      "10:08:48 - cmdstanpy - INFO - Chain [1] done processing\n"
     ]
    },
    {
     "name": "stdout",
     "output_type": "stream",
     "text": [
      "\n",
      "--- Forecasting for Product: P019, Location: L20 ---\n"
     ]
    },
    {
     "name": "stderr",
     "output_type": "stream",
     "text": [
      "10:08:49 - cmdstanpy - INFO - Chain [1] start processing\n",
      "10:08:50 - cmdstanpy - INFO - Chain [1] done processing\n"
     ]
    },
    {
     "name": "stdout",
     "output_type": "stream",
     "text": [
      "\n",
      "--- Forecasting for Product: P020, Location: L01 ---\n"
     ]
    },
    {
     "name": "stderr",
     "output_type": "stream",
     "text": [
      "10:08:51 - cmdstanpy - INFO - Chain [1] start processing\n",
      "10:08:52 - cmdstanpy - INFO - Chain [1] done processing\n"
     ]
    },
    {
     "name": "stdout",
     "output_type": "stream",
     "text": [
      "\n",
      "--- Forecasting for Product: P020, Location: L02 ---\n"
     ]
    },
    {
     "name": "stderr",
     "output_type": "stream",
     "text": [
      "10:08:53 - cmdstanpy - INFO - Chain [1] start processing\n",
      "10:08:54 - cmdstanpy - INFO - Chain [1] done processing\n"
     ]
    },
    {
     "name": "stdout",
     "output_type": "stream",
     "text": [
      "\n",
      "--- Forecasting for Product: P020, Location: L03 ---\n"
     ]
    },
    {
     "name": "stderr",
     "output_type": "stream",
     "text": [
      "10:08:55 - cmdstanpy - INFO - Chain [1] start processing\n",
      "10:08:55 - cmdstanpy - INFO - Chain [1] done processing\n"
     ]
    },
    {
     "name": "stdout",
     "output_type": "stream",
     "text": [
      "\n",
      "--- Forecasting for Product: P020, Location: L04 ---\n"
     ]
    },
    {
     "name": "stderr",
     "output_type": "stream",
     "text": [
      "10:08:58 - cmdstanpy - INFO - Chain [1] start processing\n",
      "10:08:59 - cmdstanpy - INFO - Chain [1] done processing\n"
     ]
    },
    {
     "name": "stdout",
     "output_type": "stream",
     "text": [
      "\n",
      "--- Forecasting for Product: P020, Location: L05 ---\n"
     ]
    },
    {
     "name": "stderr",
     "output_type": "stream",
     "text": [
      "10:09:01 - cmdstanpy - INFO - Chain [1] start processing\n",
      "10:09:01 - cmdstanpy - INFO - Chain [1] done processing\n"
     ]
    },
    {
     "name": "stdout",
     "output_type": "stream",
     "text": [
      "\n",
      "--- Forecasting for Product: P020, Location: L06 ---\n"
     ]
    },
    {
     "name": "stderr",
     "output_type": "stream",
     "text": [
      "10:09:03 - cmdstanpy - INFO - Chain [1] start processing\n",
      "10:09:03 - cmdstanpy - INFO - Chain [1] done processing\n"
     ]
    },
    {
     "name": "stdout",
     "output_type": "stream",
     "text": [
      "\n",
      "--- Forecasting for Product: P020, Location: L07 ---\n"
     ]
    },
    {
     "name": "stderr",
     "output_type": "stream",
     "text": [
      "10:09:05 - cmdstanpy - INFO - Chain [1] start processing\n",
      "10:09:05 - cmdstanpy - INFO - Chain [1] done processing\n"
     ]
    },
    {
     "name": "stdout",
     "output_type": "stream",
     "text": [
      "\n",
      "--- Forecasting for Product: P020, Location: L08 ---\n"
     ]
    },
    {
     "name": "stderr",
     "output_type": "stream",
     "text": [
      "10:09:07 - cmdstanpy - INFO - Chain [1] start processing\n",
      "10:09:08 - cmdstanpy - INFO - Chain [1] done processing\n"
     ]
    },
    {
     "name": "stdout",
     "output_type": "stream",
     "text": [
      "\n",
      "--- Forecasting for Product: P020, Location: L09 ---\n"
     ]
    },
    {
     "name": "stderr",
     "output_type": "stream",
     "text": [
      "10:09:09 - cmdstanpy - INFO - Chain [1] start processing\n",
      "10:09:10 - cmdstanpy - INFO - Chain [1] done processing\n"
     ]
    },
    {
     "name": "stdout",
     "output_type": "stream",
     "text": [
      "\n",
      "--- Forecasting for Product: P020, Location: L10 ---\n"
     ]
    },
    {
     "name": "stderr",
     "output_type": "stream",
     "text": [
      "10:09:11 - cmdstanpy - INFO - Chain [1] start processing\n",
      "10:09:12 - cmdstanpy - INFO - Chain [1] done processing\n"
     ]
    },
    {
     "name": "stdout",
     "output_type": "stream",
     "text": [
      "\n",
      "--- Forecasting for Product: P020, Location: L11 ---\n"
     ]
    },
    {
     "name": "stderr",
     "output_type": "stream",
     "text": [
      "10:09:14 - cmdstanpy - INFO - Chain [1] start processing\n",
      "10:09:15 - cmdstanpy - INFO - Chain [1] done processing\n"
     ]
    },
    {
     "name": "stdout",
     "output_type": "stream",
     "text": [
      "\n",
      "--- Forecasting for Product: P020, Location: L12 ---\n"
     ]
    },
    {
     "name": "stderr",
     "output_type": "stream",
     "text": [
      "10:09:17 - cmdstanpy - INFO - Chain [1] start processing\n",
      "10:09:17 - cmdstanpy - INFO - Chain [1] done processing\n"
     ]
    },
    {
     "name": "stdout",
     "output_type": "stream",
     "text": [
      "\n",
      "--- Forecasting for Product: P020, Location: L13 ---\n"
     ]
    },
    {
     "name": "stderr",
     "output_type": "stream",
     "text": [
      "10:09:20 - cmdstanpy - INFO - Chain [1] start processing\n",
      "10:09:20 - cmdstanpy - INFO - Chain [1] done processing\n"
     ]
    },
    {
     "name": "stdout",
     "output_type": "stream",
     "text": [
      "\n",
      "--- Forecasting for Product: P020, Location: L14 ---\n"
     ]
    },
    {
     "name": "stderr",
     "output_type": "stream",
     "text": [
      "10:09:22 - cmdstanpy - INFO - Chain [1] start processing\n",
      "10:09:23 - cmdstanpy - INFO - Chain [1] done processing\n"
     ]
    },
    {
     "name": "stdout",
     "output_type": "stream",
     "text": [
      "\n",
      "--- Forecasting for Product: P020, Location: L15 ---\n"
     ]
    },
    {
     "name": "stderr",
     "output_type": "stream",
     "text": [
      "10:09:25 - cmdstanpy - INFO - Chain [1] start processing\n",
      "10:09:25 - cmdstanpy - INFO - Chain [1] done processing\n"
     ]
    },
    {
     "name": "stdout",
     "output_type": "stream",
     "text": [
      "\n",
      "--- Forecasting for Product: P020, Location: L16 ---\n"
     ]
    },
    {
     "name": "stderr",
     "output_type": "stream",
     "text": [
      "10:09:27 - cmdstanpy - INFO - Chain [1] start processing\n",
      "10:09:28 - cmdstanpy - INFO - Chain [1] done processing\n"
     ]
    },
    {
     "name": "stdout",
     "output_type": "stream",
     "text": [
      "\n",
      "--- Forecasting for Product: P020, Location: L17 ---\n"
     ]
    },
    {
     "name": "stderr",
     "output_type": "stream",
     "text": [
      "10:09:30 - cmdstanpy - INFO - Chain [1] start processing\n",
      "10:09:30 - cmdstanpy - INFO - Chain [1] done processing\n"
     ]
    },
    {
     "name": "stdout",
     "output_type": "stream",
     "text": [
      "\n",
      "--- Forecasting for Product: P020, Location: L18 ---\n"
     ]
    },
    {
     "name": "stderr",
     "output_type": "stream",
     "text": [
      "10:09:32 - cmdstanpy - INFO - Chain [1] start processing\n",
      "10:09:33 - cmdstanpy - INFO - Chain [1] done processing\n"
     ]
    },
    {
     "name": "stdout",
     "output_type": "stream",
     "text": [
      "\n",
      "--- Forecasting for Product: P020, Location: L19 ---\n"
     ]
    },
    {
     "name": "stderr",
     "output_type": "stream",
     "text": [
      "10:09:35 - cmdstanpy - INFO - Chain [1] start processing\n",
      "10:09:35 - cmdstanpy - INFO - Chain [1] done processing\n"
     ]
    },
    {
     "name": "stdout",
     "output_type": "stream",
     "text": [
      "\n",
      "--- Forecasting for Product: P020, Location: L20 ---\n"
     ]
    },
    {
     "name": "stderr",
     "output_type": "stream",
     "text": [
      "10:09:37 - cmdstanpy - INFO - Chain [1] start processing\n",
      "10:09:37 - cmdstanpy - INFO - Chain [1] done processing\n"
     ]
    },
    {
     "name": "stdout",
     "output_type": "stream",
     "text": [
      "\n",
      "--- Forecasting for Product: P021, Location: L01 ---\n"
     ]
    },
    {
     "name": "stderr",
     "output_type": "stream",
     "text": [
      "10:09:39 - cmdstanpy - INFO - Chain [1] start processing\n",
      "10:09:39 - cmdstanpy - INFO - Chain [1] done processing\n"
     ]
    },
    {
     "name": "stdout",
     "output_type": "stream",
     "text": [
      "\n",
      "--- Forecasting for Product: P021, Location: L02 ---\n"
     ]
    },
    {
     "name": "stderr",
     "output_type": "stream",
     "text": [
      "10:09:41 - cmdstanpy - INFO - Chain [1] start processing\n",
      "10:09:41 - cmdstanpy - INFO - Chain [1] done processing\n"
     ]
    },
    {
     "name": "stdout",
     "output_type": "stream",
     "text": [
      "\n",
      "--- Forecasting for Product: P021, Location: L03 ---\n"
     ]
    },
    {
     "name": "stderr",
     "output_type": "stream",
     "text": [
      "10:09:43 - cmdstanpy - INFO - Chain [1] start processing\n",
      "10:09:44 - cmdstanpy - INFO - Chain [1] done processing\n"
     ]
    },
    {
     "name": "stdout",
     "output_type": "stream",
     "text": [
      "\n",
      "--- Forecasting for Product: P021, Location: L04 ---\n"
     ]
    },
    {
     "name": "stderr",
     "output_type": "stream",
     "text": [
      "10:09:46 - cmdstanpy - INFO - Chain [1] start processing\n",
      "10:09:46 - cmdstanpy - INFO - Chain [1] done processing\n"
     ]
    },
    {
     "name": "stdout",
     "output_type": "stream",
     "text": [
      "\n",
      "--- Forecasting for Product: P021, Location: L05 ---\n"
     ]
    },
    {
     "name": "stderr",
     "output_type": "stream",
     "text": [
      "10:09:48 - cmdstanpy - INFO - Chain [1] start processing\n",
      "10:09:49 - cmdstanpy - INFO - Chain [1] done processing\n"
     ]
    },
    {
     "name": "stdout",
     "output_type": "stream",
     "text": [
      "\n",
      "--- Forecasting for Product: P021, Location: L06 ---\n"
     ]
    },
    {
     "name": "stderr",
     "output_type": "stream",
     "text": [
      "10:09:50 - cmdstanpy - INFO - Chain [1] start processing\n",
      "10:09:51 - cmdstanpy - INFO - Chain [1] done processing\n"
     ]
    },
    {
     "name": "stdout",
     "output_type": "stream",
     "text": [
      "\n",
      "--- Forecasting for Product: P021, Location: L07 ---\n"
     ]
    },
    {
     "name": "stderr",
     "output_type": "stream",
     "text": [
      "10:09:53 - cmdstanpy - INFO - Chain [1] start processing\n",
      "10:09:55 - cmdstanpy - INFO - Chain [1] done processing\n"
     ]
    },
    {
     "name": "stdout",
     "output_type": "stream",
     "text": [
      "\n",
      "--- Forecasting for Product: P021, Location: L08 ---\n"
     ]
    },
    {
     "name": "stderr",
     "output_type": "stream",
     "text": [
      "10:09:56 - cmdstanpy - INFO - Chain [1] start processing\n",
      "10:09:57 - cmdstanpy - INFO - Chain [1] done processing\n"
     ]
    },
    {
     "name": "stdout",
     "output_type": "stream",
     "text": [
      "\n",
      "--- Forecasting for Product: P021, Location: L09 ---\n"
     ]
    },
    {
     "name": "stderr",
     "output_type": "stream",
     "text": [
      "10:09:58 - cmdstanpy - INFO - Chain [1] start processing\n",
      "10:09:59 - cmdstanpy - INFO - Chain [1] done processing\n"
     ]
    },
    {
     "name": "stdout",
     "output_type": "stream",
     "text": [
      "\n",
      "--- Forecasting for Product: P021, Location: L10 ---\n"
     ]
    },
    {
     "name": "stderr",
     "output_type": "stream",
     "text": [
      "10:10:00 - cmdstanpy - INFO - Chain [1] start processing\n",
      "10:10:00 - cmdstanpy - INFO - Chain [1] done processing\n"
     ]
    },
    {
     "name": "stdout",
     "output_type": "stream",
     "text": [
      "\n",
      "--- Forecasting for Product: P021, Location: L11 ---\n"
     ]
    },
    {
     "name": "stderr",
     "output_type": "stream",
     "text": [
      "10:10:02 - cmdstanpy - INFO - Chain [1] start processing\n",
      "10:10:03 - cmdstanpy - INFO - Chain [1] done processing\n"
     ]
    },
    {
     "name": "stdout",
     "output_type": "stream",
     "text": [
      "\n",
      "--- Forecasting for Product: P021, Location: L12 ---\n"
     ]
    },
    {
     "name": "stderr",
     "output_type": "stream",
     "text": [
      "10:10:04 - cmdstanpy - INFO - Chain [1] start processing\n",
      "10:10:05 - cmdstanpy - INFO - Chain [1] done processing\n"
     ]
    },
    {
     "name": "stdout",
     "output_type": "stream",
     "text": [
      "\n",
      "--- Forecasting for Product: P021, Location: L13 ---\n"
     ]
    },
    {
     "name": "stderr",
     "output_type": "stream",
     "text": [
      "10:10:07 - cmdstanpy - INFO - Chain [1] start processing\n",
      "10:10:08 - cmdstanpy - INFO - Chain [1] done processing\n"
     ]
    },
    {
     "name": "stdout",
     "output_type": "stream",
     "text": [
      "\n",
      "--- Forecasting for Product: P021, Location: L14 ---\n"
     ]
    },
    {
     "name": "stderr",
     "output_type": "stream",
     "text": [
      "10:10:10 - cmdstanpy - INFO - Chain [1] start processing\n",
      "10:10:10 - cmdstanpy - INFO - Chain [1] done processing\n"
     ]
    },
    {
     "name": "stdout",
     "output_type": "stream",
     "text": [
      "\n",
      "--- Forecasting for Product: P021, Location: L15 ---\n"
     ]
    },
    {
     "name": "stderr",
     "output_type": "stream",
     "text": [
      "10:10:12 - cmdstanpy - INFO - Chain [1] start processing\n",
      "10:10:13 - cmdstanpy - INFO - Chain [1] done processing\n"
     ]
    },
    {
     "name": "stdout",
     "output_type": "stream",
     "text": [
      "\n",
      "--- Forecasting for Product: P021, Location: L16 ---\n"
     ]
    },
    {
     "name": "stderr",
     "output_type": "stream",
     "text": [
      "10:10:14 - cmdstanpy - INFO - Chain [1] start processing\n",
      "10:10:15 - cmdstanpy - INFO - Chain [1] done processing\n"
     ]
    },
    {
     "name": "stdout",
     "output_type": "stream",
     "text": [
      "\n",
      "--- Forecasting for Product: P021, Location: L17 ---\n"
     ]
    },
    {
     "name": "stderr",
     "output_type": "stream",
     "text": [
      "10:10:17 - cmdstanpy - INFO - Chain [1] start processing\n",
      "10:10:18 - cmdstanpy - INFO - Chain [1] done processing\n"
     ]
    },
    {
     "name": "stdout",
     "output_type": "stream",
     "text": [
      "\n",
      "--- Forecasting for Product: P021, Location: L18 ---\n"
     ]
    },
    {
     "name": "stderr",
     "output_type": "stream",
     "text": [
      "10:10:19 - cmdstanpy - INFO - Chain [1] start processing\n",
      "10:10:20 - cmdstanpy - INFO - Chain [1] done processing\n"
     ]
    },
    {
     "name": "stdout",
     "output_type": "stream",
     "text": [
      "\n",
      "--- Forecasting for Product: P021, Location: L19 ---\n"
     ]
    },
    {
     "name": "stderr",
     "output_type": "stream",
     "text": [
      "10:10:22 - cmdstanpy - INFO - Chain [1] start processing\n",
      "10:10:22 - cmdstanpy - INFO - Chain [1] done processing\n"
     ]
    },
    {
     "name": "stdout",
     "output_type": "stream",
     "text": [
      "\n",
      "--- Forecasting for Product: P021, Location: L20 ---\n"
     ]
    },
    {
     "name": "stderr",
     "output_type": "stream",
     "text": [
      "10:10:24 - cmdstanpy - INFO - Chain [1] start processing\n",
      "10:10:24 - cmdstanpy - INFO - Chain [1] done processing\n"
     ]
    },
    {
     "name": "stdout",
     "output_type": "stream",
     "text": [
      "\n",
      "--- Forecasting for Product: P022, Location: L01 ---\n"
     ]
    },
    {
     "name": "stderr",
     "output_type": "stream",
     "text": [
      "10:10:26 - cmdstanpy - INFO - Chain [1] start processing\n",
      "10:10:26 - cmdstanpy - INFO - Chain [1] done processing\n"
     ]
    },
    {
     "name": "stdout",
     "output_type": "stream",
     "text": [
      "\n",
      "--- Forecasting for Product: P022, Location: L02 ---\n"
     ]
    },
    {
     "name": "stderr",
     "output_type": "stream",
     "text": [
      "10:10:27 - cmdstanpy - INFO - Chain [1] start processing\n",
      "10:10:28 - cmdstanpy - INFO - Chain [1] done processing\n"
     ]
    },
    {
     "name": "stdout",
     "output_type": "stream",
     "text": [
      "\n",
      "--- Forecasting for Product: P022, Location: L03 ---\n"
     ]
    },
    {
     "name": "stderr",
     "output_type": "stream",
     "text": [
      "10:10:29 - cmdstanpy - INFO - Chain [1] start processing\n",
      "10:10:30 - cmdstanpy - INFO - Chain [1] done processing\n"
     ]
    },
    {
     "name": "stdout",
     "output_type": "stream",
     "text": [
      "\n",
      "--- Forecasting for Product: P022, Location: L04 ---\n"
     ]
    },
    {
     "name": "stderr",
     "output_type": "stream",
     "text": [
      "10:10:31 - cmdstanpy - INFO - Chain [1] start processing\n",
      "10:10:32 - cmdstanpy - INFO - Chain [1] done processing\n"
     ]
    },
    {
     "name": "stdout",
     "output_type": "stream",
     "text": [
      "\n",
      "--- Forecasting for Product: P022, Location: L05 ---\n"
     ]
    },
    {
     "name": "stderr",
     "output_type": "stream",
     "text": [
      "10:10:33 - cmdstanpy - INFO - Chain [1] start processing\n",
      "10:10:34 - cmdstanpy - INFO - Chain [1] done processing\n"
     ]
    },
    {
     "name": "stdout",
     "output_type": "stream",
     "text": [
      "\n",
      "--- Forecasting for Product: P022, Location: L06 ---\n"
     ]
    },
    {
     "name": "stderr",
     "output_type": "stream",
     "text": [
      "10:10:36 - cmdstanpy - INFO - Chain [1] start processing\n",
      "10:10:36 - cmdstanpy - INFO - Chain [1] done processing\n"
     ]
    },
    {
     "name": "stdout",
     "output_type": "stream",
     "text": [
      "\n",
      "--- Forecasting for Product: P022, Location: L07 ---\n"
     ]
    },
    {
     "name": "stderr",
     "output_type": "stream",
     "text": [
      "10:10:38 - cmdstanpy - INFO - Chain [1] start processing\n",
      "10:10:38 - cmdstanpy - INFO - Chain [1] done processing\n"
     ]
    },
    {
     "name": "stdout",
     "output_type": "stream",
     "text": [
      "\n",
      "--- Forecasting for Product: P022, Location: L08 ---\n"
     ]
    },
    {
     "name": "stderr",
     "output_type": "stream",
     "text": [
      "10:10:40 - cmdstanpy - INFO - Chain [1] start processing\n",
      "10:10:40 - cmdstanpy - INFO - Chain [1] done processing\n"
     ]
    },
    {
     "name": "stdout",
     "output_type": "stream",
     "text": [
      "\n",
      "--- Forecasting for Product: P022, Location: L09 ---\n"
     ]
    },
    {
     "name": "stderr",
     "output_type": "stream",
     "text": [
      "10:10:42 - cmdstanpy - INFO - Chain [1] start processing\n",
      "10:10:42 - cmdstanpy - INFO - Chain [1] done processing\n"
     ]
    },
    {
     "name": "stdout",
     "output_type": "stream",
     "text": [
      "\n",
      "--- Forecasting for Product: P022, Location: L10 ---\n"
     ]
    },
    {
     "name": "stderr",
     "output_type": "stream",
     "text": [
      "10:10:43 - cmdstanpy - INFO - Chain [1] start processing\n",
      "10:10:44 - cmdstanpy - INFO - Chain [1] done processing\n"
     ]
    },
    {
     "name": "stdout",
     "output_type": "stream",
     "text": [
      "\n",
      "--- Forecasting for Product: P022, Location: L11 ---\n"
     ]
    },
    {
     "name": "stderr",
     "output_type": "stream",
     "text": [
      "10:10:45 - cmdstanpy - INFO - Chain [1] start processing\n",
      "10:10:46 - cmdstanpy - INFO - Chain [1] done processing\n"
     ]
    },
    {
     "name": "stdout",
     "output_type": "stream",
     "text": [
      "\n",
      "--- Forecasting for Product: P022, Location: L12 ---\n"
     ]
    },
    {
     "name": "stderr",
     "output_type": "stream",
     "text": [
      "10:10:48 - cmdstanpy - INFO - Chain [1] start processing\n",
      "10:10:49 - cmdstanpy - INFO - Chain [1] done processing\n"
     ]
    },
    {
     "name": "stdout",
     "output_type": "stream",
     "text": [
      "\n",
      "--- Forecasting for Product: P022, Location: L13 ---\n"
     ]
    },
    {
     "name": "stderr",
     "output_type": "stream",
     "text": [
      "10:10:51 - cmdstanpy - INFO - Chain [1] start processing\n",
      "10:10:51 - cmdstanpy - INFO - Chain [1] done processing\n"
     ]
    },
    {
     "name": "stdout",
     "output_type": "stream",
     "text": [
      "\n",
      "--- Forecasting for Product: P022, Location: L14 ---\n"
     ]
    },
    {
     "name": "stderr",
     "output_type": "stream",
     "text": [
      "10:10:53 - cmdstanpy - INFO - Chain [1] start processing\n",
      "10:10:53 - cmdstanpy - INFO - Chain [1] done processing\n"
     ]
    },
    {
     "name": "stdout",
     "output_type": "stream",
     "text": [
      "\n",
      "--- Forecasting for Product: P022, Location: L15 ---\n"
     ]
    },
    {
     "name": "stderr",
     "output_type": "stream",
     "text": [
      "10:10:55 - cmdstanpy - INFO - Chain [1] start processing\n",
      "10:10:56 - cmdstanpy - INFO - Chain [1] done processing\n"
     ]
    },
    {
     "name": "stdout",
     "output_type": "stream",
     "text": [
      "\n",
      "--- Forecasting for Product: P022, Location: L16 ---\n"
     ]
    },
    {
     "name": "stderr",
     "output_type": "stream",
     "text": [
      "10:10:57 - cmdstanpy - INFO - Chain [1] start processing\n",
      "10:10:58 - cmdstanpy - INFO - Chain [1] done processing\n"
     ]
    },
    {
     "name": "stdout",
     "output_type": "stream",
     "text": [
      "\n",
      "--- Forecasting for Product: P022, Location: L17 ---\n"
     ]
    },
    {
     "name": "stderr",
     "output_type": "stream",
     "text": [
      "10:10:59 - cmdstanpy - INFO - Chain [1] start processing\n",
      "10:11:00 - cmdstanpy - INFO - Chain [1] done processing\n"
     ]
    },
    {
     "name": "stdout",
     "output_type": "stream",
     "text": [
      "\n",
      "--- Forecasting for Product: P022, Location: L18 ---\n"
     ]
    },
    {
     "name": "stderr",
     "output_type": "stream",
     "text": [
      "10:11:01 - cmdstanpy - INFO - Chain [1] start processing\n",
      "10:11:01 - cmdstanpy - INFO - Chain [1] done processing\n"
     ]
    },
    {
     "name": "stdout",
     "output_type": "stream",
     "text": [
      "\n",
      "--- Forecasting for Product: P022, Location: L19 ---\n"
     ]
    },
    {
     "name": "stderr",
     "output_type": "stream",
     "text": [
      "10:11:03 - cmdstanpy - INFO - Chain [1] start processing\n",
      "10:11:03 - cmdstanpy - INFO - Chain [1] done processing\n"
     ]
    },
    {
     "name": "stdout",
     "output_type": "stream",
     "text": [
      "\n",
      "--- Forecasting for Product: P022, Location: L20 ---\n"
     ]
    },
    {
     "name": "stderr",
     "output_type": "stream",
     "text": [
      "10:11:04 - cmdstanpy - INFO - Chain [1] start processing\n",
      "10:11:05 - cmdstanpy - INFO - Chain [1] done processing\n"
     ]
    },
    {
     "name": "stdout",
     "output_type": "stream",
     "text": [
      "\n",
      "--- Forecasting for Product: P023, Location: L01 ---\n"
     ]
    },
    {
     "name": "stderr",
     "output_type": "stream",
     "text": [
      "10:11:06 - cmdstanpy - INFO - Chain [1] start processing\n",
      "10:11:06 - cmdstanpy - INFO - Chain [1] done processing\n"
     ]
    },
    {
     "name": "stdout",
     "output_type": "stream",
     "text": [
      "\n",
      "--- Forecasting for Product: P023, Location: L02 ---\n"
     ]
    },
    {
     "name": "stderr",
     "output_type": "stream",
     "text": [
      "10:11:08 - cmdstanpy - INFO - Chain [1] start processing\n",
      "10:11:08 - cmdstanpy - INFO - Chain [1] done processing\n"
     ]
    },
    {
     "name": "stdout",
     "output_type": "stream",
     "text": [
      "\n",
      "--- Forecasting for Product: P023, Location: L03 ---\n"
     ]
    },
    {
     "name": "stderr",
     "output_type": "stream",
     "text": [
      "10:11:10 - cmdstanpy - INFO - Chain [1] start processing\n",
      "10:11:10 - cmdstanpy - INFO - Chain [1] done processing\n"
     ]
    },
    {
     "name": "stdout",
     "output_type": "stream",
     "text": [
      "\n",
      "--- Forecasting for Product: P023, Location: L04 ---\n"
     ]
    },
    {
     "name": "stderr",
     "output_type": "stream",
     "text": [
      "10:11:12 - cmdstanpy - INFO - Chain [1] start processing\n",
      "10:11:13 - cmdstanpy - INFO - Chain [1] done processing\n"
     ]
    },
    {
     "name": "stdout",
     "output_type": "stream",
     "text": [
      "\n",
      "--- Forecasting for Product: P023, Location: L05 ---\n"
     ]
    },
    {
     "name": "stderr",
     "output_type": "stream",
     "text": [
      "10:11:14 - cmdstanpy - INFO - Chain [1] start processing\n",
      "10:11:14 - cmdstanpy - INFO - Chain [1] done processing\n"
     ]
    },
    {
     "name": "stdout",
     "output_type": "stream",
     "text": [
      "\n",
      "--- Forecasting for Product: P023, Location: L06 ---\n"
     ]
    },
    {
     "name": "stderr",
     "output_type": "stream",
     "text": [
      "10:11:16 - cmdstanpy - INFO - Chain [1] start processing\n",
      "10:11:16 - cmdstanpy - INFO - Chain [1] done processing\n"
     ]
    },
    {
     "name": "stdout",
     "output_type": "stream",
     "text": [
      "\n",
      "--- Forecasting for Product: P023, Location: L07 ---\n"
     ]
    },
    {
     "name": "stderr",
     "output_type": "stream",
     "text": [
      "10:11:18 - cmdstanpy - INFO - Chain [1] start processing\n",
      "10:11:18 - cmdstanpy - INFO - Chain [1] done processing\n"
     ]
    },
    {
     "name": "stdout",
     "output_type": "stream",
     "text": [
      "\n",
      "--- Forecasting for Product: P023, Location: L08 ---\n"
     ]
    },
    {
     "name": "stderr",
     "output_type": "stream",
     "text": [
      "10:11:19 - cmdstanpy - INFO - Chain [1] start processing\n",
      "10:11:19 - cmdstanpy - INFO - Chain [1] done processing\n"
     ]
    },
    {
     "name": "stdout",
     "output_type": "stream",
     "text": [
      "\n",
      "--- Forecasting for Product: P023, Location: L09 ---\n"
     ]
    },
    {
     "name": "stderr",
     "output_type": "stream",
     "text": [
      "10:11:21 - cmdstanpy - INFO - Chain [1] start processing\n",
      "10:11:21 - cmdstanpy - INFO - Chain [1] done processing\n"
     ]
    },
    {
     "name": "stdout",
     "output_type": "stream",
     "text": [
      "\n",
      "--- Forecasting for Product: P023, Location: L10 ---\n"
     ]
    },
    {
     "name": "stderr",
     "output_type": "stream",
     "text": [
      "10:11:22 - cmdstanpy - INFO - Chain [1] start processing\n",
      "10:11:23 - cmdstanpy - INFO - Chain [1] done processing\n"
     ]
    },
    {
     "name": "stdout",
     "output_type": "stream",
     "text": [
      "\n",
      "--- Forecasting for Product: P023, Location: L11 ---\n"
     ]
    },
    {
     "name": "stderr",
     "output_type": "stream",
     "text": [
      "10:11:24 - cmdstanpy - INFO - Chain [1] start processing\n",
      "10:11:24 - cmdstanpy - INFO - Chain [1] done processing\n"
     ]
    },
    {
     "name": "stdout",
     "output_type": "stream",
     "text": [
      "\n",
      "--- Forecasting for Product: P023, Location: L12 ---\n"
     ]
    },
    {
     "name": "stderr",
     "output_type": "stream",
     "text": [
      "10:11:26 - cmdstanpy - INFO - Chain [1] start processing\n",
      "10:11:26 - cmdstanpy - INFO - Chain [1] done processing\n"
     ]
    },
    {
     "name": "stdout",
     "output_type": "stream",
     "text": [
      "\n",
      "--- Forecasting for Product: P023, Location: L13 ---\n"
     ]
    },
    {
     "name": "stderr",
     "output_type": "stream",
     "text": [
      "10:11:28 - cmdstanpy - INFO - Chain [1] start processing\n",
      "10:11:29 - cmdstanpy - INFO - Chain [1] done processing\n"
     ]
    },
    {
     "name": "stdout",
     "output_type": "stream",
     "text": [
      "\n",
      "--- Forecasting for Product: P023, Location: L14 ---\n"
     ]
    },
    {
     "name": "stderr",
     "output_type": "stream",
     "text": [
      "10:11:31 - cmdstanpy - INFO - Chain [1] start processing\n",
      "10:11:31 - cmdstanpy - INFO - Chain [1] done processing\n"
     ]
    },
    {
     "name": "stdout",
     "output_type": "stream",
     "text": [
      "\n",
      "--- Forecasting for Product: P023, Location: L15 ---\n"
     ]
    },
    {
     "name": "stderr",
     "output_type": "stream",
     "text": [
      "10:11:32 - cmdstanpy - INFO - Chain [1] start processing\n",
      "10:11:33 - cmdstanpy - INFO - Chain [1] done processing\n"
     ]
    },
    {
     "name": "stdout",
     "output_type": "stream",
     "text": [
      "\n",
      "--- Forecasting for Product: P023, Location: L16 ---\n"
     ]
    },
    {
     "name": "stderr",
     "output_type": "stream",
     "text": [
      "10:11:35 - cmdstanpy - INFO - Chain [1] start processing\n",
      "10:11:35 - cmdstanpy - INFO - Chain [1] done processing\n"
     ]
    },
    {
     "name": "stdout",
     "output_type": "stream",
     "text": [
      "\n",
      "--- Forecasting for Product: P023, Location: L17 ---\n"
     ]
    },
    {
     "name": "stderr",
     "output_type": "stream",
     "text": [
      "10:11:37 - cmdstanpy - INFO - Chain [1] start processing\n",
      "10:11:37 - cmdstanpy - INFO - Chain [1] done processing\n"
     ]
    },
    {
     "name": "stdout",
     "output_type": "stream",
     "text": [
      "\n",
      "--- Forecasting for Product: P023, Location: L18 ---\n"
     ]
    },
    {
     "name": "stderr",
     "output_type": "stream",
     "text": [
      "10:11:39 - cmdstanpy - INFO - Chain [1] start processing\n",
      "10:11:39 - cmdstanpy - INFO - Chain [1] done processing\n"
     ]
    },
    {
     "name": "stdout",
     "output_type": "stream",
     "text": [
      "\n",
      "--- Forecasting for Product: P023, Location: L19 ---\n"
     ]
    },
    {
     "name": "stderr",
     "output_type": "stream",
     "text": [
      "10:11:41 - cmdstanpy - INFO - Chain [1] start processing\n",
      "10:11:42 - cmdstanpy - INFO - Chain [1] done processing\n"
     ]
    },
    {
     "name": "stdout",
     "output_type": "stream",
     "text": [
      "\n",
      "--- Forecasting for Product: P023, Location: L20 ---\n"
     ]
    },
    {
     "name": "stderr",
     "output_type": "stream",
     "text": [
      "10:11:43 - cmdstanpy - INFO - Chain [1] start processing\n",
      "10:11:44 - cmdstanpy - INFO - Chain [1] done processing\n"
     ]
    },
    {
     "name": "stdout",
     "output_type": "stream",
     "text": [
      "\n",
      "--- Forecasting for Product: P024, Location: L01 ---\n"
     ]
    },
    {
     "name": "stderr",
     "output_type": "stream",
     "text": [
      "10:11:45 - cmdstanpy - INFO - Chain [1] start processing\n",
      "10:11:45 - cmdstanpy - INFO - Chain [1] done processing\n"
     ]
    },
    {
     "name": "stdout",
     "output_type": "stream",
     "text": [
      "\n",
      "--- Forecasting for Product: P024, Location: L02 ---\n"
     ]
    },
    {
     "name": "stderr",
     "output_type": "stream",
     "text": [
      "10:11:47 - cmdstanpy - INFO - Chain [1] start processing\n",
      "10:11:48 - cmdstanpy - INFO - Chain [1] done processing\n"
     ]
    },
    {
     "name": "stdout",
     "output_type": "stream",
     "text": [
      "\n",
      "--- Forecasting for Product: P024, Location: L03 ---\n"
     ]
    },
    {
     "name": "stderr",
     "output_type": "stream",
     "text": [
      "10:11:49 - cmdstanpy - INFO - Chain [1] start processing\n",
      "10:11:50 - cmdstanpy - INFO - Chain [1] done processing\n"
     ]
    },
    {
     "name": "stdout",
     "output_type": "stream",
     "text": [
      "\n",
      "--- Forecasting for Product: P024, Location: L04 ---\n"
     ]
    },
    {
     "name": "stderr",
     "output_type": "stream",
     "text": [
      "10:11:51 - cmdstanpy - INFO - Chain [1] start processing\n",
      "10:11:52 - cmdstanpy - INFO - Chain [1] done processing\n"
     ]
    },
    {
     "name": "stdout",
     "output_type": "stream",
     "text": [
      "\n",
      "--- Forecasting for Product: P024, Location: L05 ---\n"
     ]
    },
    {
     "name": "stderr",
     "output_type": "stream",
     "text": [
      "10:11:54 - cmdstanpy - INFO - Chain [1] start processing\n",
      "10:11:54 - cmdstanpy - INFO - Chain [1] done processing\n"
     ]
    },
    {
     "name": "stdout",
     "output_type": "stream",
     "text": [
      "\n",
      "--- Forecasting for Product: P024, Location: L06 ---\n"
     ]
    },
    {
     "name": "stderr",
     "output_type": "stream",
     "text": [
      "10:11:55 - cmdstanpy - INFO - Chain [1] start processing\n",
      "10:11:56 - cmdstanpy - INFO - Chain [1] done processing\n"
     ]
    },
    {
     "name": "stdout",
     "output_type": "stream",
     "text": [
      "\n",
      "--- Forecasting for Product: P024, Location: L07 ---\n"
     ]
    },
    {
     "name": "stderr",
     "output_type": "stream",
     "text": [
      "10:11:57 - cmdstanpy - INFO - Chain [1] start processing\n",
      "10:11:58 - cmdstanpy - INFO - Chain [1] done processing\n"
     ]
    },
    {
     "name": "stdout",
     "output_type": "stream",
     "text": [
      "\n",
      "--- Forecasting for Product: P024, Location: L08 ---\n"
     ]
    },
    {
     "name": "stderr",
     "output_type": "stream",
     "text": [
      "10:12:00 - cmdstanpy - INFO - Chain [1] start processing\n",
      "10:12:01 - cmdstanpy - INFO - Chain [1] done processing\n"
     ]
    },
    {
     "name": "stdout",
     "output_type": "stream",
     "text": [
      "\n",
      "--- Forecasting for Product: P024, Location: L09 ---\n"
     ]
    },
    {
     "name": "stderr",
     "output_type": "stream",
     "text": [
      "10:12:02 - cmdstanpy - INFO - Chain [1] start processing\n",
      "10:12:03 - cmdstanpy - INFO - Chain [1] done processing\n"
     ]
    },
    {
     "name": "stdout",
     "output_type": "stream",
     "text": [
      "\n",
      "--- Forecasting for Product: P024, Location: L10 ---\n"
     ]
    },
    {
     "name": "stderr",
     "output_type": "stream",
     "text": [
      "10:12:04 - cmdstanpy - INFO - Chain [1] start processing\n",
      "10:12:05 - cmdstanpy - INFO - Chain [1] done processing\n"
     ]
    },
    {
     "name": "stdout",
     "output_type": "stream",
     "text": [
      "\n",
      "--- Forecasting for Product: P024, Location: L11 ---\n"
     ]
    },
    {
     "name": "stderr",
     "output_type": "stream",
     "text": [
      "10:12:06 - cmdstanpy - INFO - Chain [1] start processing\n",
      "10:12:07 - cmdstanpy - INFO - Chain [1] done processing\n"
     ]
    },
    {
     "name": "stdout",
     "output_type": "stream",
     "text": [
      "\n",
      "--- Forecasting for Product: P024, Location: L12 ---\n"
     ]
    },
    {
     "name": "stderr",
     "output_type": "stream",
     "text": [
      "10:12:08 - cmdstanpy - INFO - Chain [1] start processing\n",
      "10:12:10 - cmdstanpy - INFO - Chain [1] done processing\n"
     ]
    },
    {
     "name": "stdout",
     "output_type": "stream",
     "text": [
      "\n",
      "--- Forecasting for Product: P024, Location: L13 ---\n"
     ]
    },
    {
     "name": "stderr",
     "output_type": "stream",
     "text": [
      "10:12:11 - cmdstanpy - INFO - Chain [1] start processing\n",
      "10:12:12 - cmdstanpy - INFO - Chain [1] done processing\n"
     ]
    },
    {
     "name": "stdout",
     "output_type": "stream",
     "text": [
      "\n",
      "--- Forecasting for Product: P024, Location: L14 ---\n"
     ]
    },
    {
     "name": "stderr",
     "output_type": "stream",
     "text": [
      "10:12:13 - cmdstanpy - INFO - Chain [1] start processing\n",
      "10:12:13 - cmdstanpy - INFO - Chain [1] done processing\n"
     ]
    },
    {
     "name": "stdout",
     "output_type": "stream",
     "text": [
      "\n",
      "--- Forecasting for Product: P024, Location: L15 ---\n"
     ]
    },
    {
     "name": "stderr",
     "output_type": "stream",
     "text": [
      "10:12:14 - cmdstanpy - INFO - Chain [1] start processing\n",
      "10:12:15 - cmdstanpy - INFO - Chain [1] done processing\n"
     ]
    },
    {
     "name": "stdout",
     "output_type": "stream",
     "text": [
      "\n",
      "--- Forecasting for Product: P024, Location: L16 ---\n"
     ]
    },
    {
     "name": "stderr",
     "output_type": "stream",
     "text": [
      "10:12:16 - cmdstanpy - INFO - Chain [1] start processing\n",
      "10:12:16 - cmdstanpy - INFO - Chain [1] done processing\n"
     ]
    },
    {
     "name": "stdout",
     "output_type": "stream",
     "text": [
      "\n",
      "--- Forecasting for Product: P024, Location: L17 ---\n"
     ]
    },
    {
     "name": "stderr",
     "output_type": "stream",
     "text": [
      "10:12:18 - cmdstanpy - INFO - Chain [1] start processing\n",
      "10:12:18 - cmdstanpy - INFO - Chain [1] done processing\n"
     ]
    },
    {
     "name": "stdout",
     "output_type": "stream",
     "text": [
      "\n",
      "--- Forecasting for Product: P024, Location: L18 ---\n"
     ]
    },
    {
     "name": "stderr",
     "output_type": "stream",
     "text": [
      "10:12:20 - cmdstanpy - INFO - Chain [1] start processing\n",
      "10:12:20 - cmdstanpy - INFO - Chain [1] done processing\n"
     ]
    },
    {
     "name": "stdout",
     "output_type": "stream",
     "text": [
      "\n",
      "--- Forecasting for Product: P024, Location: L19 ---\n"
     ]
    },
    {
     "name": "stderr",
     "output_type": "stream",
     "text": [
      "10:12:22 - cmdstanpy - INFO - Chain [1] start processing\n",
      "10:12:22 - cmdstanpy - INFO - Chain [1] done processing\n"
     ]
    },
    {
     "name": "stdout",
     "output_type": "stream",
     "text": [
      "\n",
      "--- Forecasting for Product: P024, Location: L20 ---\n"
     ]
    },
    {
     "name": "stderr",
     "output_type": "stream",
     "text": [
      "10:12:24 - cmdstanpy - INFO - Chain [1] start processing\n",
      "10:12:24 - cmdstanpy - INFO - Chain [1] done processing\n"
     ]
    },
    {
     "name": "stdout",
     "output_type": "stream",
     "text": [
      "\n",
      "--- Forecasting for Product: P025, Location: L01 ---\n"
     ]
    },
    {
     "name": "stderr",
     "output_type": "stream",
     "text": [
      "10:12:26 - cmdstanpy - INFO - Chain [1] start processing\n",
      "10:12:26 - cmdstanpy - INFO - Chain [1] done processing\n"
     ]
    },
    {
     "name": "stdout",
     "output_type": "stream",
     "text": [
      "\n",
      "--- Forecasting for Product: P025, Location: L02 ---\n"
     ]
    },
    {
     "name": "stderr",
     "output_type": "stream",
     "text": [
      "10:12:28 - cmdstanpy - INFO - Chain [1] start processing\n",
      "10:12:28 - cmdstanpy - INFO - Chain [1] done processing\n"
     ]
    },
    {
     "name": "stdout",
     "output_type": "stream",
     "text": [
      "\n",
      "--- Forecasting for Product: P025, Location: L03 ---\n"
     ]
    },
    {
     "name": "stderr",
     "output_type": "stream",
     "text": [
      "10:12:30 - cmdstanpy - INFO - Chain [1] start processing\n",
      "10:12:30 - cmdstanpy - INFO - Chain [1] done processing\n"
     ]
    },
    {
     "name": "stdout",
     "output_type": "stream",
     "text": [
      "\n",
      "--- Forecasting for Product: P025, Location: L04 ---\n"
     ]
    },
    {
     "name": "stderr",
     "output_type": "stream",
     "text": [
      "10:12:31 - cmdstanpy - INFO - Chain [1] start processing\n",
      "10:12:32 - cmdstanpy - INFO - Chain [1] done processing\n"
     ]
    },
    {
     "name": "stdout",
     "output_type": "stream",
     "text": [
      "\n",
      "--- Forecasting for Product: P025, Location: L05 ---\n"
     ]
    },
    {
     "name": "stderr",
     "output_type": "stream",
     "text": [
      "10:12:33 - cmdstanpy - INFO - Chain [1] start processing\n",
      "10:12:33 - cmdstanpy - INFO - Chain [1] done processing\n"
     ]
    },
    {
     "name": "stdout",
     "output_type": "stream",
     "text": [
      "\n",
      "--- Forecasting for Product: P025, Location: L06 ---\n"
     ]
    },
    {
     "name": "stderr",
     "output_type": "stream",
     "text": [
      "10:12:35 - cmdstanpy - INFO - Chain [1] start processing\n",
      "10:12:35 - cmdstanpy - INFO - Chain [1] done processing\n"
     ]
    },
    {
     "name": "stdout",
     "output_type": "stream",
     "text": [
      "\n",
      "--- Forecasting for Product: P025, Location: L07 ---\n"
     ]
    },
    {
     "name": "stderr",
     "output_type": "stream",
     "text": [
      "10:12:36 - cmdstanpy - INFO - Chain [1] start processing\n",
      "10:12:36 - cmdstanpy - INFO - Chain [1] done processing\n"
     ]
    },
    {
     "name": "stdout",
     "output_type": "stream",
     "text": [
      "\n",
      "--- Forecasting for Product: P025, Location: L08 ---\n"
     ]
    },
    {
     "name": "stderr",
     "output_type": "stream",
     "text": [
      "10:12:38 - cmdstanpy - INFO - Chain [1] start processing\n",
      "10:12:38 - cmdstanpy - INFO - Chain [1] done processing\n"
     ]
    },
    {
     "name": "stdout",
     "output_type": "stream",
     "text": [
      "\n",
      "--- Forecasting for Product: P025, Location: L09 ---\n"
     ]
    },
    {
     "name": "stderr",
     "output_type": "stream",
     "text": [
      "10:12:40 - cmdstanpy - INFO - Chain [1] start processing\n",
      "10:12:40 - cmdstanpy - INFO - Chain [1] done processing\n"
     ]
    },
    {
     "name": "stdout",
     "output_type": "stream",
     "text": [
      "\n",
      "--- Forecasting for Product: P025, Location: L10 ---\n"
     ]
    },
    {
     "name": "stderr",
     "output_type": "stream",
     "text": [
      "10:12:42 - cmdstanpy - INFO - Chain [1] start processing\n",
      "10:12:42 - cmdstanpy - INFO - Chain [1] done processing\n"
     ]
    },
    {
     "name": "stdout",
     "output_type": "stream",
     "text": [
      "\n",
      "--- Forecasting for Product: P025, Location: L11 ---\n"
     ]
    },
    {
     "name": "stderr",
     "output_type": "stream",
     "text": [
      "10:12:44 - cmdstanpy - INFO - Chain [1] start processing\n",
      "10:12:44 - cmdstanpy - INFO - Chain [1] done processing\n"
     ]
    },
    {
     "name": "stdout",
     "output_type": "stream",
     "text": [
      "\n",
      "--- Forecasting for Product: P025, Location: L12 ---\n"
     ]
    },
    {
     "name": "stderr",
     "output_type": "stream",
     "text": [
      "10:12:46 - cmdstanpy - INFO - Chain [1] start processing\n",
      "10:12:46 - cmdstanpy - INFO - Chain [1] done processing\n"
     ]
    },
    {
     "name": "stdout",
     "output_type": "stream",
     "text": [
      "\n",
      "--- Forecasting for Product: P025, Location: L13 ---\n"
     ]
    },
    {
     "name": "stderr",
     "output_type": "stream",
     "text": [
      "10:12:48 - cmdstanpy - INFO - Chain [1] start processing\n",
      "10:12:48 - cmdstanpy - INFO - Chain [1] done processing\n"
     ]
    },
    {
     "name": "stdout",
     "output_type": "stream",
     "text": [
      "\n",
      "--- Forecasting for Product: P025, Location: L14 ---\n"
     ]
    },
    {
     "name": "stderr",
     "output_type": "stream",
     "text": [
      "10:12:49 - cmdstanpy - INFO - Chain [1] start processing\n",
      "10:12:50 - cmdstanpy - INFO - Chain [1] done processing\n"
     ]
    },
    {
     "name": "stdout",
     "output_type": "stream",
     "text": [
      "\n",
      "--- Forecasting for Product: P025, Location: L15 ---\n"
     ]
    },
    {
     "name": "stderr",
     "output_type": "stream",
     "text": [
      "10:12:51 - cmdstanpy - INFO - Chain [1] start processing\n",
      "10:12:51 - cmdstanpy - INFO - Chain [1] done processing\n"
     ]
    },
    {
     "name": "stdout",
     "output_type": "stream",
     "text": [
      "\n",
      "--- Forecasting for Product: P025, Location: L16 ---\n"
     ]
    },
    {
     "name": "stderr",
     "output_type": "stream",
     "text": [
      "10:12:53 - cmdstanpy - INFO - Chain [1] start processing\n",
      "10:12:53 - cmdstanpy - INFO - Chain [1] done processing\n"
     ]
    },
    {
     "name": "stdout",
     "output_type": "stream",
     "text": [
      "\n",
      "--- Forecasting for Product: P025, Location: L17 ---\n"
     ]
    },
    {
     "name": "stderr",
     "output_type": "stream",
     "text": [
      "10:12:54 - cmdstanpy - INFO - Chain [1] start processing\n",
      "10:12:54 - cmdstanpy - INFO - Chain [1] done processing\n"
     ]
    },
    {
     "name": "stdout",
     "output_type": "stream",
     "text": [
      "\n",
      "--- Forecasting for Product: P025, Location: L18 ---\n"
     ]
    },
    {
     "name": "stderr",
     "output_type": "stream",
     "text": [
      "10:12:56 - cmdstanpy - INFO - Chain [1] start processing\n",
      "10:12:56 - cmdstanpy - INFO - Chain [1] done processing\n"
     ]
    },
    {
     "name": "stdout",
     "output_type": "stream",
     "text": [
      "\n",
      "--- Forecasting for Product: P025, Location: L19 ---\n"
     ]
    },
    {
     "name": "stderr",
     "output_type": "stream",
     "text": [
      "10:12:57 - cmdstanpy - INFO - Chain [1] start processing\n",
      "10:12:58 - cmdstanpy - INFO - Chain [1] done processing\n"
     ]
    },
    {
     "name": "stdout",
     "output_type": "stream",
     "text": [
      "\n",
      "--- Forecasting for Product: P025, Location: L20 ---\n"
     ]
    },
    {
     "name": "stderr",
     "output_type": "stream",
     "text": [
      "10:12:59 - cmdstanpy - INFO - Chain [1] start processing\n",
      "10:12:59 - cmdstanpy - INFO - Chain [1] done processing\n"
     ]
    },
    {
     "name": "stdout",
     "output_type": "stream",
     "text": [
      "\n",
      "--- Forecasting for Product: P026, Location: L01 ---\n"
     ]
    },
    {
     "name": "stderr",
     "output_type": "stream",
     "text": [
      "10:13:01 - cmdstanpy - INFO - Chain [1] start processing\n",
      "10:13:01 - cmdstanpy - INFO - Chain [1] done processing\n"
     ]
    },
    {
     "name": "stdout",
     "output_type": "stream",
     "text": [
      "\n",
      "--- Forecasting for Product: P026, Location: L02 ---\n"
     ]
    },
    {
     "name": "stderr",
     "output_type": "stream",
     "text": [
      "10:13:03 - cmdstanpy - INFO - Chain [1] start processing\n",
      "10:13:03 - cmdstanpy - INFO - Chain [1] done processing\n"
     ]
    },
    {
     "name": "stdout",
     "output_type": "stream",
     "text": [
      "\n",
      "--- Forecasting for Product: P026, Location: L03 ---\n"
     ]
    },
    {
     "name": "stderr",
     "output_type": "stream",
     "text": [
      "10:13:04 - cmdstanpy - INFO - Chain [1] start processing\n",
      "10:13:05 - cmdstanpy - INFO - Chain [1] done processing\n"
     ]
    },
    {
     "name": "stdout",
     "output_type": "stream",
     "text": [
      "\n",
      "--- Forecasting for Product: P026, Location: L04 ---\n"
     ]
    },
    {
     "name": "stderr",
     "output_type": "stream",
     "text": [
      "10:13:06 - cmdstanpy - INFO - Chain [1] start processing\n",
      "10:13:06 - cmdstanpy - INFO - Chain [1] done processing\n"
     ]
    },
    {
     "name": "stdout",
     "output_type": "stream",
     "text": [
      "\n",
      "--- Forecasting for Product: P026, Location: L05 ---\n"
     ]
    },
    {
     "name": "stderr",
     "output_type": "stream",
     "text": [
      "10:13:08 - cmdstanpy - INFO - Chain [1] start processing\n",
      "10:13:09 - cmdstanpy - INFO - Chain [1] done processing\n"
     ]
    },
    {
     "name": "stdout",
     "output_type": "stream",
     "text": [
      "\n",
      "--- Forecasting for Product: P026, Location: L06 ---\n"
     ]
    },
    {
     "name": "stderr",
     "output_type": "stream",
     "text": [
      "10:13:11 - cmdstanpy - INFO - Chain [1] start processing\n",
      "10:13:12 - cmdstanpy - INFO - Chain [1] done processing\n"
     ]
    },
    {
     "name": "stdout",
     "output_type": "stream",
     "text": [
      "\n",
      "--- Forecasting for Product: P026, Location: L07 ---\n"
     ]
    },
    {
     "name": "stderr",
     "output_type": "stream",
     "text": [
      "10:13:13 - cmdstanpy - INFO - Chain [1] start processing\n",
      "10:13:13 - cmdstanpy - INFO - Chain [1] done processing\n"
     ]
    },
    {
     "name": "stdout",
     "output_type": "stream",
     "text": [
      "\n",
      "--- Forecasting for Product: P026, Location: L08 ---\n"
     ]
    },
    {
     "name": "stderr",
     "output_type": "stream",
     "text": [
      "10:13:15 - cmdstanpy - INFO - Chain [1] start processing\n",
      "10:13:15 - cmdstanpy - INFO - Chain [1] done processing\n"
     ]
    },
    {
     "name": "stdout",
     "output_type": "stream",
     "text": [
      "\n",
      "--- Forecasting for Product: P026, Location: L09 ---\n"
     ]
    },
    {
     "name": "stderr",
     "output_type": "stream",
     "text": [
      "10:13:16 - cmdstanpy - INFO - Chain [1] start processing\n",
      "10:13:17 - cmdstanpy - INFO - Chain [1] done processing\n"
     ]
    },
    {
     "name": "stdout",
     "output_type": "stream",
     "text": [
      "\n",
      "--- Forecasting for Product: P026, Location: L10 ---\n"
     ]
    },
    {
     "name": "stderr",
     "output_type": "stream",
     "text": [
      "10:13:18 - cmdstanpy - INFO - Chain [1] start processing\n",
      "10:13:19 - cmdstanpy - INFO - Chain [1] done processing\n"
     ]
    },
    {
     "name": "stdout",
     "output_type": "stream",
     "text": [
      "\n",
      "--- Forecasting for Product: P026, Location: L11 ---\n"
     ]
    },
    {
     "name": "stderr",
     "output_type": "stream",
     "text": [
      "10:13:20 - cmdstanpy - INFO - Chain [1] start processing\n",
      "10:13:20 - cmdstanpy - INFO - Chain [1] done processing\n"
     ]
    },
    {
     "name": "stdout",
     "output_type": "stream",
     "text": [
      "\n",
      "--- Forecasting for Product: P026, Location: L12 ---\n"
     ]
    },
    {
     "name": "stderr",
     "output_type": "stream",
     "text": [
      "10:13:22 - cmdstanpy - INFO - Chain [1] start processing\n",
      "10:13:22 - cmdstanpy - INFO - Chain [1] done processing\n"
     ]
    },
    {
     "name": "stdout",
     "output_type": "stream",
     "text": [
      "\n",
      "--- Forecasting for Product: P026, Location: L13 ---\n"
     ]
    },
    {
     "name": "stderr",
     "output_type": "stream",
     "text": [
      "10:13:24 - cmdstanpy - INFO - Chain [1] start processing\n",
      "10:13:24 - cmdstanpy - INFO - Chain [1] done processing\n"
     ]
    },
    {
     "name": "stdout",
     "output_type": "stream",
     "text": [
      "\n",
      "--- Forecasting for Product: P026, Location: L14 ---\n"
     ]
    },
    {
     "name": "stderr",
     "output_type": "stream",
     "text": [
      "10:13:25 - cmdstanpy - INFO - Chain [1] start processing\n",
      "10:13:26 - cmdstanpy - INFO - Chain [1] done processing\n"
     ]
    },
    {
     "name": "stdout",
     "output_type": "stream",
     "text": [
      "\n",
      "--- Forecasting for Product: P026, Location: L15 ---\n"
     ]
    },
    {
     "name": "stderr",
     "output_type": "stream",
     "text": [
      "10:13:27 - cmdstanpy - INFO - Chain [1] start processing\n",
      "10:13:28 - cmdstanpy - INFO - Chain [1] done processing\n"
     ]
    },
    {
     "name": "stdout",
     "output_type": "stream",
     "text": [
      "\n",
      "--- Forecasting for Product: P026, Location: L16 ---\n"
     ]
    },
    {
     "name": "stderr",
     "output_type": "stream",
     "text": [
      "10:13:29 - cmdstanpy - INFO - Chain [1] start processing\n",
      "10:13:30 - cmdstanpy - INFO - Chain [1] done processing\n"
     ]
    },
    {
     "name": "stdout",
     "output_type": "stream",
     "text": [
      "\n",
      "--- Forecasting for Product: P026, Location: L17 ---\n"
     ]
    },
    {
     "name": "stderr",
     "output_type": "stream",
     "text": [
      "10:13:31 - cmdstanpy - INFO - Chain [1] start processing\n",
      "10:13:31 - cmdstanpy - INFO - Chain [1] done processing\n"
     ]
    },
    {
     "name": "stdout",
     "output_type": "stream",
     "text": [
      "\n",
      "--- Forecasting for Product: P026, Location: L18 ---\n"
     ]
    },
    {
     "name": "stderr",
     "output_type": "stream",
     "text": [
      "10:13:32 - cmdstanpy - INFO - Chain [1] start processing\n",
      "10:13:33 - cmdstanpy - INFO - Chain [1] done processing\n"
     ]
    },
    {
     "name": "stdout",
     "output_type": "stream",
     "text": [
      "\n",
      "--- Forecasting for Product: P026, Location: L19 ---\n"
     ]
    },
    {
     "name": "stderr",
     "output_type": "stream",
     "text": [
      "10:13:34 - cmdstanpy - INFO - Chain [1] start processing\n",
      "10:13:34 - cmdstanpy - INFO - Chain [1] done processing\n"
     ]
    },
    {
     "name": "stdout",
     "output_type": "stream",
     "text": [
      "\n",
      "--- Forecasting for Product: P026, Location: L20 ---\n"
     ]
    },
    {
     "name": "stderr",
     "output_type": "stream",
     "text": [
      "10:13:35 - cmdstanpy - INFO - Chain [1] start processing\n",
      "10:13:35 - cmdstanpy - INFO - Chain [1] done processing\n"
     ]
    },
    {
     "name": "stdout",
     "output_type": "stream",
     "text": [
      "\n",
      "--- Forecasting for Product: P027, Location: L01 ---\n"
     ]
    },
    {
     "name": "stderr",
     "output_type": "stream",
     "text": [
      "10:13:36 - cmdstanpy - INFO - Chain [1] start processing\n",
      "10:13:37 - cmdstanpy - INFO - Chain [1] done processing\n"
     ]
    },
    {
     "name": "stdout",
     "output_type": "stream",
     "text": [
      "\n",
      "--- Forecasting for Product: P027, Location: L02 ---\n"
     ]
    },
    {
     "name": "stderr",
     "output_type": "stream",
     "text": [
      "10:13:38 - cmdstanpy - INFO - Chain [1] start processing\n",
      "10:13:39 - cmdstanpy - INFO - Chain [1] done processing\n"
     ]
    },
    {
     "name": "stdout",
     "output_type": "stream",
     "text": [
      "\n",
      "--- Forecasting for Product: P027, Location: L03 ---\n"
     ]
    },
    {
     "name": "stderr",
     "output_type": "stream",
     "text": [
      "10:13:41 - cmdstanpy - INFO - Chain [1] start processing\n",
      "10:13:41 - cmdstanpy - INFO - Chain [1] done processing\n"
     ]
    },
    {
     "name": "stdout",
     "output_type": "stream",
     "text": [
      "\n",
      "--- Forecasting for Product: P027, Location: L04 ---\n"
     ]
    },
    {
     "name": "stderr",
     "output_type": "stream",
     "text": [
      "10:13:42 - cmdstanpy - INFO - Chain [1] start processing\n",
      "10:13:42 - cmdstanpy - INFO - Chain [1] done processing\n"
     ]
    },
    {
     "name": "stdout",
     "output_type": "stream",
     "text": [
      "\n",
      "--- Forecasting for Product: P027, Location: L05 ---\n"
     ]
    },
    {
     "name": "stderr",
     "output_type": "stream",
     "text": [
      "10:13:44 - cmdstanpy - INFO - Chain [1] start processing\n",
      "10:13:44 - cmdstanpy - INFO - Chain [1] done processing\n"
     ]
    },
    {
     "name": "stdout",
     "output_type": "stream",
     "text": [
      "\n",
      "--- Forecasting for Product: P027, Location: L06 ---\n"
     ]
    },
    {
     "name": "stderr",
     "output_type": "stream",
     "text": [
      "10:13:45 - cmdstanpy - INFO - Chain [1] start processing\n",
      "10:13:46 - cmdstanpy - INFO - Chain [1] done processing\n"
     ]
    },
    {
     "name": "stdout",
     "output_type": "stream",
     "text": [
      "\n",
      "--- Forecasting for Product: P027, Location: L07 ---\n"
     ]
    },
    {
     "name": "stderr",
     "output_type": "stream",
     "text": [
      "10:13:47 - cmdstanpy - INFO - Chain [1] start processing\n",
      "10:13:47 - cmdstanpy - INFO - Chain [1] done processing\n"
     ]
    },
    {
     "name": "stdout",
     "output_type": "stream",
     "text": [
      "\n",
      "--- Forecasting for Product: P027, Location: L08 ---\n"
     ]
    },
    {
     "name": "stderr",
     "output_type": "stream",
     "text": [
      "10:13:48 - cmdstanpy - INFO - Chain [1] start processing\n",
      "10:13:49 - cmdstanpy - INFO - Chain [1] done processing\n"
     ]
    },
    {
     "name": "stdout",
     "output_type": "stream",
     "text": [
      "\n",
      "--- Forecasting for Product: P027, Location: L09 ---\n"
     ]
    },
    {
     "name": "stderr",
     "output_type": "stream",
     "text": [
      "10:13:50 - cmdstanpy - INFO - Chain [1] start processing\n",
      "10:13:51 - cmdstanpy - INFO - Chain [1] done processing\n"
     ]
    },
    {
     "name": "stdout",
     "output_type": "stream",
     "text": [
      "\n",
      "--- Forecasting for Product: P027, Location: L10 ---\n"
     ]
    },
    {
     "name": "stderr",
     "output_type": "stream",
     "text": [
      "10:13:52 - cmdstanpy - INFO - Chain [1] start processing\n",
      "10:13:52 - cmdstanpy - INFO - Chain [1] done processing\n"
     ]
    },
    {
     "name": "stdout",
     "output_type": "stream",
     "text": [
      "\n",
      "--- Forecasting for Product: P027, Location: L11 ---\n"
     ]
    },
    {
     "name": "stderr",
     "output_type": "stream",
     "text": [
      "10:13:53 - cmdstanpy - INFO - Chain [1] start processing\n",
      "10:13:54 - cmdstanpy - INFO - Chain [1] done processing\n"
     ]
    },
    {
     "name": "stdout",
     "output_type": "stream",
     "text": [
      "\n",
      "--- Forecasting for Product: P027, Location: L12 ---\n"
     ]
    },
    {
     "name": "stderr",
     "output_type": "stream",
     "text": [
      "10:13:55 - cmdstanpy - INFO - Chain [1] start processing\n",
      "10:13:55 - cmdstanpy - INFO - Chain [1] done processing\n"
     ]
    },
    {
     "name": "stdout",
     "output_type": "stream",
     "text": [
      "\n",
      "--- Forecasting for Product: P027, Location: L13 ---\n"
     ]
    },
    {
     "name": "stderr",
     "output_type": "stream",
     "text": [
      "10:13:56 - cmdstanpy - INFO - Chain [1] start processing\n",
      "10:13:56 - cmdstanpy - INFO - Chain [1] done processing\n"
     ]
    },
    {
     "name": "stdout",
     "output_type": "stream",
     "text": [
      "\n",
      "--- Forecasting for Product: P027, Location: L14 ---\n"
     ]
    },
    {
     "name": "stderr",
     "output_type": "stream",
     "text": [
      "10:13:58 - cmdstanpy - INFO - Chain [1] start processing\n",
      "10:13:58 - cmdstanpy - INFO - Chain [1] done processing\n"
     ]
    },
    {
     "name": "stdout",
     "output_type": "stream",
     "text": [
      "\n",
      "--- Forecasting for Product: P027, Location: L15 ---\n"
     ]
    },
    {
     "name": "stderr",
     "output_type": "stream",
     "text": [
      "10:13:59 - cmdstanpy - INFO - Chain [1] start processing\n",
      "10:13:59 - cmdstanpy - INFO - Chain [1] done processing\n"
     ]
    },
    {
     "name": "stdout",
     "output_type": "stream",
     "text": [
      "\n",
      "--- Forecasting for Product: P027, Location: L16 ---\n"
     ]
    },
    {
     "name": "stderr",
     "output_type": "stream",
     "text": [
      "10:14:00 - cmdstanpy - INFO - Chain [1] start processing\n",
      "10:14:01 - cmdstanpy - INFO - Chain [1] done processing\n"
     ]
    },
    {
     "name": "stdout",
     "output_type": "stream",
     "text": [
      "\n",
      "--- Forecasting for Product: P027, Location: L17 ---\n"
     ]
    },
    {
     "name": "stderr",
     "output_type": "stream",
     "text": [
      "10:14:02 - cmdstanpy - INFO - Chain [1] start processing\n",
      "10:14:02 - cmdstanpy - INFO - Chain [1] done processing\n"
     ]
    },
    {
     "name": "stdout",
     "output_type": "stream",
     "text": [
      "\n",
      "--- Forecasting for Product: P027, Location: L18 ---\n"
     ]
    },
    {
     "name": "stderr",
     "output_type": "stream",
     "text": [
      "10:14:03 - cmdstanpy - INFO - Chain [1] start processing\n",
      "10:14:03 - cmdstanpy - INFO - Chain [1] done processing\n"
     ]
    },
    {
     "name": "stdout",
     "output_type": "stream",
     "text": [
      "\n",
      "--- Forecasting for Product: P027, Location: L19 ---\n"
     ]
    },
    {
     "name": "stderr",
     "output_type": "stream",
     "text": [
      "10:14:05 - cmdstanpy - INFO - Chain [1] start processing\n",
      "10:14:05 - cmdstanpy - INFO - Chain [1] done processing\n"
     ]
    },
    {
     "name": "stdout",
     "output_type": "stream",
     "text": [
      "\n",
      "--- Forecasting for Product: P027, Location: L20 ---\n"
     ]
    },
    {
     "name": "stderr",
     "output_type": "stream",
     "text": [
      "10:14:06 - cmdstanpy - INFO - Chain [1] start processing\n",
      "10:14:07 - cmdstanpy - INFO - Chain [1] done processing\n"
     ]
    },
    {
     "name": "stdout",
     "output_type": "stream",
     "text": [
      "\n",
      "--- Forecasting for Product: P028, Location: L01 ---\n"
     ]
    },
    {
     "name": "stderr",
     "output_type": "stream",
     "text": [
      "10:14:08 - cmdstanpy - INFO - Chain [1] start processing\n",
      "10:14:08 - cmdstanpy - INFO - Chain [1] done processing\n"
     ]
    },
    {
     "name": "stdout",
     "output_type": "stream",
     "text": [
      "\n",
      "--- Forecasting for Product: P028, Location: L02 ---\n"
     ]
    },
    {
     "name": "stderr",
     "output_type": "stream",
     "text": [
      "10:14:09 - cmdstanpy - INFO - Chain [1] start processing\n",
      "10:14:09 - cmdstanpy - INFO - Chain [1] done processing\n"
     ]
    },
    {
     "name": "stdout",
     "output_type": "stream",
     "text": [
      "\n",
      "--- Forecasting for Product: P028, Location: L03 ---\n"
     ]
    },
    {
     "name": "stderr",
     "output_type": "stream",
     "text": [
      "10:14:11 - cmdstanpy - INFO - Chain [1] start processing\n",
      "10:14:11 - cmdstanpy - INFO - Chain [1] done processing\n"
     ]
    },
    {
     "name": "stdout",
     "output_type": "stream",
     "text": [
      "\n",
      "--- Forecasting for Product: P028, Location: L04 ---\n"
     ]
    },
    {
     "name": "stderr",
     "output_type": "stream",
     "text": [
      "10:14:12 - cmdstanpy - INFO - Chain [1] start processing\n",
      "10:14:12 - cmdstanpy - INFO - Chain [1] done processing\n"
     ]
    },
    {
     "name": "stdout",
     "output_type": "stream",
     "text": [
      "\n",
      "--- Forecasting for Product: P028, Location: L05 ---\n"
     ]
    },
    {
     "name": "stderr",
     "output_type": "stream",
     "text": [
      "10:14:13 - cmdstanpy - INFO - Chain [1] start processing\n",
      "10:14:14 - cmdstanpy - INFO - Chain [1] done processing\n"
     ]
    },
    {
     "name": "stdout",
     "output_type": "stream",
     "text": [
      "\n",
      "--- Forecasting for Product: P028, Location: L06 ---\n"
     ]
    },
    {
     "name": "stderr",
     "output_type": "stream",
     "text": [
      "10:14:15 - cmdstanpy - INFO - Chain [1] start processing\n",
      "10:14:15 - cmdstanpy - INFO - Chain [1] done processing\n"
     ]
    },
    {
     "name": "stdout",
     "output_type": "stream",
     "text": [
      "\n",
      "--- Forecasting for Product: P028, Location: L07 ---\n"
     ]
    },
    {
     "name": "stderr",
     "output_type": "stream",
     "text": [
      "10:14:17 - cmdstanpy - INFO - Chain [1] start processing\n",
      "10:14:17 - cmdstanpy - INFO - Chain [1] done processing\n"
     ]
    },
    {
     "name": "stdout",
     "output_type": "stream",
     "text": [
      "\n",
      "--- Forecasting for Product: P028, Location: L08 ---\n"
     ]
    },
    {
     "name": "stderr",
     "output_type": "stream",
     "text": [
      "10:14:18 - cmdstanpy - INFO - Chain [1] start processing\n",
      "10:14:18 - cmdstanpy - INFO - Chain [1] done processing\n"
     ]
    },
    {
     "name": "stdout",
     "output_type": "stream",
     "text": [
      "\n",
      "--- Forecasting for Product: P028, Location: L09 ---\n"
     ]
    },
    {
     "name": "stderr",
     "output_type": "stream",
     "text": [
      "10:14:19 - cmdstanpy - INFO - Chain [1] start processing\n",
      "10:14:20 - cmdstanpy - INFO - Chain [1] done processing\n"
     ]
    },
    {
     "name": "stdout",
     "output_type": "stream",
     "text": [
      "\n",
      "--- Forecasting for Product: P028, Location: L10 ---\n"
     ]
    },
    {
     "name": "stderr",
     "output_type": "stream",
     "text": [
      "10:14:21 - cmdstanpy - INFO - Chain [1] start processing\n",
      "10:14:21 - cmdstanpy - INFO - Chain [1] done processing\n"
     ]
    },
    {
     "name": "stdout",
     "output_type": "stream",
     "text": [
      "\n",
      "--- Forecasting for Product: P028, Location: L11 ---\n"
     ]
    },
    {
     "name": "stderr",
     "output_type": "stream",
     "text": [
      "10:14:22 - cmdstanpy - INFO - Chain [1] start processing\n",
      "10:14:23 - cmdstanpy - INFO - Chain [1] done processing\n"
     ]
    },
    {
     "name": "stdout",
     "output_type": "stream",
     "text": [
      "\n",
      "--- Forecasting for Product: P028, Location: L12 ---\n"
     ]
    },
    {
     "name": "stderr",
     "output_type": "stream",
     "text": [
      "10:14:24 - cmdstanpy - INFO - Chain [1] start processing\n",
      "10:14:24 - cmdstanpy - INFO - Chain [1] done processing\n"
     ]
    },
    {
     "name": "stdout",
     "output_type": "stream",
     "text": [
      "\n",
      "--- Forecasting for Product: P028, Location: L13 ---\n"
     ]
    },
    {
     "name": "stderr",
     "output_type": "stream",
     "text": [
      "10:14:25 - cmdstanpy - INFO - Chain [1] start processing\n",
      "10:14:26 - cmdstanpy - INFO - Chain [1] done processing\n"
     ]
    },
    {
     "name": "stdout",
     "output_type": "stream",
     "text": [
      "\n",
      "--- Forecasting for Product: P028, Location: L14 ---\n"
     ]
    },
    {
     "name": "stderr",
     "output_type": "stream",
     "text": [
      "10:14:27 - cmdstanpy - INFO - Chain [1] start processing\n",
      "10:14:27 - cmdstanpy - INFO - Chain [1] done processing\n"
     ]
    },
    {
     "name": "stdout",
     "output_type": "stream",
     "text": [
      "\n",
      "--- Forecasting for Product: P028, Location: L15 ---\n"
     ]
    },
    {
     "name": "stderr",
     "output_type": "stream",
     "text": [
      "10:14:28 - cmdstanpy - INFO - Chain [1] start processing\n",
      "10:14:29 - cmdstanpy - INFO - Chain [1] done processing\n"
     ]
    },
    {
     "name": "stdout",
     "output_type": "stream",
     "text": [
      "\n",
      "--- Forecasting for Product: P028, Location: L16 ---\n"
     ]
    },
    {
     "name": "stderr",
     "output_type": "stream",
     "text": [
      "10:14:30 - cmdstanpy - INFO - Chain [1] start processing\n",
      "10:14:30 - cmdstanpy - INFO - Chain [1] done processing\n"
     ]
    },
    {
     "name": "stdout",
     "output_type": "stream",
     "text": [
      "\n",
      "--- Forecasting for Product: P028, Location: L17 ---\n"
     ]
    },
    {
     "name": "stderr",
     "output_type": "stream",
     "text": [
      "10:14:31 - cmdstanpy - INFO - Chain [1] start processing\n",
      "10:14:32 - cmdstanpy - INFO - Chain [1] done processing\n"
     ]
    },
    {
     "name": "stdout",
     "output_type": "stream",
     "text": [
      "\n",
      "--- Forecasting for Product: P028, Location: L18 ---\n"
     ]
    },
    {
     "name": "stderr",
     "output_type": "stream",
     "text": [
      "10:14:33 - cmdstanpy - INFO - Chain [1] start processing\n",
      "10:14:33 - cmdstanpy - INFO - Chain [1] done processing\n"
     ]
    },
    {
     "name": "stdout",
     "output_type": "stream",
     "text": [
      "\n",
      "--- Forecasting for Product: P028, Location: L19 ---\n"
     ]
    },
    {
     "name": "stderr",
     "output_type": "stream",
     "text": [
      "10:14:34 - cmdstanpy - INFO - Chain [1] start processing\n",
      "10:14:34 - cmdstanpy - INFO - Chain [1] done processing\n"
     ]
    },
    {
     "name": "stdout",
     "output_type": "stream",
     "text": [
      "\n",
      "--- Forecasting for Product: P028, Location: L20 ---\n"
     ]
    },
    {
     "name": "stderr",
     "output_type": "stream",
     "text": [
      "10:14:35 - cmdstanpy - INFO - Chain [1] start processing\n",
      "10:14:36 - cmdstanpy - INFO - Chain [1] done processing\n"
     ]
    },
    {
     "name": "stdout",
     "output_type": "stream",
     "text": [
      "\n",
      "--- Forecasting for Product: P029, Location: L01 ---\n"
     ]
    },
    {
     "name": "stderr",
     "output_type": "stream",
     "text": [
      "10:14:37 - cmdstanpy - INFO - Chain [1] start processing\n",
      "10:14:37 - cmdstanpy - INFO - Chain [1] done processing\n"
     ]
    },
    {
     "name": "stdout",
     "output_type": "stream",
     "text": [
      "\n",
      "--- Forecasting for Product: P029, Location: L02 ---\n"
     ]
    },
    {
     "name": "stderr",
     "output_type": "stream",
     "text": [
      "10:14:38 - cmdstanpy - INFO - Chain [1] start processing\n",
      "10:14:39 - cmdstanpy - INFO - Chain [1] done processing\n"
     ]
    },
    {
     "name": "stdout",
     "output_type": "stream",
     "text": [
      "\n",
      "--- Forecasting for Product: P029, Location: L03 ---\n"
     ]
    },
    {
     "name": "stderr",
     "output_type": "stream",
     "text": [
      "10:14:40 - cmdstanpy - INFO - Chain [1] start processing\n",
      "10:14:40 - cmdstanpy - INFO - Chain [1] done processing\n"
     ]
    },
    {
     "name": "stdout",
     "output_type": "stream",
     "text": [
      "\n",
      "--- Forecasting for Product: P029, Location: L04 ---\n"
     ]
    },
    {
     "name": "stderr",
     "output_type": "stream",
     "text": [
      "10:14:42 - cmdstanpy - INFO - Chain [1] start processing\n",
      "10:14:42 - cmdstanpy - INFO - Chain [1] done processing\n"
     ]
    },
    {
     "name": "stdout",
     "output_type": "stream",
     "text": [
      "\n",
      "--- Forecasting for Product: P029, Location: L05 ---\n"
     ]
    },
    {
     "name": "stderr",
     "output_type": "stream",
     "text": [
      "10:14:43 - cmdstanpy - INFO - Chain [1] start processing\n",
      "10:14:43 - cmdstanpy - INFO - Chain [1] done processing\n"
     ]
    },
    {
     "name": "stdout",
     "output_type": "stream",
     "text": [
      "\n",
      "--- Forecasting for Product: P029, Location: L06 ---\n"
     ]
    },
    {
     "name": "stderr",
     "output_type": "stream",
     "text": [
      "10:14:44 - cmdstanpy - INFO - Chain [1] start processing\n",
      "10:14:46 - cmdstanpy - INFO - Chain [1] done processing\n"
     ]
    },
    {
     "name": "stdout",
     "output_type": "stream",
     "text": [
      "\n",
      "--- Forecasting for Product: P029, Location: L07 ---\n"
     ]
    },
    {
     "name": "stderr",
     "output_type": "stream",
     "text": [
      "10:14:47 - cmdstanpy - INFO - Chain [1] start processing\n",
      "10:14:48 - cmdstanpy - INFO - Chain [1] done processing\n"
     ]
    },
    {
     "name": "stdout",
     "output_type": "stream",
     "text": [
      "\n",
      "--- Forecasting for Product: P029, Location: L08 ---\n"
     ]
    }
   ],
   "source": [
    "# demand_forecaster.py - FINAL attempt to fix ValueError: Input contains NaN.\n",
    "\n",
    "import pandas as pd\n",
    "from prophet import Prophet\n",
    "from sklearn.metrics import mean_absolute_error, mean_squared_error\n",
    "import numpy as np\n",
    "import os\n",
    "import warnings\n",
    "\n",
    "# Suppress specific Prophet warnings if they become too verbose\n",
    "warnings.filterwarnings('ignore', category=FutureWarning)\n",
    "warnings.filterwarnings('ignore', category=UserWarning, module='prophet')\n",
    "\n",
    "\n",
    "class DemandForecaster:\n",
    "    def __init__(self, data_path='data/', output_path='dashboard_data/'):\n",
    "        self.data_path = data_path\n",
    "        self.output_path = output_path\n",
    "        self.demand_df = None\n",
    "        self._load_data()\n",
    "        \n",
    "        # Ensure output directory exists\n",
    "        if not os.path.exists(self.output_path):\n",
    "            os.makedirs(self.output_path)\n",
    "\n",
    "    def _load_data(self):\n",
    "        \"\"\"Loads historical demand data with robust NaN handling.\"\"\"\n",
    "        try:\n",
    "            # Read CSV without initial date parsing to handle errors manually\n",
    "            self.demand_df = pd.read_csv(f\"{self.data_path}demand.csv\")\n",
    "            \n",
    "            original_rows = len(self.demand_df)\n",
    "\n",
    "            # --- Step 1: Robust Type Conversion and Initial NaN Handling ---\n",
    "            # Convert 'date' column to datetime, coercing errors to NaT (Not a Time)\n",
    "            self.demand_df['date'] = pd.to_datetime(self.demand_df['date'], errors='coerce')\n",
    "            \n",
    "            # Convert 'units_sold' to numeric, coercing errors to NaN, then fill NaN with 0\n",
    "            # This ensures 'units_sold' is numeric and has no NaNs.\n",
    "            self.demand_df['units_sold'] = pd.to_numeric(self.demand_df['units_sold'], errors='coerce').fillna(0)\n",
    "            \n",
    "            # Drop rows where 'date' became NaT during conversion\n",
    "            # or if 'product_id'/'location_id' are missing (though they shouldn't be from generator)\n",
    "            self.demand_df.dropna(subset=['date', 'product_id', 'location_id'], inplace=True)\n",
    "            \n",
    "            if len(self.demand_df) != original_rows:\n",
    "                print(f\"WARNING: Dropped {original_rows - len(self.demand_df)} rows with invalid dates or missing IDs during initial load cleanup.\")\n",
    "\n",
    "            # Final cast of units_sold to int (after all NaN handling)\n",
    "            self.demand_df['units_sold'] = self.demand_df['units_sold'].astype(int)\n",
    "            \n",
    "            print(\"DemandForecaster: Historical demand data loaded and initially cleaned successfully.\")\n",
    "            print(f\"Loaded {len(self.demand_df)} rows of demand data.\")\n",
    "\n",
    "        except FileNotFoundError as e:\n",
    "            print(f\"Error loading demand data: {e}. Make sure data_generator.py has been run and CSVs are in '{self.data_path}'\")\n",
    "            raise\n",
    "        except Exception as e:\n",
    "            print(f\"An unexpected error occurred during data loading: {e}\")\n",
    "            raise\n",
    "\n",
    "    def _calculate_accuracy_metrics(self, actual, predicted):\n",
    "        \"\"\"Calculates MAE, RMSE, and MAPE.\"\"\"\n",
    "        actual = np.array(actual)\n",
    "        predicted = np.array(predicted)\n",
    "\n",
    "        # Handle cases where actual demand might be zero to avoid division by zero in MAPE\n",
    "        # For MAPE, we only consider points where actual > 0\n",
    "        non_zero_actual_indices = actual > 0\n",
    "        \n",
    "        mae = mean_absolute_error(actual, predicted)\n",
    "        rmse = np.sqrt(mean_squared_error(actual, predicted))\n",
    "        \n",
    "        if np.sum(non_zero_actual_indices) > 0:\n",
    "            mape = np.mean(np.abs((actual[non_zero_actual_indices] - predicted[non_zero_actual_indices]) / actual[non_zero_actual_indices])) * 100\n",
    "        else:\n",
    "            mape = np.nan # Or 0 if there's no actual demand to compare against\n",
    "\n",
    "        return mae, rmse, mape\n",
    "\n",
    "    def forecast_all_demands(self, forecast_horizon_days=90, validation_days=30):\n",
    "        \"\"\"\n",
    "        Iterates through all product-location combinations, forecasts demand,\n",
    "        and calculates accuracy.\n",
    "        \"\"\"\n",
    "        all_forecasts = []\n",
    "        all_accuracy_metrics = []\n",
    "\n",
    "        # Ensure the main demand_df is not empty after initial loading and cleaning\n",
    "        if self.demand_df.empty:\n",
    "            print(\"No valid demand data to process after initial loading. Exiting forecast.\")\n",
    "            return pd.DataFrame(), pd.DataFrame()\n",
    "\n",
    "        unique_combinations = self.demand_df[['product_id', 'location_id']].drop_duplicates()\n",
    "        print(f\"Found {len(unique_combinations)} unique product-location combinations to forecast.\")\n",
    "\n",
    "        for index, row in unique_combinations.iterrows():\n",
    "            product_id = row['product_id']\n",
    "            location_id = row['location_id']\n",
    "\n",
    "            print(f\"\\n--- Forecasting for Product: {product_id}, Location: {location_id} ---\")\n",
    "\n",
    "            # --- Step 2: Extract and Clean Time Series Data for Current Combination ---\n",
    "            ts_data = self.demand_df[\n",
    "                (self.demand_df['product_id'] == product_id) &\n",
    "                (self.demand_df['location_id'] == location_id)\n",
    "            ].copy() # Always work on a copy to avoid SettingWithCopyWarning\n",
    "\n",
    "            # Rename columns to Prophet's expected 'ds' and 'y'\n",
    "            ts_data = ts_data.rename(columns={'date': 'ds', 'units_sold': 'y'})\n",
    "            \n",
    "            # --- Aggressive NaN Removal for ds and y (Prophet's core columns) ---\n",
    "            original_ts_len = len(ts_data)\n",
    "            ts_data.dropna(subset=['ds', 'y'], inplace=True) # Ensure NO NaNs in ds or y\n",
    "            \n",
    "            if len(ts_data) != original_ts_len:\n",
    "                print(f\"  Dropped {original_ts_len - len(ts_data)} rows with NaNs in 'ds' or 'y' for P{product_id} L{location_id}.\")\n",
    "\n",
    "            # Ensure 'ds' is datetime and 'y' is float (Prophet's strict requirement)\n",
    "            ts_data['ds'] = pd.to_datetime(ts_data['ds'], errors='coerce')\n",
    "            ts_data['y'] = pd.to_numeric(ts_data['y'], errors='coerce')\n",
    "\n",
    "            # Final dropna after type coercion, just in case something new turned into NaN\n",
    "            original_ts_len = len(ts_data) # Re-check length\n",
    "            ts_data.dropna(subset=['ds', 'y'], inplace=True)\n",
    "            if len(ts_data) != original_ts_len:\n",
    "                print(f\"  Dropped {original_ts_len - len(ts_data)} rows after final type coercion cleanup for P{product_id} L{location_id}.\")\n",
    "            \n",
    "            if ts_data.empty or len(ts_data) < 2: # Prophet needs at least 2 data points to fit\n",
    "                print(f\"  Insufficient valid historical data for P{product_id} L{location_id} ({len(ts_data)} points). Skipping forecast for this combination.\")\n",
    "                # Add NaN accuracy metrics if no forecast is possible\n",
    "                all_accuracy_metrics.append({'product_id': product_id, 'location_id': location_id, 'Metric': 'MAE', 'Value': np.nan})\n",
    "                all_accuracy_metrics.append({'product_id': product_id, 'location_id': location_id, 'Metric': 'RMSE', 'Value': np.nan})\n",
    "                all_accuracy_metrics.append({'product_id': product_id, 'location_id': location_id, 'Metric': 'MAPE', 'Value': np.nan})\n",
    "                continue # Skip to the next product-location combination\n",
    "\n",
    "            # Sort data by date for Prophet\n",
    "            ts_data = ts_data.sort_values(by='ds').reset_index(drop=True)\n",
    "\n",
    "            # --- Step 3: Validation Split ---\n",
    "            # Ensure sufficient data points for validation period\n",
    "            # Adjusted logic for validation_days_actual to ensure train_data is not too small\n",
    "            # Need at least 2 points for validation if validation_days_actual > 0\n",
    "            # And at least 2 points for training\n",
    "            if len(ts_data) < validation_days + 4: # Small buffer for both train and validation\n",
    "                validation_days_actual = max(0, len(ts_data) - 4) # Ensure train_data has at least 2-3 points\n",
    "            else:\n",
    "                validation_days_actual = validation_days\n",
    "\n",
    "            train_data = ts_data[ts_data['ds'] < ts_data['ds'].max() - pd.Timedelta(days=validation_days_actual)].copy()\n",
    "            validation_data = ts_data[ts_data['ds'] >= ts_data['ds'].max() - pd.Timedelta(days=validation_days_actual)].copy()\n",
    "\n",
    "            # --- Step 4: Model Training & Accuracy Calculation ---\n",
    "            current_accuracy_metrics = [] # To store metrics for this specific combination\n",
    "\n",
    "            if train_data.empty or len(train_data) < 2:\n",
    "                print(f\"  Train data became too small ({len(train_data)} points) for P{product_id} L{location_id} after split. Using full ts_data for fit, skipping accuracy calculation.\")\n",
    "                # Fallback: Fit on full clean data if train_data is insufficient for a proper split\n",
    "                model = Prophet(yearly_seasonality=True, weekly_seasonality=True, daily_seasonality=False)\n",
    "                try:\n",
    "                    model.fit(ts_data) # Fit on all available, cleaned data\n",
    "                except Exception as e:\n",
    "                    print(f\"    Prophet fit failed for P{product_id} L{location_id} on full data: {e}. Skipping forecast.\")\n",
    "                    # Add NaN accuracy metrics if fit failed\n",
    "                    current_accuracy_metrics.extend([\n",
    "                        {'product_id': product_id, 'location_id': location_id, 'Metric': 'MAE', 'Value': np.nan},\n",
    "                        {'product_id': product_id, 'location_id': location_id, 'Metric': 'RMSE', 'Value': np.nan},\n",
    "                        {'product_id': product_id, 'location_id': location_id, 'Metric': 'MAPE', 'Value': np.nan}\n",
    "                    ])\n",
    "                    all_accuracy_metrics.extend(current_accuracy_metrics)\n",
    "                    continue # Skip to next combination\n",
    "\n",
    "                # Add NaN accuracy metrics as no proper validation was done\n",
    "                current_accuracy_metrics.extend([\n",
    "                    {'product_id': product_id, 'location_id': location_id, 'Metric': 'MAE', 'Value': np.nan},\n",
    "                    {'product_id': product_id, 'location_id': location_id, 'Metric': 'RMSE', 'Value': np.nan},\n",
    "                    {'product_id': product_id, 'location_id': location_id, 'Metric': 'MAPE', 'Value': np.nan}\n",
    "                ])\n",
    "                \n",
    "            else: # Sufficient train data for a proper validation split\n",
    "                model = Prophet(yearly_seasonality=True, weekly_seasonality=True, daily_seasonality=False)\n",
    "                try:\n",
    "                    model.fit(train_data)\n",
    "                except Exception as e:\n",
    "                    print(f\"    Prophet fit failed for P{product_id} L{location_id}: {e}. Skipping accuracy & forecast for this combination.\")\n",
    "                    # Add NaN accuracy metrics if fit failed\n",
    "                    current_accuracy_metrics.extend([\n",
    "                        {'product_id': product_id, 'location_id': location_id, 'Metric': 'MAE', 'Value': np.nan},\n",
    "                        {'product_id': product_id, 'location_id': location_id, 'Metric': 'RMSE', 'Value': np.nan},\n",
    "                        {'product_id': product_id, 'location_id': location_id, 'Metric': 'MAPE', 'Value': np.nan}\n",
    "                    ])\n",
    "                    all_accuracy_metrics.extend(current_accuracy_metrics)\n",
    "                    continue # Skip to next combination\n",
    "\n",
    "                # Predict over the validation period using the trained model\n",
    "                # Make future_dataframe *only for the validation period's dates*\n",
    "                if not validation_data.empty: # Only predict if there's actual validation data\n",
    "                    future_validation = model.make_future_dataframe(periods=validation_days_actual, include_history=False)\n",
    "                    future_validation = future_validation[future_validation['ds'].isin(validation_data['ds'])].copy() # Filter to match validation dates\n",
    "                    \n",
    "                    if future_validation.empty or 'ds' not in future_validation.columns:\n",
    "                        print(f\"    Validation dataframe for prediction empty/invalid for P{product_id} L{location_id}. Skipping accuracy calculation.\")\n",
    "                        current_accuracy_metrics.extend([\n",
    "                            {'product_id': product_id, 'location_id': location_id, 'Metric': 'MAE', 'Value': np.nan},\n",
    "                            {'product_id': product_id, 'location_id': location_id, 'Metric': 'RMSE', 'Value': np.nan},\n",
    "                            {'product_id': product_id, 'location_id': location_id, 'Metric': 'MAPE', 'Value': np.nan}\n",
    "                        ])\n",
    "                    else:\n",
    "                        forecast_validation_df = model.predict(future_validation)\n",
    "                        \n",
    "                        # Align actuals and predictions carefully\n",
    "                        actual_validation_aligned = validation_data.set_index('ds').reindex(forecast_validation_df['ds'])['y'].values\n",
    "                        predicted_validation_aligned = forecast_validation_df['yhat'].values\n",
    "\n",
    "                        # Calculate accuracy metrics, only if there are valid points for comparison\n",
    "                        if np.sum(~np.isnan(actual_validation_aligned)) > 0 and np.sum(~np.isnan(predicted_validation_aligned)) > 0:\n",
    "                            mae, rmse, mape = self._calculate_accuracy_metrics(\n",
    "                                actual_validation_aligned[~np.isnan(actual_validation_aligned)], \n",
    "                                predicted_validation_aligned[~np.isnan(actual_validation_aligned)] # Only compare where actual is not NaN\n",
    "                            )\n",
    "                            current_accuracy_metrics.extend([\n",
    "                                {'product_id': product_id, 'location_id': location_id, 'Metric': 'MAE', 'Value': mae},\n",
    "                                {'product_id': product_id, 'location_id': location_id, 'Metric': 'RMSE', 'Value': rmse},\n",
    "                                {'product_id': product_id, 'location_id': location_id, 'Metric': 'MAPE', 'Value': mape}\n",
    "                            ])\n",
    "                        else:\n",
    "                            print(f\"  Not enough valid data in validation set for P{product_id} L{location_id} to calculate accuracy after alignment. Skipping.\")\n",
    "                            current_accuracy_metrics.extend([\n",
    "                                {'product_id': product_id, 'location_id': location_id, 'Metric': 'MAE', 'Value': np.nan},\n",
    "                                {'product_id': product_id, 'location_id': location_id, 'Metric': 'RMSE', 'Value': np.nan},\n",
    "                                {'product_id': product_id, 'location_id': location_id, 'Metric': 'MAPE', 'Value': np.nan}\n",
    "                            ])\n",
    "                else:\n",
    "                    print(f\"  No validation data available for P{product_id} L{location_id}. Skipping accuracy calculation.\")\n",
    "                    current_accuracy_metrics.extend([\n",
    "                        {'product_id': product_id, 'location_id': location_id, 'Metric': 'MAE', 'Value': np.nan},\n",
    "                        {'product_id': product_id, 'location_id': location_id, 'Metric': 'RMSE', 'Value': np.nan},\n",
    "                        {'product_id': product_id, 'location_id': location_id, 'Metric': 'MAPE', 'Value': np.nan}\n",
    "                    ])\n",
    "            \n",
    "            all_accuracy_metrics.extend(current_accuracy_metrics) # Add metrics for this combo\n",
    "\n",
    "            # --- Step 5: Future Forecasting ---\n",
    "            # Make future_dataframe from the *full* ts_data (train + validation) to forecast forward\n",
    "            future_forecast = model.make_future_dataframe(periods=forecast_horizon_days, include_history=False)\n",
    "            \n",
    "            if future_forecast.empty or 'ds' not in future_forecast.columns:\n",
    "                print(f\"    Future forecast dataframe empty/invalid for P{product_id} L{location_id}. Skipping forecast output.\")\n",
    "                continue\n",
    "\n",
    "            # This is where Prophet predicts, make sure future_forecast is clean\n",
    "            forecast_result = model.predict(future_forecast)\n",
    "\n",
    "            # Store results\n",
    "            for_save = forecast_result[['ds', 'yhat', 'yhat_lower', 'yhat_upper']].copy() # Include confidence intervals\n",
    "            for_save.rename(columns={'ds': 'forecast_date', 'yhat': 'forecasted_units'}, inplace=True)\n",
    "            for_save['product_id'] = product_id\n",
    "            for_save['location_id'] = location_id\n",
    "            \n",
    "            # Ensure non-negative integers for forecasted units\n",
    "            for_save['forecasted_units'] = for_save['forecasted_units'].apply(lambda x: max(0, int(np.round(x))))\n",
    "            for_save['yhat_lower'] = for_save['yhat_lower'].apply(lambda x: max(0, int(np.round(x))))\n",
    "            for_save['yhat_upper'] = for_save['yhat_upper'].apply(lambda x: max(0, int(np.round(x))))\n",
    "\n",
    "            all_forecasts.append(for_save)\n",
    "        \n",
    "        # Concatenate all results into DataFrames\n",
    "        final_forecasts_df = pd.concat(all_forecasts, ignore_index=True) if all_forecasts else pd.DataFrame()\n",
    "        final_accuracy_metrics_df = pd.DataFrame(all_accuracy_metrics)\n",
    "\n",
    "        return final_forecasts_df, final_accuracy_metrics_df\n",
    "\n",
    "    def save_forecasts_and_metrics(self, forecasts_df, accuracy_metrics_df):\n",
    "        \"\"\"Saves the generated dataframes to CSV.\"\"\"\n",
    "        if not forecasts_df.empty:\n",
    "            forecasts_df.to_csv(f\"{self.output_path}fact_demand_forecasts.csv\", index=False)\n",
    "            print(f\"Forecasts saved to {self.output_path}fact_demand_forecasts.csv\")\n",
    "        else:\n",
    "            print(\"No forecasts to save.\")\n",
    "\n",
    "        if not accuracy_metrics_df.empty:\n",
    "            accuracy_metrics_df.to_csv(f\"{self.output_path}metrics_forecast_accuracy.csv\", index=False)\n",
    "            print(f\"Accuracy metrics saved to {self.output_path}metrics_forecast_accuracy.csv\")\n",
    "        else:\n",
    "            print(\"No accuracy metrics to save.\")\n",
    "\n",
    "# --- Main execution block for demonstration ---\n",
    "if __name__ == \"__main__\":\n",
    "    forecaster = DemandForecaster()\n",
    "\n",
    "    # Define forecast horizon and validation period\n",
    "    FORECAST_HORIZON_DAYS = 90 # Predict 90 days into the future\n",
    "    VALIDATION_DAYS = 30 # Use the last 30 days of historical data for accuracy validation\n",
    "\n",
    "    forecasts, accuracy_metrics = forecaster.forecast_all_demands(\n",
    "        forecast_horizon_days=FORECAST_HORIZON_DAYS,\n",
    "        validation_days=VALIDATION_DAYS\n",
    "    )\n",
    "\n",
    "    forecaster.save_forecasts_and_metrics(forecasts, accuracy_metrics)\n",
    "\n",
    "    print(\"\\n--- Sample Forecasts ---\")\n",
    "    if not forecasts.empty:\n",
    "        print(forecasts.head())\n",
    "    else:\n",
    "        print(\"No forecasts generated.\")\n",
    "\n",
    "    print(\"\\n--- Sample Accuracy Metrics ---\")\n",
    "    if not accuracy_metrics.empty:\n",
    "        print(accuracy_metrics.head())\n",
    "    else:\n",
    "        print(\"No accuracy metrics generated.\")"
   ]
  },
  {
   "cell_type": "code",
   "execution_count": null,
   "id": "bb367c70-bd3f-4c14-9191-fbc795757e62",
   "metadata": {},
   "outputs": [],
   "source": []
  }
 ],
 "metadata": {
  "kernelspec": {
   "display_name": "Python 3 (ipykernel)",
   "language": "python",
   "name": "python3"
  },
  "language_info": {
   "codemirror_mode": {
    "name": "ipython",
    "version": 3
   },
   "file_extension": ".py",
   "mimetype": "text/x-python",
   "name": "python",
   "nbconvert_exporter": "python",
   "pygments_lexer": "ipython3",
   "version": "3.11.4"
  }
 },
 "nbformat": 4,
 "nbformat_minor": 5
}
